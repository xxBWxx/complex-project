{
 "cells": [
  {
   "cell_type": "code",
   "execution_count": 1,
   "metadata": {},
   "outputs": [],
   "source": [
    "import binarytree\n",
    "import random\n",
    "import time\n",
    "import numpy as np\n",
    "import matplotlib.pyplot as plt\n",
    "\n",
    "import CartesianTree as PROJET"
   ]
  },
  {
   "cell_type": "markdown",
   "metadata": {},
   "source": [
    "---"
   ]
  },
  {
   "cell_type": "markdown",
   "metadata": {},
   "source": [
    "# PROJET COMPLEX\n",
    "## TARIK EGE EKEN - 21110611 - ANDROIDE\n",
    "## BARAN AÇIKEL   -          - ANDROIDE"
   ]
  },
  {
   "cell_type": "markdown",
   "metadata": {},
   "source": [
    "---"
   ]
  },
  {
   "cell_type": "markdown",
   "metadata": {},
   "source": [
    "---"
   ]
  },
  {
   "cell_type": "markdown",
   "metadata": {},
   "source": [
    "# EXERCISE 1 - STRUCTURE AND PROPERTIES"
   ]
  },
  {
   "cell_type": "markdown",
   "metadata": {},
   "source": [
    "---"
   ]
  },
  {
   "cell_type": "markdown",
   "metadata": {},
   "source": [
    "## 1.A - 1.D, the creation of the structure are done in CartesianTree.py"
   ]
  },
  {
   "cell_type": "code",
   "execution_count": 2,
   "metadata": {},
   "outputs": [
    {
     "name": "stdout",
     "output_type": "stream",
     "text": [
      "Node(A, 5)\n",
      "Node(B, 3)\n",
      "Node(C, 8)\n",
      "Node(D, 2)\n",
      "Node(E, 6)\n",
      "Node(F, 7)\n",
      "Node(G, 9)\n",
      "Node(H, 1)\n",
      "Node(I, 10)\n",
      "Node(J, 12)\n"
     ]
    }
   ],
   "source": [
    "testnodes = \"(A : 5),(B : 3),(C : 8),(D : 2),(E : 6),(F : 7),(G : 9),(H : 1),(I : 10),(J : 12)\"\n",
    "nodes = PROJET.nodes_from_string(testnodes)\n",
    "PROJET.print_nodes(nodes)"
   ]
  },
  {
   "cell_type": "markdown",
   "metadata": {},
   "source": [
    "---"
   ]
  },
  {
   "cell_type": "markdown",
   "metadata": {},
   "source": [
    "## 1.B - Creating a BST tree with the order (1, 2, 3, 5, 6, 7, 8, 9, 10, 12) for the priorities"
   ]
  },
  {
   "cell_type": "code",
   "execution_count": 3,
   "metadata": {},
   "outputs": [
    {
     "name": "stdout",
     "output_type": "stream",
     "text": [
      "\n",
      "                         ________________________(H, 1)___\n",
      "                        /                                 \\\n",
      "           __________(D, 2)__                           (I, 10)___\n",
      "          /                  \\                                    \\\n",
      "    ___(B, 3)__             (E, 6)__                            (J, 12)\n",
      "   /           \\                    \\\n",
      "(A, 5)        (C, 8)               (F, 7)__\n",
      "                                           \\\n",
      "                                          (G, 9)\n",
      "\n"
     ]
    }
   ],
   "source": [
    "testnodesBST = \"(H : 1),(D : 2),(B : 3),(A : 5),(E : 6),(F : 7),(C : 8),(G : 9),(I : 10),(J : 12)\"\n",
    "nodesBST = PROJET.nodes_from_string(testnodesBST)\n",
    "PROJET.print_tree(PROJET.create_tree_BST(nodesBST))"
   ]
  },
  {
   "cell_type": "markdown",
   "metadata": {},
   "source": [
    "### We see that when the priorities are sorted in ascending order, a BST tree will be identical to a cartesian tree"
   ]
  },
  {
   "cell_type": "markdown",
   "metadata": {},
   "source": [
    "---"
   ]
  },
  {
   "cell_type": "markdown",
   "metadata": {},
   "source": [
    "## 1.E Manually creating the tree from the nodes given in 1.A "
   ]
  },
  {
   "cell_type": "code",
   "execution_count": 4,
   "metadata": {},
   "outputs": [
    {
     "name": "stdout",
     "output_type": "stream",
     "text": [
      "\n",
      "(H, 1)\n",
      "\n"
     ]
    }
   ],
   "source": [
    "root = nodes[7] # (H, 1) is the root, since it has the smallest priority value\n",
    "PROJET.print_tree(root)"
   ]
  },
  {
   "cell_type": "markdown",
   "metadata": {},
   "source": [
    "Adding (D, 2) to the tree, as a left child of (H, 1), since it has a smaller key value, but a larger priority value"
   ]
  },
  {
   "cell_type": "code",
   "execution_count": 5,
   "metadata": {},
   "outputs": [
    {
     "name": "stdout",
     "output_type": "stream",
     "text": [
      "\n",
      "    ___(H, 1)\n",
      "   /\n",
      "(D, 2)\n",
      "\n"
     ]
    }
   ],
   "source": [
    "root.left = nodes[3] # D\n",
    "PROJET.print_tree(root)"
   ]
  },
  {
   "cell_type": "markdown",
   "metadata": {},
   "source": [
    "Adding (B, 3) to the tree, as a left child of (D, 2), since it has a smaller key value"
   ]
  },
  {
   "cell_type": "code",
   "execution_count": 6,
   "metadata": {},
   "outputs": [
    {
     "name": "stdout",
     "output_type": "stream",
     "text": [
      "\n",
      "           ___(H, 1)\n",
      "          /\n",
      "    ___(D, 2)\n",
      "   /\n",
      "(B, 3)\n",
      "\n"
     ]
    }
   ],
   "source": [
    "root.left.left = nodes[1] # B\n",
    "PROJET.print_tree(root)"
   ]
  },
  {
   "cell_type": "markdown",
   "metadata": {},
   "source": [
    "Adding all the nodes in their respective places...."
   ]
  },
  {
   "cell_type": "code",
   "execution_count": 7,
   "metadata": {},
   "outputs": [
    {
     "name": "stdout",
     "output_type": "stream",
     "text": [
      "\n",
      "                         ________________________(H, 1)___\n",
      "                        /                                 \\\n",
      "           __________(D, 2)__                           (I, 10)___\n",
      "          /                  \\                                    \\\n",
      "    ___(B, 3)__             (E, 6)__                            (J, 12)\n",
      "   /           \\                    \\\n",
      "(A, 5)        (C, 8)               (F, 7)__\n",
      "                                           \\\n",
      "                                          (G, 9)\n",
      "\n"
     ]
    }
   ],
   "source": [
    "root.left.left.left = nodes[0] # A, left of B\n",
    "root.left.left.right = nodes[2] # C, right of B\n",
    "root.left.right = nodes[4] # E, right of D\n",
    "root.left.right.right = nodes[5] # F, right of E\n",
    "root.left.right.right.right = nodes[6] # G, right of F\n",
    "root.right = nodes[8] # I, right of H\n",
    "root.right.right = nodes[9] # J, right of I\n",
    "PROJET.print_tree(root)"
   ]
  },
  {
   "cell_type": "code",
   "execution_count": 39,
   "metadata": {},
   "outputs": [
    {
     "name": "stdout",
     "output_type": "stream",
     "text": [
      "\n",
      "                         ________________________(H, 1)___\n",
      "                        /                                 \\\n",
      "           __________(D, 2)__                           (I, 10)___\n",
      "          /                  \\                                    \\\n",
      "    ___(B, 3)__             (E, 6)__                            (J, 12)\n",
      "   /           \\                    \\\n",
      "(A, 5)        (C, 8)               (F, 7)__\n",
      "                                           \\\n",
      "                                          (G, 9)\n",
      "\n"
     ]
    }
   ],
   "source": [
    "testnodes = \"(A : 5),(B : 3),(C : 8),(D : 2),(E : 6),(F : 7),(G : 9),(H : 1),(I : 10),(J : 12)\"\n",
    "nodes = PROJET.nodes_from_string(testnodes)\n",
    "root = nodes[7] # (H, 1) is the root, since it has the smallest priority value  1\n",
    "root.left = nodes[3] # D, left of H                                             2                   \n",
    "root.left.left = nodes[1] # B, left of D                                        3\n",
    "root.left.left.left = nodes[0] # A, left of B                                   5\n",
    "root.left.right = nodes[4] # E, right of D                                      6\n",
    "root.left.right.right = nodes[5] # F, right of E                                7\n",
    "root.left.left.right = nodes[2] # C, right of B                                 8\n",
    "root.left.right.right.right = nodes[6] # G, right of F                          9\n",
    "root.right = nodes[8] # I, right of H                                          10\n",
    "root.right.right = nodes[9] # J, right of I                                    12\n",
    "PROJET.print_tree(root)"
   ]
  },
  {
   "cell_type": "markdown",
   "metadata": {},
   "source": [
    "---"
   ]
  },
  {
   "cell_type": "markdown",
   "metadata": {},
   "source": [
    "# EXERCISE 2 - SEARCHING ALGORITHM"
   ]
  },
  {
   "cell_type": "markdown",
   "metadata": {},
   "source": [
    "---"
   ]
  },
  {
   "cell_type": "markdown",
   "metadata": {},
   "source": [
    "## The search algorithm is identical to the search algorithm in a binary search tree, since the priority values are only used to construct and balance the tree, and do not affect the search algorithm"
   ]
  },
  {
   "cell_type": "code",
   "execution_count": 8,
   "metadata": {},
   "outputs": [
    {
     "name": "stdout",
     "output_type": "stream",
     "text": [
      "Node(A, 5)\n",
      "Node(F, 7)\n",
      "Node(I, 10)\n"
     ]
    }
   ],
   "source": [
    "print(PROJET.find_node(root, \"A\"))\n",
    "print(PROJET.find_node(root, \"F\"))\n",
    "print(PROJET.find_node(root, \"I\"))"
   ]
  },
  {
   "cell_type": "code",
   "execution_count": 9,
   "metadata": {},
   "outputs": [
    {
     "name": "stdout",
     "output_type": "stream",
     "text": [
      "Find node with key A\n",
      "\n",
      "                             ________________________(H, 1)___\n",
      "                            /                                 \\\n",
      "               __________(D, 2)__                           (I, 10)___\n",
      "              /                  \\                                    \\\n",
      "      _____(B, 3)__             (E, 6)__                            (J, 12)\n",
      "     /             \\                    \\\n",
      "**(A, 5)**        (C, 8)               (F, 7)__\n",
      "                                               \\\n",
      "                                              (G, 9)\n",
      "\n"
     ]
    }
   ],
   "source": [
    "print(\"Find node with key A\")\n",
    "print(PROJET.convert_to_printable(root, highlighted_node=PROJET.find_node(root, \"A\")))"
   ]
  },
  {
   "cell_type": "code",
   "execution_count": 10,
   "metadata": {},
   "outputs": [
    {
     "name": "stdout",
     "output_type": "stream",
     "text": [
      "Find node with key F\n",
      "\n",
      "                         ____________________________(H, 1)___\n",
      "                        /                                     \\\n",
      "           __________(D, 2)__                               (I, 10)___\n",
      "          /                  \\                                        \\\n",
      "    ___(B, 3)__             (E, 6)____                              (J, 12)\n",
      "   /           \\                      \\\n",
      "(A, 5)        (C, 8)               **(F, 7)**__\n",
      "                                               \\\n",
      "                                              (G, 9)\n",
      "\n"
     ]
    }
   ],
   "source": [
    "print(\"Find node with key F\")\n",
    "print(PROJET.convert_to_printable(root, highlighted_node=PROJET.find_node(root, \"F\")))"
   ]
  },
  {
   "cell_type": "markdown",
   "metadata": {},
   "source": [
    "---"
   ]
  },
  {
   "cell_type": "markdown",
   "metadata": {},
   "source": [
    "## Complexity of the search algorithm is O(log(n))"
   ]
  },
  {
   "cell_type": "markdown",
   "metadata": {},
   "source": [
    "---"
   ]
  },
  {
   "cell_type": "markdown",
   "metadata": {},
   "source": [
    "# EXERCISE 3 - INSERTION ALGORITHM"
   ]
  },
  {
   "cell_type": "markdown",
   "metadata": {},
   "source": [
    "---"
   ]
  },
  {
   "cell_type": "markdown",
   "metadata": {},
   "source": [
    "### 3.A - Demonstration that the simple insertion algorithm of a BST does not work for Cartesian Trees using the example in 1.A"
   ]
  },
  {
   "cell_type": "code",
   "execution_count": 11,
   "metadata": {},
   "outputs": [
    {
     "name": "stdout",
     "output_type": "stream",
     "text": [
      "\n",
      "(A, 5)__\n",
      "        \\\n",
      "       (B, 3)__\n",
      "               \\\n",
      "              (C, 8)__\n",
      "                      \\\n",
      "                     (D, 2)__\n",
      "                             \\\n",
      "                            (E, 6)__\n",
      "                                    \\\n",
      "                                   (F, 7)__\n",
      "                                           \\\n",
      "                                          (G, 9)__\n",
      "                                                  \\\n",
      "                                                 (H, 1)___\n",
      "                                                          \\\n",
      "                                                        (I, 10)___\n",
      "                                                                  \\\n",
      "                                                                (J, 12)\n",
      "\n"
     ]
    }
   ],
   "source": [
    "testnodes = \"(A : 5),(B : 3),(C : 8),(D : 2),(E : 6),(F : 7),(G : 9),(H : 1),(I : 10),(J : 12)\"\n",
    "nodes = PROJET.nodes_from_string(testnodes)\n",
    "rootBST = PROJET.create_tree_BST(nodes)\n",
    "PROJET.print_tree(rootBST)"
   ]
  },
  {
   "cell_type": "markdown",
   "metadata": {},
   "source": [
    "### If we create a BST from the order given in the 1.A example we will simply get a straight 1D linked list, but for a more subtle problem, if we decide to add a node to the correctly constructed cartesian tree, in the order:\n",
    "\n",
    "```\n",
    "+ (M, 11)\n",
    "```\n",
    "\n",
    "The tree will form in a way that doesn't satisfy the cartesian tree property."
   ]
  },
  {
   "cell_type": "code",
   "execution_count": 12,
   "metadata": {},
   "outputs": [
    {
     "name": "stdout",
     "output_type": "stream",
     "text": [
      "\n",
      "                         ________________________(H, 1)___\n",
      "                        /                                 \\\n",
      "           __________(D, 2)__                           (I, 10)___\n",
      "          /                  \\                                    \\\n",
      "    ___(B, 3)__             (E, 6)__                            (J, 12)_____\n",
      "   /           \\                    \\                                       \\\n",
      "(A, 5)        (C, 8)               (F, 7)__                             **(M, 11)**\n",
      "                                           \\\n",
      "                                          (G, 9)\n",
      "\n"
     ]
    }
   ],
   "source": [
    "testnodesBST = \"(H : 1),(D : 2),(B : 3),(A : 5),(E : 6),(F : 7),(C : 8),(G : 9),(I : 10),(J : 12)\"\n",
    "root = PROJET.create_tree_BST(PROJET.nodes_from_string(testnodesBST))\n",
    "\n",
    "nodes3 = PROJET.nodes_from_string(\"(M : 11\")\n",
    "root = PROJET.BST_insert(root, nodes3[0])\n",
    "PROJET.print_tree(root, highlighted_node=PROJET.find_node(root, \"M\"))"
   ]
  },
  {
   "cell_type": "code",
   "execution_count": 13,
   "metadata": {},
   "outputs": [
    {
     "name": "stdout",
     "output_type": "stream",
     "text": [
      "Step 1: Inserting M under J (according to its key value, ignoring priority for now)\n",
      "\n",
      "(I, 10)___\n",
      "          \\\n",
      "        (J, 12)___\n",
      "                  \\\n",
      "                (M, 11)\n",
      "\n",
      "Step 2: Rotating left at J (to fix priority mismatch between J and M)\n",
      "\n",
      "\n",
      "(I, 10)___________\n",
      "                  \\\n",
      "             ___(M, 11)\n",
      "            /\n",
      "        (J, 12)\n",
      "\n"
     ]
    }
   ],
   "source": [
    "rot_root = PROJET.create_tree_BST(PROJET.nodes_from_string(\"(I : 10),(J : 12)\"))\n",
    "print(\"Step 1: Inserting M under J (according to its key value, ignoring priority for now)\")\n",
    "rot_root.right.right = PROJET.nodes_from_string(\"(M : 11)\")[0]\n",
    "PROJET.print_tree(rot_root)\n",
    "print(\"Step 2: Rotating left at J (to fix priority mismatch between J and M)\\n\")\n",
    "rot_root.right = PROJET.rotate_tree_left(rot_root.right)\n",
    "PROJET.print_tree(rot_root)"
   ]
  },
  {
   "cell_type": "markdown",
   "metadata": {},
   "source": [
    "### Adding those same 3 nodes using the correct insertion algorithm:"
   ]
  },
  {
   "cell_type": "code",
   "execution_count": 14,
   "metadata": {},
   "outputs": [
    {
     "name": "stdout",
     "output_type": "stream",
     "text": [
      "\n",
      "                         ________________________(H, 1)___\n",
      "                        /                                 \\\n",
      "           __________(D, 2)__                           (I, 10)___\n",
      "          /                  \\                                    \\\n",
      "    ___(B, 3)__             (E, 6)__                            (J, 12)___\n",
      "   /           \\                    \\                                     \\\n",
      "(A, 5)        (C, 8)               (F, 7)__                             (K, 15)___\n",
      "                                           \\                                      \\\n",
      "                                          (G, 9)                                (M, 20)\n",
      "\n",
      "Going one layer down on the right from H to I for L\n",
      "Going one layer down on the right from I to J for L\n",
      "Going one layer down on the right from J to K for L\n",
      "Going one layer down on the right from K to M for L\n",
      "Going one layer down to add L to the left of M\n",
      "Inserting L\n",
      "Rotating right at M for L\n",
      "Rotating left at K for L\n",
      "\n",
      "                         ________________________(H, 1)___\n",
      "                        /                                 \\\n",
      "           __________(D, 2)__                           (I, 10)___\n",
      "          /                  \\                                    \\\n",
      "    ___(B, 3)__             (E, 6)__                            (J, 12)___________\n",
      "   /           \\                    \\                                             \\\n",
      "(A, 5)        (C, 8)               (F, 7)__                                  ___(L, 14)___\n",
      "                                           \\                                /             \\\n",
      "                                          (G, 9)                        (K, 15)         (M, 20)\n",
      "\n"
     ]
    }
   ],
   "source": [
    "testnodes = \"(A : 5),(B : 3),(C : 8),(D : 2),(E : 6),(F : 7),(G : 9),(H : 1),(I : 10),(J : 12)\"\n",
    "nodes = PROJET.nodes_from_string(testnodes)\n",
    "root = PROJET.create_tree(nodes)\n",
    "nodes3 = PROJET.nodes_from_string(\"(M : 20),(K : 15),(L : 14)\")\n",
    "root = PROJET.insert_node(root, nodes3[0])\n",
    "root = PROJET.insert_node(root, nodes3[1])\n",
    "PROJET.print_tree(root)\n",
    "root = PROJET.insert_node(root, nodes3[2], verbose=True)\n",
    "PROJET.print_tree(root)"
   ]
  },
  {
   "cell_type": "markdown",
   "metadata": {},
   "source": [
    "---"
   ]
  },
  {
   "cell_type": "markdown",
   "metadata": {},
   "source": [
    "### 3.B - The complexity of the insertion algorithm is O(log(n))"
   ]
  },
  {
   "cell_type": "code",
   "execution_count": null,
   "metadata": {},
   "outputs": [],
   "source": []
  },
  {
   "cell_type": "markdown",
   "metadata": {},
   "source": [
    "---"
   ]
  },
  {
   "cell_type": "markdown",
   "metadata": {},
   "source": [
    "### 3.D - Using the correct insertion algorithm to construct the trees with the given orders"
   ]
  },
  {
   "cell_type": "code",
   "execution_count": 15,
   "metadata": {},
   "outputs": [
    {
     "name": "stdout",
     "output_type": "stream",
     "text": [
      "\n",
      "\tTEST 1 (SAME ORDER AS QUESTION 1.A)\n",
      "\n",
      "                         ________________________(H, 1)___\n",
      "                        /                                 \\\n",
      "           __________(D, 2)__                           (I, 10)___\n",
      "          /                  \\                                    \\\n",
      "    ___(B, 3)__             (E, 6)__                            (J, 12)\n",
      "   /           \\                    \\\n",
      "(A, 5)        (C, 8)               (F, 7)__\n",
      "                                           \\\n",
      "                                          (G, 9)\n",
      "\n"
     ]
    }
   ],
   "source": [
    "nodes3d1 = PROJET.nodes_from_string(\"(A : 5),(B : 3),(C : 8),(D : 2),(E : 6),(F : 7),(G : 9),(H : 1),(I : 10),(J : 12)\")\n",
    "nodes3d2 = PROJET.nodes_from_string(\"(H : 1),(G : 9),(A : 5),(B : 3),(D : 2),(F : 7),(C : 8),(J : 12),(I : 10),(E : 6)\")\n",
    "nodes3d3 = PROJET.nodes_from_string(\"(E : 6),(H : 1),(B : 3),(D : 2),(C : 8),(F : 7),(G : 9),(J : 12),(A : 5),(I : 10)\")\n",
    "\n",
    "print()\n",
    "print(\"\\tTEST 1 (SAME ORDER AS QUESTION 1.A)\")\n",
    "print(PROJET.convert_to_printable(PROJET.create_tree(nodes3d1)))"
   ]
  },
  {
   "cell_type": "code",
   "execution_count": 16,
   "metadata": {},
   "outputs": [
    {
     "name": "stdout",
     "output_type": "stream",
     "text": [
      "\tTEST 2 (NEW ORDER: H, G, A, B, D, F, C, J, I, E)\n",
      "\n",
      "                         ________________________(H, 1)___\n",
      "                        /                                 \\\n",
      "           __________(D, 2)__                           (I, 10)___\n",
      "          /                  \\                                    \\\n",
      "    ___(B, 3)__             (E, 6)__                            (J, 12)\n",
      "   /           \\                    \\\n",
      "(A, 5)        (C, 8)               (F, 7)__\n",
      "                                           \\\n",
      "                                          (G, 9)\n",
      "\n"
     ]
    }
   ],
   "source": [
    "print(\"\\tTEST 2 (NEW ORDER: H, G, A, B, D, F, C, J, I, E)\")\n",
    "print(PROJET.convert_to_printable(PROJET.create_tree(nodes3d2)))"
   ]
  },
  {
   "cell_type": "code",
   "execution_count": 17,
   "metadata": {},
   "outputs": [
    {
     "name": "stdout",
     "output_type": "stream",
     "text": [
      "\tTEST 3 (NEW ORDER: E, H, B, D, C, F, G, J, A, I)\n",
      "\n",
      "                         ________________________(H, 1)___\n",
      "                        /                                 \\\n",
      "           __________(D, 2)__                           (I, 10)___\n",
      "          /                  \\                                    \\\n",
      "    ___(B, 3)__             (E, 6)__                            (J, 12)\n",
      "   /           \\                    \\\n",
      "(A, 5)        (C, 8)               (F, 7)__\n",
      "                                           \\\n",
      "                                          (G, 9)\n",
      "\n"
     ]
    }
   ],
   "source": [
    "print(\"\\tTEST 3 (NEW ORDER: E, H, B, D, C, F, G, J, A, I)\")\n",
    "print(PROJET.convert_to_printable(PROJET.create_tree(nodes3d3)))"
   ]
  },
  {
   "cell_type": "markdown",
   "metadata": {},
   "source": [
    "### Despite using different orders to insert the nodes, the trees will be the same as the one we manually created in 1.A, since the key and priority values are the same and the fixed insertion algorithm verifies the cartesian tree properties"
   ]
  },
  {
   "cell_type": "markdown",
   "metadata": {},
   "source": [
    "---"
   ]
  },
  {
   "cell_type": "markdown",
   "metadata": {},
   "source": [
    "# EXERCISE 4 - DELETION ALGORITHM"
   ]
  },
  {
   "cell_type": "markdown",
   "metadata": {},
   "source": [
    "---"
   ]
  },
  {
   "cell_type": "markdown",
   "metadata": {},
   "source": [
    "### 4.A - The deletion algorithm works because the cartesian tree properties are maintained after the rotation operations that are performed during the deletion ..."
   ]
  },
  {
   "cell_type": "markdown",
   "metadata": {},
   "source": [
    "---"
   ]
  },
  {
   "cell_type": "markdown",
   "metadata": {},
   "source": [
    "### 4.B - The complexity of this algorithm is O(log(n)) since the search algorithm has a complexity of O(log(n)) and the deletion algorithm is just a search algorithm followed by a rotation algorithm"
   ]
  },
  {
   "cell_type": "markdown",
   "metadata": {},
   "source": [
    "---"
   ]
  },
  {
   "cell_type": "markdown",
   "metadata": {},
   "source": [
    "### 4.D - Applying the deletion algorithm on the previously obtained example tree from 1.A, to delete these nodes in the given order:\n",
    "\n",
    "```\n",
    "- (A, 5)\n",
    "- (J, 12)\n",
    "- (H, 1)\n",
    "```"
   ]
  },
  {
   "cell_type": "code",
   "execution_count": 18,
   "metadata": {},
   "outputs": [
    {
     "name": "stdout",
     "output_type": "stream",
     "text": [
      "\n",
      "\t\t\t\tStarting tree, going to remove (A, 5)\n",
      "\n",
      "\n",
      "                             ________________________(H, 1)___\n",
      "                            /                                 \\\n",
      "               __________(D, 2)__                           (I, 10)___\n",
      "              /                  \\                                    \\\n",
      "      _____(B, 3)__             (E, 6)__                            (J, 12)\n",
      "     /             \\                    \\\n",
      "**(A, 5)**        (C, 8)               (F, 7)__\n",
      "                                               \\\n",
      "                                              (G, 9)\n",
      "\n"
     ]
    }
   ],
   "source": [
    "root4d = PROJET.create_tree(PROJET.nodes_from_string(\"(A : 5),(B : 3),(C : 8),(D : 2),(E : 6),(F : 7),(G : 9),(H : 1),(I : 10),(J : 12)\"))\n",
    "\n",
    "print(\"\\n\\t\\t\\t\\tStarting tree, going to remove (A, 5)\\n\")\n",
    "PROJET.print_tree(root4d, highlighted_node=PROJET.find_node(root4d, \"A\"))"
   ]
  },
  {
   "cell_type": "code",
   "execution_count": 19,
   "metadata": {},
   "outputs": [
    {
     "name": "stdout",
     "output_type": "stream",
     "text": [
      "\tTEST 1 (removed A5, on to J12)\n",
      "\n",
      "\n",
      "                  ________________________(H, 1)___\n",
      "                 /                                 \\\n",
      "    __________(D, 2)__                           (I, 10)_____\n",
      "   /                  \\                                      \\\n",
      "(B, 3)__             (E, 6)__                            **(J, 12)**\n",
      "        \\                    \\\n",
      "       (C, 8)               (F, 7)__\n",
      "                                    \\\n",
      "                                   (G, 9)\n",
      "\n"
     ]
    }
   ],
   "source": [
    "print(\"\\tTEST 1 (removed A5, on to J12)\\n\")\n",
    "root4d = PROJET.remove_key(root4d, \"A\")\n",
    "print(PROJET.convert_to_printable(root4d, highlighted_node=PROJET.find_node(root4d, \"J\")))"
   ]
  },
  {
   "cell_type": "code",
   "execution_count": 20,
   "metadata": {},
   "outputs": [
    {
     "name": "stdout",
     "output_type": "stream",
     "text": [
      "\tTEST 2 (removed J12, on to H1)\n",
      "\n",
      "\n",
      "                  ________________________**(H, 1)**___\n",
      "                 /                                     \\\n",
      "    __________(D, 2)__                               (I, 10)\n",
      "   /                  \\\n",
      "(B, 3)__             (E, 6)__\n",
      "        \\                    \\\n",
      "       (C, 8)               (F, 7)__\n",
      "                                    \\\n",
      "                                   (G, 9)\n",
      "\n"
     ]
    }
   ],
   "source": [
    "print(\"\\tTEST 2 (removed J12, on to H1)\\n\")\n",
    "root4d = PROJET.remove_key(root4d, \"J\")\n",
    "print(PROJET.convert_to_printable(root4d, highlighted_node=PROJET.find_node(root4d, \"H\")))"
   ]
  },
  {
   "cell_type": "code",
   "execution_count": null,
   "metadata": {},
   "outputs": [
    {
     "name": "stdout",
     "output_type": "stream",
     "text": [
      "\tTEST 3 (removed H1, final state)\n",
      "\n",
      "H has two children, left child has lower priority, rotating right\n",
      "Rotated tree, new root is D, continuing with remove_node(H, H)\n",
      "\n",
      "    __________(D, 2)_______________________\n",
      "   /                                       \\\n",
      "(B, 3)__                 _________________(H, 1)___\n",
      "        \\               /                          \\\n",
      "       (C, 8)        (E, 6)__                    (I, 10)\n",
      "                             \\\n",
      "                            (F, 7)__\n",
      "                                    \\\n",
      "                                   (G, 9)\n",
      "\n",
      "H has two children, left child has lower priority, rotating right\n",
      "Rotated tree, new root is E, continuing with remove_node(H, H)\n",
      "\n",
      "(E, 6)________________\n",
      "                      \\\n",
      "           __________(H, 1)___\n",
      "          /                   \\\n",
      "       (F, 7)__             (I, 10)\n",
      "               \\\n",
      "              (G, 9)\n",
      "\n",
      "H has two children, left child has lower priority, rotating right\n",
      "Rotated tree, new root is F, continuing with remove_node(H, H)\n",
      "\n",
      "(F, 7)_________\n",
      "               \\\n",
      "           ___(H, 1)___\n",
      "          /            \\\n",
      "       (G, 9)        (I, 10)\n",
      "\n",
      "H has two children, left child has lower priority, rotating right\n",
      "Rotated tree, new root is G, continuing with remove_node(H, H)\n",
      "\n",
      "(G, 9)__\n",
      "        \\\n",
      "       (H, 1)___\n",
      "                \\\n",
      "              (I, 10)\n",
      "\n",
      "H has only a right child, removing it and replacing it with the right child\n",
      "\n",
      "    __________(D, 2)__\n",
      "   /                  \\\n",
      "(B, 3)__             (E, 6)__\n",
      "        \\                    \\\n",
      "       (C, 8)               (F, 7)__\n",
      "                                    \\\n",
      "                                   (G, 9)___\n",
      "                                            \\\n",
      "                                          (I, 10)\n",
      "\n"
     ]
    }
   ],
   "source": [
    "print(\"\\tTEST 3 (removing H1, final state)\\n\")\n",
    "root4d = PROJET.remove_key(root4d, \"H\", verbose=True)\n",
    "print(PROJET.convert_to_printable(root4d))"
   ]
  },
  {
   "cell_type": "markdown",
   "metadata": {},
   "source": [
    "### We can see that in each deletion the tree maintains the cartesian tree properties"
   ]
  },
  {
   "cell_type": "markdown",
   "metadata": {},
   "source": [
    "---"
   ]
  },
  {
   "cell_type": "markdown",
   "metadata": {},
   "source": [
    "# EXERCISE 5 - RANDOM TREES"
   ]
  },
  {
   "cell_type": "markdown",
   "metadata": {},
   "source": [
    "---"
   ]
  },
  {
   "cell_type": "markdown",
   "metadata": {},
   "source": [
    "### I made the function create keys of multiple characters to be able to generate more than 26 nodes"
   ]
  },
  {
   "cell_type": "code",
   "execution_count": 196,
   "metadata": {},
   "outputs": [
    {
     "name": "stdout",
     "output_type": "stream",
     "text": [
      "\n",
      "                                    ______________(SSI, 9)______________\n",
      "                                   /                                    \\\n",
      "                ______________(RWU, 33)____                      ____(VWQ, 10)______________\n",
      "               /                           \\                    /                           \\\n",
      "      ____(HRE, 41)____                 (SLG, 75)          (TIZ, 89)                 ____(WOQ, 28)\n",
      "     /                 \\                                                            /\n",
      "(FEO, 60)           (RCI, 65)                                                  (WKH, 32)\n",
      "\n",
      "Node count:  10\n",
      "Depth of tree:  4\n"
     ]
    }
   ],
   "source": [
    "node_count = 10\n",
    "random_root = PROJET.create_random_tree(node_count)\n",
    "print(PROJET.convert_to_printable(random_root))\n",
    "print(\"Node count: \", node_count)\n",
    "print(\"Depth of tree: \", PROJET.get_depth(random_root))"
   ]
  },
  {
   "cell_type": "markdown",
   "metadata": {},
   "source": [
    "### We see that when randomly generated, the trees have a high chance of being balanced, and maintaining a reasonable height"
   ]
  },
  {
   "cell_type": "markdown",
   "metadata": {},
   "source": [
    "That will be elaborated more in the next exercise (exercise 6)"
   ]
  },
  {
   "cell_type": "markdown",
   "metadata": {},
   "source": [
    "---"
   ]
  },
  {
   "cell_type": "code",
   "execution_count": 163,
   "metadata": {},
   "outputs": [
    {
     "name": "stderr",
     "output_type": "stream",
     "text": [
      "C:\\Users\\EGE\\AppData\\Local\\Packages\\PythonSoftwareFoundation.Python.3.10_qbz5n2kfra8p0\\LocalCache\\local-packages\\Python310\\site-packages\\numpy\\core\\fromnumeric.py:3504: RuntimeWarning: Mean of empty slice.\n",
      "  return _methods._mean(a, axis=axis, dtype=dtype,\n",
      "C:\\Users\\EGE\\AppData\\Local\\Packages\\PythonSoftwareFoundation.Python.3.10_qbz5n2kfra8p0\\LocalCache\\local-packages\\Python310\\site-packages\\numpy\\core\\_methods.py:129: RuntimeWarning: invalid value encountered in scalar divide\n",
      "  ret = ret.dtype.type(ret / rcount)\n"
     ]
    }
   ],
   "source": [
    "n = 50\n",
    "test_count = 100000\n",
    "times = [[] for _ in range(n//2)]\n",
    "cleantimes = [[] for _ in range(n//2)]\n",
    "\n",
    "\n",
    "for i in range(test_count):\n",
    "    root = PROJET.create_random_tree(n)\n",
    "    random_insert = PROJET.create_random_node(n)\n",
    "    start = time.time()\n",
    "    PROJET.insert_node(root, random_insert)\n",
    "    end = time.time()\n",
    "    depth = PROJET.get_depth_of_node(root, random_insert)\n",
    "    times[depth].append((end - start) * 1000)\n",
    "    if (end - start) > 0:\n",
    "        cleantimes[depth].append((end - start) * 1000)\n",
    "\n",
    "depth_record_count = [len(t) for t in times]\n",
    "depth_record_cleaned = [len(t) for t in cleantimes]\n",
    "# average index for depth\n",
    "average_depth = np.argmax(depth_record_count)\n",
    "avgs = []\n",
    "indexes = []\n",
    "for t in range(len(cleantimes)):\n",
    "    if len(times[t]) > 0:\n",
    "        avgs.append(np.mean(cleantimes[t]))\n",
    "        indexes.append(t)"
   ]
  },
  {
   "cell_type": "code",
   "execution_count": 164,
   "metadata": {},
   "outputs": [
    {
     "data": {
      "image/png": "[encoded data removed]",
      "text/plain": [
       "<Figure size 640x480 with 1 Axes>"
      ]
     },
     "metadata": {},
     "output_type": "display_data"
    }
   ],
   "source": [
    "plt.bar(range(n//2), depth_record_count, label=\"Number of generated nodes\")\n",
    "plt.bar(range(n//2), depth_record_cleaned, label=\"Number of generated nodes \\n(excluding tests with 0s times)\", width=0.5, alpha=0.7, color=\"cyan\")\n",
    "plt.axvline(x=average_depth, color='r', linestyle='--', label=f\"Most likely depth ({average_depth})\")\n",
    "plt.title(\"Number of nodes generated by depth (node count = 50)\")\n",
    "plt.xlabel(\"Depth\")\n",
    "plt.ylabel(\"Number of randomly generated nodes\")\n",
    "plt.legend()\n",
    "plt.show()"
   ]
  },
  {
   "cell_type": "markdown",
   "metadata": {},
   "source": [
    "### The graph above shows the distribution of the heights of the new nodes added to a random tree of 50 nodes"
   ]
  },
  {
   "cell_type": "markdown",
   "metadata": {},
   "source": [
    "---"
   ]
  },
  {
   "cell_type": "code",
   "execution_count": 165,
   "metadata": {},
   "outputs": [
    {
     "data": {
      "image/png": "[encoded data removed]",
      "text/plain": [
       "<Figure size 640x480 with 1 Axes>"
      ]
     },
     "metadata": {},
     "output_type": "display_data"
    }
   ],
   "source": [
    "plt.scatter(indexes, avgs, color=\"r\")\n",
    "plt.axhline(0, color='black', lw=1)\n",
    "plt.title(f\"Average time to insert a node at a given depth (test count: {test_count})\")\n",
    "plt.xlabel(\"Depth\")\n",
    "plt.ylabel(\"Time (ms)\")\n",
    "plt.show()"
   ]
  },
  {
   "cell_type": "markdown",
   "metadata": {},
   "source": [
    "---"
   ]
  },
  {
   "cell_type": "code",
   "execution_count": 166,
   "metadata": {},
   "outputs": [],
   "source": [
    "n = 100\n",
    "test_count = 100000\n",
    "times = dict()\n",
    "\n",
    "root = PROJET.create_random_tree(n)\n",
    "\n",
    "for i in range(test_count):\n",
    "    random_insert = PROJET.create_random_node(n)\n",
    "    start = time.time()\n",
    "    root = PROJET.insert_node(root, random_insert)\n",
    "    end = time.time()\n",
    "    depth = PROJET.get_depth_of_node(root, random_insert)\n",
    "    if depth not in times:\n",
    "        times[depth] = [(end - start) * 1000]\n",
    "    else:\n",
    "        times[depth].append((end - start) * 1000)\n",
    "\n",
    "avgs = []\n",
    "indexes = []\n",
    "for depth in times:\n",
    "    for t in times[depth]:\n",
    "        avgs.append(t)\n",
    "        indexes.append(depth)"
   ]
  },
  {
   "cell_type": "code",
   "execution_count": 167,
   "metadata": {},
   "outputs": [
    {
     "data": {
      "image/png": "[encoded data removed]",
      "text/plain": [
       "<Figure size 640x480 with 1 Axes>"
      ]
     },
     "metadata": {},
     "output_type": "display_data"
    }
   ],
   "source": [
    "plt.scatter(indexes, avgs, color=\"r\")\n",
    "plt.axhline(0, color='black', lw=1)\n",
    "plt.title(f\"Average time to insert a node at a given depth (test count: {test_count})\")\n",
    "plt.xlabel(\"Depth\")\n",
    "plt.ylabel(\"Time (ms)\")\n",
    "plt.show()"
   ]
  },
  {
   "cell_type": "markdown",
   "metadata": {},
   "source": [
    "---"
   ]
  },
  {
   "cell_type": "markdown",
   "metadata": {},
   "source": [
    "# EXERCISE 6 - THEORETICAL ASPECT"
   ]
  },
  {
   "cell_type": "markdown",
   "metadata": {},
   "source": [
    "---"
   ]
  },
  {
   "cell_type": "markdown",
   "metadata": {},
   "source": [
    "### The average height of a randomly generated cartesian tree will be O(log(n))"
   ]
  },
  {
   "cell_type": "code",
   "execution_count": 31,
   "metadata": {},
   "outputs": [],
   "source": [
    "n = 10\n",
    "test_count = 1000000\n",
    "depths = np.zeros((1, test_count))\n",
    "for i in range(test_count):\n",
    "    root = PROJET.create_random_tree(n)\n",
    "    depths[0, i] = PROJET.get_depth(root)"
   ]
  },
  {
   "cell_type": "code",
   "execution_count": 32,
   "metadata": {},
   "outputs": [
    {
     "data": {
      "text/plain": [
       "(5.640245, 0.9131819862300177, 4.0, 10.0)"
      ]
     },
     "execution_count": 32,
     "metadata": {},
     "output_type": "execute_result"
    }
   ],
   "source": [
    "np.mean(depths), np.std(depths), np.min(depths), np.max(depths)"
   ]
  },
  {
   "cell_type": "code",
   "execution_count": 168,
   "metadata": {},
   "outputs": [],
   "source": [
    "max_n = 1000\n",
    "test_count = 10\n",
    "depths = np.zeros((max_n, test_count))\n",
    "for n in range(1, max_n):\n",
    "    for i in range(test_count):\n",
    "        root = PROJET.create_random_tree(n)\n",
    "        depths[n, i] = PROJET.get_depth(root)"
   ]
  },
  {
   "cell_type": "code",
   "execution_count": 191,
   "metadata": {},
   "outputs": [
    {
     "data": {
      "image/png": "[encoded data removed]",
      "text/plain": [
       "<Figure size 640x480 with 1 Axes>"
      ]
     },
     "metadata": {},
     "output_type": "display_data"
    }
   ],
   "source": [
    "plt.plot(np.mean(depths, axis=1), label=\"Average depth\")\n",
    "# plot log(n) for comparison\n",
    "plt.plot(np.log(np.arange(1, max_n))*3.14, label=\"O(log(n))\", linestyle='--', color='red', alpha=0.5)\n",
    "plt.title(\"Average depth of random tree with n nodes\")\n",
    "plt.xlabel(\"Node count\")\n",
    "plt.ylabel(\"Depth\")\n",
    "plt.legend()\n",
    "plt.show()"
   ]
  },
  {
   "cell_type": "markdown",
   "metadata": {},
   "source": [
    "---"
   ]
  },
  {
   "cell_type": "markdown",
   "metadata": {},
   "source": [
    "### The function ```get_kth_node_depth(root, k)``` will return the depth of the node with the kth smallest key in the tree "
   ]
  },
  {
   "cell_type": "code",
   "execution_count": 23,
   "metadata": {},
   "outputs": [
    {
     "name": "stdout",
     "output_type": "stream",
     "text": [
      "Generating random tree with 10 nodes\n",
      "\n",
      "(ACU, 25)________________________________________________________________\n",
      "                                                                         \\\n",
      "                          ____________________________________________(RJX, 26)______________\n",
      "                         /                                                                   \\\n",
      "                ____(ERT, 29)______________                                           ____(XWR, 52)\n",
      "               /                           \\                                         /\n",
      "          (CWZ, 47)                 ____(KAE, 33)____                           (WKE, 85)\n",
      "                                   /                 \\\n",
      "                              (FQP, 71)           (PCV, 44)____\n",
      "                                                               \\\n",
      "                                                            (RCY, 92)\n",
      "\n",
      "\tk = 4\n",
      "\n",
      "The keys of this tree are: ['ACU', 'CWZ', 'ERT', 'FQP', 'KAE', 'PCV', 'RCY', 'RJX', 'WKE', 'XWR']\n",
      "The 4th element in the tree is:                   ^ FQP\n",
      "The depth of the 4th element is: 5\n",
      "\n",
      "PROJET.get_kth_node(ktree, k).key='FQP'\n",
      "PROJET.get_kth_node_depth(ktree, k)=5\n"
     ]
    }
   ],
   "source": [
    "k = 4\n",
    "ktree = PROJET.create_random_tree(10)\n",
    "print(\"Generating random tree with 10 nodes\")\n",
    "\n",
    "PROJET.print_tree(ktree)\n",
    "sorted_keylist = sorted(PROJET.get_keylist(PROJET.root_to_nodelist(ktree)))\n",
    "print(\"\\tk = 4\\n\")\n",
    "print(f\"The keys of this tree are: {sorted_keylist}\")\n",
    "print(f\"The 4th element in the tree is:                   ^ {sorted_keylist[k-1]}\")\n",
    "print(f\"The depth of the 4th element is: {PROJET.get_depth_of_node(ktree, PROJET.find_node(ktree, sorted_keylist[k-1]))}\")\n",
    "\n",
    "print()\n",
    "print(f\"{PROJET.get_kth_node(ktree, k).key=}\")\n",
    "print(f\"{PROJET.get_kth_node_depth(ktree, k)=}\")"
   ]
  },
  {
   "cell_type": "markdown",
   "metadata": {},
   "source": [
    "## 6.A"
   ]
  },
  {
   "cell_type": "code",
   "execution_count": 34,
   "metadata": {},
   "outputs": [],
   "source": [
    "# Demonstrate that the average depth of xk is equal to the sum of the expected depths of Xik\n",
    "\n",
    "n = 20\n",
    "test_count = 10000\n",
    "depths = np.zeros((n, test_count))\n",
    "for i in range(test_count):\n",
    "    root = PROJET.create_random_tree(n)\n",
    "    for k in range(1, n-1):\n",
    "        depths[k, i] = PROJET.get_kth_node_depth(root, k)"
   ]
  },
  {
   "cell_type": "code",
   "execution_count": 35,
   "metadata": {},
   "outputs": [
    {
     "data": {
      "text/plain": [
       "array([0.    , 5.1986, 5.7829, 6.1728, 6.4389, 6.6426, 6.7425, 6.8501,\n",
       "       6.8905, 6.9314, 6.9362, 6.9522, 6.9129, 6.89  , 6.8061, 6.73  ,\n",
       "       6.6053, 6.4034, 6.1396, 0.    ])"
      ]
     },
     "execution_count": 35,
     "metadata": {},
     "output_type": "execute_result"
    }
   ],
   "source": [
    "np.mean(depths, axis=1)"
   ]
  },
  {
   "cell_type": "code",
   "execution_count": 38,
   "metadata": {},
   "outputs": [
    {
     "data": {
      "image/png": "[encoded data removed]",
      "text/plain": [
       "<Figure size 640x480 with 1 Axes>"
      ]
     },
     "metadata": {},
     "output_type": "display_data"
    }
   ],
   "source": [
    "plt.bar(range(len(np.mean(depths, axis=1))),np.mean(depths, axis=1), label=\"Average depth of xk\")\n",
    "plt.title(\"Average depth of xk in random tree with n nodes\")\n",
    "plt.xlabel(\"Node count\")\n",
    "plt.ylabel(\"Depth\")\n",
    "plt.legend()\n",
    "plt.show()"
   ]
  },
  {
   "cell_type": "markdown",
   "metadata": {},
   "source": [
    "---"
   ]
  },
  {
   "cell_type": "markdown",
   "metadata": {},
   "source": [
    "## 6.B"
   ]
  },
  {
   "cell_type": "code",
   "execution_count": null,
   "metadata": {},
   "outputs": [],
   "source": []
  },
  {
   "cell_type": "markdown",
   "metadata": {},
   "source": [
    "---"
   ]
  },
  {
   "cell_type": "markdown",
   "metadata": {},
   "source": [
    "## 6.C - CONCLUSION"
   ]
  },
  {
   "cell_type": "code",
   "execution_count": null,
   "metadata": {},
   "outputs": [],
   "source": []
  },
  {
   "cell_type": "markdown",
   "metadata": {},
   "source": [
    "---"
   ]
  },
  {
   "cell_type": "markdown",
   "metadata": {},
   "source": []
  }
 ],
 "metadata": {
  "kernelspec": {
   "display_name": "Python 3",
   "language": "python",
   "name": "python3"
  },
  "language_info": {
   "codemirror_mode": {
    "name": "ipython",
    "version": 3
   },
   "file_extension": ".py",
   "mimetype": "text/x-python",
   "name": "python",
   "nbconvert_exporter": "python",
   "pygments_lexer": "ipython3",
   "version": "3.10.11"
  }
 },
 "nbformat": 4,
 "nbformat_minor": 2
}
