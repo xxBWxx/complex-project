{
 "cells": [
  {
   "cell_type": "markdown",
   "metadata": {},
   "source": [
    "```\n",
    "typedef struct _Node Node;\n",
    "\n",
    "struct _Node {\n",
    "    char key;\n",
    "    int priority;\n",
    "    Node* left;\n",
    "    Node* right;\n",
    "};\n",
    "\n",
    "Node* createNode(char key, int priority) {\n",
    "    Node* newNode = (Node*) malloc(sizeof(Node));\n",
    "\n",
    "    newNode->key = key;\n",
    "    newNode->priority = priority;\n",
    "    newNode->left = NULL;\n",
    "    newNode->right = NULL;\n",
    "\n",
    "    return newNode;\n",
    "}\n",
    "\n",
    "void showNode(Node* node) {\n",
    "    if (node) {\n",
    "        printf(\"key: %c, priority: %d\\n\", node->key, node->priority);\n",
    "    }\n",
    "}\n",
    "\n",
    "void showTree(Node* tree) {\n",
    "    if (!tree) {\n",
    "        return;\n",
    "    }\n",
    "\n",
    "    showNode(tree);\n",
    "    \n",
    "    if (tree->left) {\n",
    "        printf(\"left of %c%d\\n\", tree->key, tree->priority);\n",
    "        showTree(tree->left);\n",
    "    }\n",
    "\n",
    "    if (tree->right) {\n",
    "        printf(\"right of %c%d\\n\", tree->key, tree->priority);\n",
    "        showTree(tree->right);\n",
    "    }\n",
    "}\n",
    "\n",
    "Node* addNode(Node* tree, Node* child) {\n",
    "    if (!tree) {\n",
    "        return NULL;\n",
    "    } \n",
    "\n",
    "    if (!child) {\n",
    "        return NULL;\n",
    "    }\n",
    "\n",
    "    Node* currentNode = tree;\n",
    "    Node* parent = NULL;\n",
    "    while (currentNode) {\n",
    "        if (child->priority < currentNode->priority) {\n",
    "            currentNode = addNode(child, currentNode);\n",
    "\n",
    "            if (!parent) {\n",
    "                return currentNode;\n",
    "            }\n",
    "\n",
    "            else {\n",
    "                if (currentNode->key < parent->key) {\n",
    "                    parent->left = currentNode;\n",
    "                }\n",
    "\n",
    "                else {\n",
    "                    parent->right = currentNode;\n",
    "                }\n",
    "\n",
    "                break;\n",
    "            }\n",
    "        }\n",
    "\n",
    "        if (child->key < currentNode->key) {\n",
    "            if (currentNode->left == NULL) {\n",
    "                currentNode->left = child; \n",
    "                break;\n",
    "            }\n",
    "            \n",
    "            else {\n",
    "                parent = currentNode;\n",
    "                currentNode = currentNode->left;\n",
    "            }\n",
    "        } \n",
    "        \n",
    "        else {\n",
    "            if (currentNode->right == NULL) {\n",
    "                currentNode->right = child; \n",
    "                break;\n",
    "            }\n",
    "            \n",
    "            else {\n",
    "                parent = currentNode;\n",
    "                currentNode = currentNode->right;\n",
    "            }\n",
    "        }\n",
    "    }\n",
    "\n",
    "    return tree;\n",
    "}\n",
    "\n",
    "int main() {\n",
    "    Node* nodeA1 = createNode('A', 1);\n",
    "    Node* nodeB2 = createNode('B', 2);\n",
    "    Node* nodeC3 = createNode('C', 3);\n",
    "    Node* nodeD4 = createNode('D', 4);\n",
    "\n",
    "    Node* tree = nodeD4;\n",
    "    showTree(tree);\n",
    "    printf(\"\\n\");\n",
    "\n",
    "    tree = addNode(tree, nodeB2);\n",
    "    showTree(tree);\n",
    "    printf(\"\\n\");\n",
    "\n",
    "    tree = addNode(tree, nodeC3);\n",
    "    showTree(tree);\n",
    "    printf(\"\\n\");\n",
    "    \n",
    "    return 0;\n",
    "}\n",
    "```"
   ]
  },
  {
   "cell_type": "code",
   "execution_count": 1,
   "metadata": {},
   "outputs": [],
   "source": [
    "class Node:\n",
    "    def __init__(self, key, priority, left=None, right=None):\n",
    "        self.key = key\n",
    "        self.priority = priority\n",
    "        self.left = left\n",
    "        self.right = right\n",
    "    \n",
    "    def __str__(self):\n",
    "        return f'Node({self.key}, {self.priority})'"
   ]
  },
  {
   "cell_type": "code",
   "execution_count": 2,
   "metadata": {},
   "outputs": [],
   "source": [
    "testnodes = \"(A : 5),(B : 3),(C : 8),(D : 2),(E : 6),(F : 7),(G : 9),(H : 1),(I : 10),(J : 12)\""
   ]
  },
  {
   "cell_type": "code",
   "execution_count": 3,
   "metadata": {},
   "outputs": [],
   "source": [
    "def nodes_from_string(nodes_str):\n",
    "    nodes = []\n",
    "    for node_str in nodes_str.split(','):\n",
    "        key, priority = node_str.strip('()').split(' : ')\n",
    "        nodes.append(Node(key, int(priority)))\n",
    "    return nodes\n",
    "\n",
    "def print_nodes(nodes):\n",
    "    for node in nodes:\n",
    "        print(node)\n",
    "        \n",
    "\n",
    "import binarytree"
   ]
  },
  {
   "cell_type": "code",
   "execution_count": 4,
   "metadata": {},
   "outputs": [
    {
     "name": "stdout",
     "output_type": "stream",
     "text": [
      "Node(A, 5)\n",
      "Node(B, 3)\n",
      "Node(C, 8)\n",
      "Node(D, 2)\n",
      "Node(E, 6)\n",
      "Node(F, 7)\n",
      "Node(G, 9)\n",
      "Node(H, 1)\n",
      "Node(I, 10)\n",
      "Node(J, 12)\n"
     ]
    }
   ],
   "source": [
    "nodes = nodes_from_string(testnodes)\n",
    "print_nodes(nodes)"
   ]
  },
  {
   "cell_type": "code",
   "execution_count": 5,
   "metadata": {},
   "outputs": [
    {
     "data": {
      "text/plain": [
       "('E', 6)"
      ]
     },
     "execution_count": 5,
     "metadata": {},
     "output_type": "execute_result"
    }
   ],
   "source": [
    "nodes[4].key, nodes[4].priority"
   ]
  },
  {
   "cell_type": "code",
   "execution_count": 6,
   "metadata": {},
   "outputs": [],
   "source": [
    "def insert_node(root, node):\n",
    "    if node.priority < root.priority:\n",
    "        if node.key < root.key:\n",
    "            node.right = root\n",
    "            print(f\"Added node above root ({node.key}.right = {root.key})\")\n",
    "            return node\n",
    "        else:\n",
    "            node.left = root\n",
    "            print(f\"Added node above root ({node.key}.left = {root.key})\")\n",
    "            return node\n",
    "    if node.key < root.key:\n",
    "        if root.left is None:\n",
    "            root.left = node\n",
    "            print(f\"Added node to left of root ({root.key}.left = {node.key})\")\n",
    "            return root\n",
    "        root.left = insert_node(root.left, node)\n",
    "        return root\n",
    "    if root.right is None:\n",
    "        root.right = node\n",
    "        print(f\"Added node to right of root ({root.key}.right = {node.key})\")\n",
    "        return root\n",
    "    root.right = insert_node(root.right, node)\n",
    "    return root\n",
    "\n",
    "def create_tree(nodes):\n",
    "    root = nodes[0]\n",
    "    for node in nodes[1:]:\n",
    "        root = insert_node(root, node)\n",
    "    return root\n",
    "\n",
    "def convert_to_printable(root):\n",
    "    if root is None:\n",
    "        return None\n",
    "    return binarytree.Node('(' + root.key + ', ' + str(root.priority) + ')', convert_to_printable(root.left), convert_to_printable(root.right))"
   ]
  },
  {
   "cell_type": "code",
   "execution_count": 7,
   "metadata": {},
   "outputs": [
    {
     "name": "stdout",
     "output_type": "stream",
     "text": [
      "Node(A, 5) Node(B, 3)\n"
     ]
    }
   ],
   "source": [
    "root = nodes[0]\n",
    "print(root, nodes[1])"
   ]
  },
  {
   "cell_type": "code",
   "execution_count": 8,
   "metadata": {},
   "outputs": [
    {
     "name": "stdout",
     "output_type": "stream",
     "text": [
      "Added node above root (B.left = A)\n",
      "\n",
      "    ___(B, 3)\n",
      "   /\n",
      "(A, 5)\n",
      "\n"
     ]
    }
   ],
   "source": [
    "root = insert_node(root, nodes[1])\n",
    "print(convert_to_printable(root))"
   ]
  },
  {
   "cell_type": "code",
   "execution_count": 9,
   "metadata": {},
   "outputs": [
    {
     "name": "stdout",
     "output_type": "stream",
     "text": [
      "Added node to right of root (B.right = C)\n",
      "\n",
      "    ___(B, 3)__\n",
      "   /           \\\n",
      "(A, 5)        (C, 8)\n",
      "\n"
     ]
    }
   ],
   "source": [
    "root = insert_node(root, nodes[2])\n",
    "print(convert_to_printable(root))"
   ]
  },
  {
   "cell_type": "code",
   "execution_count": 10,
   "metadata": {},
   "outputs": [
    {
     "name": "stdout",
     "output_type": "stream",
     "text": [
      "Added node above root (D.left = B)\n",
      "\n",
      "           __________(D, 2)\n",
      "          /\n",
      "    ___(B, 3)__\n",
      "   /           \\\n",
      "(A, 5)        (C, 8)\n",
      "\n"
     ]
    }
   ],
   "source": [
    "root = insert_node(root, nodes[3])\n",
    "print(convert_to_printable(root))"
   ]
  },
  {
   "cell_type": "code",
   "execution_count": 11,
   "metadata": {},
   "outputs": [
    {
     "name": "stdout",
     "output_type": "stream",
     "text": [
      "Added node to right of root (D.right = E)\n",
      "\n",
      "           __________(D, 2)__\n",
      "          /                  \\\n",
      "    ___(B, 3)__             (E, 6)\n",
      "   /           \\\n",
      "(A, 5)        (C, 8)\n",
      "\n"
     ]
    }
   ],
   "source": [
    "root = insert_node(root, nodes[4])\n",
    "print(convert_to_printable(root))"
   ]
  },
  {
   "cell_type": "code",
   "execution_count": 12,
   "metadata": {},
   "outputs": [
    {
     "name": "stdout",
     "output_type": "stream",
     "text": [
      "Added node to right of root (E.right = F)\n",
      "\n",
      "           __________(D, 2)__\n",
      "          /                  \\\n",
      "    ___(B, 3)__             (E, 6)__\n",
      "   /           \\                    \\\n",
      "(A, 5)        (C, 8)               (F, 7)\n",
      "\n"
     ]
    }
   ],
   "source": [
    "root = insert_node(root, nodes[5])\n",
    "print(convert_to_printable(root))"
   ]
  },
  {
   "cell_type": "code",
   "execution_count": 13,
   "metadata": {},
   "outputs": [
    {
     "name": "stdout",
     "output_type": "stream",
     "text": [
      "Added node to right of root (F.right = G)\n",
      "\n",
      "           __________(D, 2)__\n",
      "          /                  \\\n",
      "    ___(B, 3)__             (E, 6)__\n",
      "   /           \\                    \\\n",
      "(A, 5)        (C, 8)               (F, 7)__\n",
      "                                           \\\n",
      "                                          (G, 9)\n",
      "\n"
     ]
    }
   ],
   "source": [
    "root = insert_node(root, nodes[6])\n",
    "print(convert_to_printable(root))"
   ]
  },
  {
   "cell_type": "code",
   "execution_count": 14,
   "metadata": {},
   "outputs": [
    {
     "name": "stdout",
     "output_type": "stream",
     "text": [
      "Added node above root (H.left = D)\n",
      "\n",
      "                         ________________________(H, 1)\n",
      "                        /\n",
      "           __________(D, 2)__\n",
      "          /                  \\\n",
      "    ___(B, 3)__             (E, 6)__\n",
      "   /           \\                    \\\n",
      "(A, 5)        (C, 8)               (F, 7)__\n",
      "                                           \\\n",
      "                                          (G, 9)\n",
      "\n"
     ]
    }
   ],
   "source": [
    "root = insert_node(root, nodes[7])\n",
    "print(convert_to_printable(root))"
   ]
  },
  {
   "cell_type": "code",
   "execution_count": 15,
   "metadata": {},
   "outputs": [
    {
     "name": "stdout",
     "output_type": "stream",
     "text": [
      "Added node to right of root (H.right = I)\n",
      "\n",
      "                         ________________________(H, 1)___\n",
      "                        /                                 \\\n",
      "           __________(D, 2)__                           (I, 10)\n",
      "          /                  \\\n",
      "    ___(B, 3)__             (E, 6)__\n",
      "   /           \\                    \\\n",
      "(A, 5)        (C, 8)               (F, 7)__\n",
      "                                           \\\n",
      "                                          (G, 9)\n",
      "\n"
     ]
    }
   ],
   "source": [
    "root = insert_node(root, nodes[8])\n",
    "print(convert_to_printable(root))"
   ]
  },
  {
   "cell_type": "code",
   "execution_count": 16,
   "metadata": {},
   "outputs": [
    {
     "name": "stdout",
     "output_type": "stream",
     "text": [
      "Added node to right of root (I.right = J)\n",
      "\n",
      "                         ________________________(H, 1)___\n",
      "                        /                                 \\\n",
      "           __________(D, 2)__                           (I, 10)___\n",
      "          /                  \\                                    \\\n",
      "    ___(B, 3)__             (E, 6)__                            (J, 12)\n",
      "   /           \\                    \\\n",
      "(A, 5)        (C, 8)               (F, 7)__\n",
      "                                           \\\n",
      "                                          (G, 9)\n",
      "\n"
     ]
    }
   ],
   "source": [
    "root = insert_node(root, nodes[9])\n",
    "print(convert_to_printable(root))"
   ]
  },
  {
   "cell_type": "code",
   "execution_count": 8,
   "metadata": {},
   "outputs": [
    {
     "name": "stdout",
     "output_type": "stream",
     "text": [
      "Added node above root (B.left = A)\n",
      "Added node to right of root (B.right = C)\n",
      "Added node above root (D.left = B)\n",
      "Added node to right of root (D.right = E)\n",
      "Added node to right of root (E.right = F)\n",
      "Added node to right of root (F.right = G)\n",
      "Added node above root (H.left = D)\n",
      "Added node to right of root (H.right = I)\n",
      "Added node to right of root (I.right = J)\n"
     ]
    }
   ],
   "source": [
    "root = create_tree(nodes)"
   ]
  },
  {
   "cell_type": "code",
   "execution_count": 9,
   "metadata": {},
   "outputs": [
    {
     "name": "stdout",
     "output_type": "stream",
     "text": [
      "\n",
      "                         ________________________(H, 1)___\n",
      "                        /                                 \\\n",
      "           __________(D, 2)__                           (I, 10)___\n",
      "          /                  \\                                    \\\n",
      "    ___(B, 3)__             (E, 6)__                            (J, 12)\n",
      "   /           \\                    \\\n",
      "(A, 5)        (C, 8)               (F, 7)__\n",
      "                                           \\\n",
      "                                          (G, 9)\n",
      "\n"
     ]
    }
   ],
   "source": [
    "print(convert_to_printable(root))"
   ]
  },
  {
   "cell_type": "code",
   "execution_count": 10,
   "metadata": {},
   "outputs": [],
   "source": [
    "# new order:   H,      D,      B,      A,      E,      F,      C,      G,      I et     J\n",
    "testnodes2 = \"(H : 1),(D : 2),(B : 3),(A : 5),(E : 6),(F : 7),(C : 8),(G : 9),(I : 10),(J : 12)\"\n",
    "nodes2 = nodes_from_string(testnodes2)"
   ]
  },
  {
   "cell_type": "code",
   "execution_count": 11,
   "metadata": {},
   "outputs": [
    {
     "name": "stdout",
     "output_type": "stream",
     "text": [
      "Added node to left of root (H.left = D)\n",
      "Added node to left of root (D.left = B)\n",
      "Added node to left of root (B.left = A)\n",
      "Added node to right of root (D.right = E)\n",
      "Added node to right of root (E.right = F)\n",
      "Added node to right of root (B.right = C)\n",
      "Added node to right of root (F.right = G)\n",
      "Added node to right of root (H.right = I)\n",
      "Added node to right of root (I.right = J)\n",
      "\n",
      "                         ________________________(H, 1)___\n",
      "                        /                                 \\\n",
      "           __________(D, 2)__                           (I, 10)___\n",
      "          /                  \\                                    \\\n",
      "    ___(B, 3)__             (E, 6)__                            (J, 12)\n",
      "   /           \\                    \\\n",
      "(A, 5)        (C, 8)               (F, 7)__\n",
      "                                           \\\n",
      "                                          (G, 9)\n",
      "\n"
     ]
    }
   ],
   "source": [
    "root2 = create_tree(nodes2)\n",
    "print(convert_to_printable(root2))"
   ]
  },
  {
   "cell_type": "code",
   "execution_count": 12,
   "metadata": {},
   "outputs": [],
   "source": [
    "def find_node(root, key):\n",
    "    if root is None:\n",
    "        return None\n",
    "    if root.key == key:\n",
    "        return root\n",
    "    if key < root.key:\n",
    "        return find_node(root.left, key)\n",
    "    return find_node(root.right, key)"
   ]
  },
  {
   "cell_type": "code",
   "execution_count": null,
   "metadata": {},
   "outputs": [
    {
     "name": "stdout",
     "output_type": "stream",
     "text": [
      "Node(E, 6) == E True\n"
     ]
    }
   ],
   "source": [
    "search = \"E\"\n",
    "found_node = find_node(root2, search)\n",
    "print(found_node, \"==\", search, found_node.key == search)   "
   ]
  },
  {
   "cell_type": "code",
   "execution_count": null,
   "metadata": {},
   "outputs": [],
   "source": []
  }
 ],
 "metadata": {
  "kernelspec": {
   "display_name": "Python 3",
   "language": "python",
   "name": "python3"
  },
  "language_info": {
   "codemirror_mode": {
    "name": "ipython",
    "version": 3
   },
   "file_extension": ".py",
   "mimetype": "text/x-python",
   "name": "python",
   "nbconvert_exporter": "python",
   "pygments_lexer": "ipython3",
   "version": "3.10.11"
  }
 },
 "nbformat": 4,
 "nbformat_minor": 2
}
