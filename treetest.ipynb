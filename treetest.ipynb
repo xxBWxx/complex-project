{
 "cells": [
  {
   "cell_type": "code",
   "execution_count": 16,
   "metadata": {},
   "outputs": [],
   "source": [
    "class Node:\n",
    "    def __init__(self, key, priority, left=None, right=None):\n",
    "        self.key = key\n",
    "        self.priority = priority\n",
    "        self.left = left\n",
    "        self.right = right\n",
    "    \n",
    "    def __str__(self):\n",
    "        return f'Node({self.key}, {self.priority})'\n",
    "    \n",
    "    def copy(self):\n",
    "        return Node(self.key, self.priority, self.left, self.right)"
   ]
  },
  {
   "cell_type": "code",
   "execution_count": 17,
   "metadata": {},
   "outputs": [],
   "source": [
    "testnodes = \"(A : 5),(B : 3),(C : 8),(D : 2),(E : 6),(F : 7),(G : 9),(H : 1),(I : 10),(J : 12)\""
   ]
  },
  {
   "cell_type": "code",
   "execution_count": 18,
   "metadata": {},
   "outputs": [],
   "source": [
    "def nodes_from_string(nodes_str):\n",
    "    nodes = []\n",
    "    for node_str in nodes_str.split(','):\n",
    "        key, priority = node_str.strip('()').split(' : ')\n",
    "        nodes.append(Node(key, int(priority)))\n",
    "    return nodes\n",
    "\n",
    "def print_nodes(nodes):\n",
    "    for node in nodes:\n",
    "        print(node)\n",
    "        \n",
    "\n",
    "import binarytree"
   ]
  },
  {
   "cell_type": "code",
   "execution_count": 19,
   "metadata": {},
   "outputs": [
    {
     "name": "stdout",
     "output_type": "stream",
     "text": [
      "Node(A, 5)\n",
      "Node(B, 3)\n",
      "Node(C, 8)\n",
      "Node(D, 2)\n",
      "Node(E, 6)\n",
      "Node(F, 7)\n",
      "Node(G, 9)\n",
      "Node(H, 1)\n",
      "Node(I, 10)\n",
      "Node(J, 12)\n"
     ]
    }
   ],
   "source": [
    "nodes = nodes_from_string(testnodes)\n",
    "print_nodes(nodes)"
   ]
  },
  {
   "cell_type": "code",
   "execution_count": 20,
   "metadata": {},
   "outputs": [
    {
     "data": {
      "text/plain": [
       "[<__main__.Node at 0x2927c856c20>,\n",
       " <__main__.Node at 0x2927c854790>,\n",
       " <__main__.Node at 0x2927c856a70>,\n",
       " <__main__.Node at 0x2927c855a50>,\n",
       " <__main__.Node at 0x2927c8562c0>,\n",
       " <__main__.Node at 0x2927c8577f0>,\n",
       " <__main__.Node at 0x2927c857eb0>,\n",
       " <__main__.Node at 0x2927c8577c0>,\n",
       " <__main__.Node at 0x2927c855c90>,\n",
       " <__main__.Node at 0x2927c855ae0>]"
      ]
     },
     "execution_count": 20,
     "metadata": {},
     "output_type": "execute_result"
    }
   ],
   "source": [
    "nodes"
   ]
  },
  {
   "cell_type": "code",
   "execution_count": 21,
   "metadata": {},
   "outputs": [],
   "source": [
    "def copy_nodeslist(nodes):\n",
    "    return [node.copy() for node in nodes]"
   ]
  },
  {
   "cell_type": "code",
   "execution_count": 22,
   "metadata": {},
   "outputs": [
    {
     "data": {
      "text/plain": [
       "('E', 6)"
      ]
     },
     "execution_count": 22,
     "metadata": {},
     "output_type": "execute_result"
    }
   ],
   "source": [
    "nodes[4].key, nodes[4].priority"
   ]
  },
  {
   "cell_type": "code",
   "execution_count": 23,
   "metadata": {},
   "outputs": [],
   "source": [
    "def insert_node_without_rotation(root, node, verbose=False):\n",
    "    if verbose:\n",
    "        print(f\"--ADDING {node.key} TO {root.key}--\")\n",
    "    if node.priority < root.priority:\n",
    "        if node.key < root.key:\n",
    "            node.right = root\n",
    "            if verbose:\n",
    "                print(f\"Added node above root ({node.key}.right = {root.key})\")\n",
    "            return node\n",
    "        else:\n",
    "            node.left = root\n",
    "            if verbose:\n",
    "                print(f\"Added node above root ({node.key}.left = {root.key})\")\n",
    "            return node\n",
    "    if node.key < root.key:\n",
    "        if root.left is None:\n",
    "            root.left = node\n",
    "            if verbose:\n",
    "                print(f\"Added node to left of root ({root.key}.left = {node.key})\")\n",
    "            return root\n",
    "        if verbose:\n",
    "            print(f\"\\tGoing one layer down on the left from {root.key} for {node.key}\")\n",
    "        root.left = insert_node_without_rotation(root.left, node, verbose=verbose)\n",
    "        return root\n",
    "    if root.right is None:\n",
    "        root.right = node\n",
    "        if verbose:\n",
    "            print(f\"Added node to right of root ({root.key}.right = {node.key})\")\n",
    "        return root\n",
    "    if verbose:\n",
    "        print(f\"\\tGoing one layer down on the right from {root.key} for {node.key}\")\n",
    "    root.right = insert_node_without_rotation(root.right, node, verbose=verbose)\n",
    "    return root\n",
    "\n",
    "def create_tree_without_rotation(nodes, verbose=False):\n",
    "    root = nodes[0]\n",
    "    for node in nodes[1:]:\n",
    "        root = insert_node_without_rotation(root, node, verbose=verbose)\n",
    "    return root\n",
    "\n",
    "def convert_to_printable(root):\n",
    "    if root is None:\n",
    "        return None\n",
    "    return binarytree.Node('(' + root.key + ', ' + str(root.priority) + ')', convert_to_printable(root.left), convert_to_printable(root.right))"
   ]
  },
  {
   "cell_type": "code",
   "execution_count": 24,
   "metadata": {},
   "outputs": [],
   "source": [
    "def insert_node(root, node, verbose=False):\n",
    "    if verbose:\n",
    "        print(f\"--ADDING {node.key} TO {root.key}--\")\n",
    "    if node.priority < root.priority:\n",
    "        if node.key < root.key:\n",
    "            node.right = root\n",
    "            if verbose:\n",
    "                print(f\"Added node above root ({node.key}.right = {root.key})\")\n",
    "            if root.left and root.left.key < node.key:\n",
    "                node.left = root.left\n",
    "                root.left = None\n",
    "                if verbose:\n",
    "                    print(\"Fixed left child\")\n",
    "            return node\n",
    "        else:\n",
    "            node.left = root\n",
    "            if verbose:\n",
    "                print(f\"Added node above root ({node.key}.left = {root.key})\")\n",
    "            if root.right and root.right.key > node.key:\n",
    "                node.right = root.right\n",
    "                root.right = None\n",
    "                if verbose:\n",
    "                    print(\"Fixed right child\")\n",
    "            return node\n",
    "    if node.key < root.key:\n",
    "        if root.left is None:\n",
    "            root.left = node\n",
    "            if verbose:\n",
    "                print(f\"Added node to left of root ({root.key}.left = {node.key})\")\n",
    "            return root\n",
    "        if verbose:\n",
    "            print(f\"\\tGoing one layer down on the left from {root.key} for {node.key}\")\n",
    "        root.left = insert_node(root.left, node, verbose=verbose)\n",
    "        return root\n",
    "    if root.right is None:\n",
    "        root.right = node\n",
    "        if verbose:\n",
    "            print(f\"Added node to right of root ({root.key}.right = {node.key})\")\n",
    "        return root\n",
    "    if verbose:\n",
    "        print(f\"\\tGoing one layer down on the right from {root.key} for {node.key}\")\n",
    "    root.right = insert_node(root.right, node, verbose=verbose)\n",
    "    return root\n",
    "\n",
    "def create_tree(nodes, verbose=False):\n",
    "    root = nodes[0]\n",
    "    for node in nodes[1:]:\n",
    "        root = insert_node(root, node, verbose=verbose)\n",
    "    return root\n",
    "\n",
    "def convert_to_printable(root):\n",
    "    if root is None:\n",
    "        return None\n",
    "    return binarytree.Node('(' + root.key + ', ' + str(root.priority) + ')', convert_to_printable(root.left), convert_to_printable(root.right))"
   ]
  },
  {
   "cell_type": "code",
   "execution_count": 25,
   "metadata": {},
   "outputs": [
    {
     "name": "stdout",
     "output_type": "stream",
     "text": [
      "\n",
      "                         ________________________(H, 1)___\n",
      "                        /                                 \\\n",
      "           __________(D, 2)__                           (I, 10)___\n",
      "          /                  \\                                    \\\n",
      "    ___(B, 3)__             (E, 6)__                            (J, 12)\n",
      "   /           \\                    \\\n",
      "(A, 5)        (C, 8)               (F, 7)__\n",
      "                                           \\\n",
      "                                          (G, 9)\n",
      "\n"
     ]
    }
   ],
   "source": [
    "nodes = nodes_from_string(testnodes)\n",
    "#print_nodes(nodes)\n",
    "root = create_tree_without_rotation(nodes)\n",
    "\n",
    "print(convert_to_printable(root))"
   ]
  },
  {
   "cell_type": "code",
   "execution_count": 26,
   "metadata": {},
   "outputs": [],
   "source": [
    "# new order:   H,      D,      B,      A,      E,      F,      C,      G,      I et     J\n",
    "testnodes2 = \"(H : 1),(D : 2),(B : 3),(A : 5),(E : 6),(F : 7),(C : 8),(G : 9),(I : 10),(J : 12)\"\n",
    "nodes2 = nodes_from_string(testnodes2)"
   ]
  },
  {
   "cell_type": "code",
   "execution_count": 27,
   "metadata": {},
   "outputs": [
    {
     "name": "stdout",
     "output_type": "stream",
     "text": [
      "\n",
      "                         ________________________(H, 1)___\n",
      "                        /                                 \\\n",
      "           __________(D, 2)__                           (I, 10)___\n",
      "          /                  \\                                    \\\n",
      "    ___(B, 3)__             (E, 6)__                            (J, 12)\n",
      "   /           \\                    \\\n",
      "(A, 5)        (C, 8)               (F, 7)__\n",
      "                                           \\\n",
      "                                          (G, 9)\n",
      "\n"
     ]
    }
   ],
   "source": [
    "nodes2 = nodes_from_string(testnodes2)\n",
    "#print_nodes(nodes)\n",
    "root2 = create_tree_without_rotation(nodes2)\n",
    "\n",
    "print(convert_to_printable(root2))"
   ]
  },
  {
   "cell_type": "code",
   "execution_count": 28,
   "metadata": {},
   "outputs": [
    {
     "name": "stdout",
     "output_type": "stream",
     "text": [
      "\n",
      "                         ________________________(H, 1)___\n",
      "                        /                                 \\\n",
      "           __________(D, 2)__                           (I, 10)___\n",
      "          /                  \\                                    \\\n",
      "    ___(B, 3)__             (E, 6)__                            (J, 12)___\n",
      "   /           \\                    \\                                     \\\n",
      "(A, 5)        (C, 8)               (F, 7)__                             (M, 20)\n",
      "                                           \\\n",
      "                                          (G, 9)\n",
      "\n",
      "\n",
      "                         ________________________(H, 1)___\n",
      "                        /                                 \\\n",
      "           __________(D, 2)__                           (I, 10)___\n",
      "          /                  \\                                    \\\n",
      "    ___(B, 3)__             (E, 6)__                            (J, 12)___\n",
      "   /           \\                    \\                                     \\\n",
      "(A, 5)        (C, 8)               (F, 7)__                             (K, 15)___\n",
      "                                           \\                                      \\\n",
      "                                          (G, 9)                                (M, 20)\n",
      "\n",
      "\n",
      "                         ________________________(H, 1)___\n",
      "                        /                                 \\\n",
      "           __________(D, 2)__                           (I, 10)___\n",
      "          /                  \\                                    \\\n",
      "    ___(B, 3)__             (E, 6)__                            (J, 12)___________________\n",
      "   /           \\                    \\                                                     \\\n",
      "(A, 5)        (C, 8)               (F, 7)__                                  ___________(L, 14)\n",
      "                                           \\                                /\n",
      "                                          (G, 9)                        (K, 15)___\n",
      "                                                                                  \\\n",
      "                                                                                (M, 20)\n",
      "\n"
     ]
    }
   ],
   "source": [
    "root3 = insert_node_without_rotation(root2, Node('M', 20))\n",
    "print(convert_to_printable(root3))\n",
    "root3 = insert_node_without_rotation(root3, Node('K', 15))\n",
    "print(convert_to_printable(root3))\n",
    "root3 = insert_node_without_rotation(root3, Node('L', 14))\n",
    "print(convert_to_printable(root3))"
   ]
  },
  {
   "cell_type": "code",
   "execution_count": 29,
   "metadata": {},
   "outputs": [
    {
     "name": "stdout",
     "output_type": "stream",
     "text": [
      "\n",
      "                         ________________________(H, 1)___\n",
      "                        /                                 \\\n",
      "           __________(D, 2)__                           (I, 10)___\n",
      "          /                  \\                                    \\\n",
      "    ___(B, 3)__             (E, 6)__                            (J, 12)___________________\n",
      "   /           \\                    \\                                                     \\\n",
      "(A, 5)        (C, 8)               (F, 7)__                                  ___________(L, 14)___\n",
      "                                           \\                                /                     \\\n",
      "                                          (G, 9)                        (K, 15)___              (M, 20)\n",
      "                                                                                  \\\n",
      "                                                                                (M, 20)\n",
      "\n",
      "\n",
      "                         ________________________(H, 1)___\n",
      "                        /                                 \\\n",
      "           __________(D, 2)__                           (I, 10)___\n",
      "          /                  \\                                    \\\n",
      "    ___(B, 3)__             (E, 6)__                            (J, 12)___________________________\n",
      "   /           \\                    \\                                                             \\\n",
      "(A, 5)        (C, 8)               (F, 7)__                                  ___________________(L, 14)___\n",
      "                                           \\                                /                             \\\n",
      "                                          (G, 9)                        (K, 15)___                      (M, 20)\n",
      "                                                                                  \\\n",
      "                                                                                (K, 15)___\n",
      "                                                                                          \\\n",
      "                                                                                        (M, 20)\n",
      "\n",
      "\n",
      "                         ________________________(H, 1)___\n",
      "                        /                                 \\\n",
      "           __________(D, 2)__                           (I, 10)___\n",
      "          /                  \\                                    \\\n",
      "    ___(B, 3)__             (E, 6)__                            (J, 12)___________________________\n",
      "   /           \\                    \\                                                             \\\n",
      "(A, 5)        (C, 8)               (F, 7)__                                  ___________________(L, 14)___\n",
      "                                           \\                                /                             \\\n",
      "                                          (G, 9)                        (K, 15)___                      (L, 14)___\n",
      "                                                                                  \\                               \\\n",
      "                                                                                (K, 15)___                      (M, 20)\n",
      "                                                                                          \\\n",
      "                                                                                        (M, 20)\n",
      "\n"
     ]
    }
   ],
   "source": [
    "root3 = insert_node(root2, Node('M', 20))\n",
    "print(convert_to_printable(root3))\n",
    "root3 = insert_node(root3, Node('K', 15))\n",
    "print(convert_to_printable(root3))\n",
    "root3 = insert_node(root3, Node('L', 14))\n",
    "print(convert_to_printable(root3))"
   ]
  },
  {
   "cell_type": "code",
   "execution_count": 30,
   "metadata": {},
   "outputs": [
    {
     "name": "stdout",
     "output_type": "stream",
     "text": [
      "Node(A, 5) Node(B, 3)\n"
     ]
    }
   ],
   "source": [
    "nodes = nodes_from_string(testnodes)\n",
    "root = nodes[0]\n",
    "print(root, nodes[1])"
   ]
  },
  {
   "cell_type": "code",
   "execution_count": 31,
   "metadata": {},
   "outputs": [
    {
     "name": "stdout",
     "output_type": "stream",
     "text": [
      "\n",
      "    ___(B, 3)\n",
      "   /\n",
      "(A, 5)\n",
      "\n"
     ]
    }
   ],
   "source": [
    "root = insert_node(root, nodes[1])\n",
    "print(convert_to_printable(root))"
   ]
  },
  {
   "cell_type": "code",
   "execution_count": 32,
   "metadata": {},
   "outputs": [
    {
     "name": "stdout",
     "output_type": "stream",
     "text": [
      "\n",
      "    ___(B, 3)__\n",
      "   /           \\\n",
      "(A, 5)        (C, 8)\n",
      "\n"
     ]
    }
   ],
   "source": [
    "root = insert_node(root, nodes[2])\n",
    "print(convert_to_printable(root))"
   ]
  },
  {
   "cell_type": "code",
   "execution_count": 33,
   "metadata": {},
   "outputs": [
    {
     "name": "stdout",
     "output_type": "stream",
     "text": [
      "\n",
      "           __________(D, 2)\n",
      "          /\n",
      "    ___(B, 3)__\n",
      "   /           \\\n",
      "(A, 5)        (C, 8)\n",
      "\n"
     ]
    }
   ],
   "source": [
    "root = insert_node(root, nodes[3])\n",
    "print(convert_to_printable(root))"
   ]
  },
  {
   "cell_type": "code",
   "execution_count": 34,
   "metadata": {},
   "outputs": [
    {
     "name": "stdout",
     "output_type": "stream",
     "text": [
      "\n",
      "           __________(D, 2)__\n",
      "          /                  \\\n",
      "    ___(B, 3)__             (E, 6)\n",
      "   /           \\\n",
      "(A, 5)        (C, 8)\n",
      "\n"
     ]
    }
   ],
   "source": [
    "root = insert_node(root, nodes[4])\n",
    "print(convert_to_printable(root))"
   ]
  },
  {
   "cell_type": "code",
   "execution_count": 35,
   "metadata": {},
   "outputs": [
    {
     "name": "stdout",
     "output_type": "stream",
     "text": [
      "\n",
      "           __________(D, 2)__\n",
      "          /                  \\\n",
      "    ___(B, 3)__             (E, 6)__\n",
      "   /           \\                    \\\n",
      "(A, 5)        (C, 8)               (F, 7)\n",
      "\n"
     ]
    }
   ],
   "source": [
    "root = insert_node(root, nodes[5])\n",
    "print(convert_to_printable(root))"
   ]
  },
  {
   "cell_type": "code",
   "execution_count": 36,
   "metadata": {},
   "outputs": [
    {
     "name": "stdout",
     "output_type": "stream",
     "text": [
      "\n",
      "           __________(D, 2)__\n",
      "          /                  \\\n",
      "    ___(B, 3)__             (E, 6)__\n",
      "   /           \\                    \\\n",
      "(A, 5)        (C, 8)               (F, 7)__\n",
      "                                           \\\n",
      "                                          (G, 9)\n",
      "\n"
     ]
    }
   ],
   "source": [
    "root = insert_node(root, nodes[6])\n",
    "print(convert_to_printable(root))"
   ]
  },
  {
   "cell_type": "code",
   "execution_count": 37,
   "metadata": {},
   "outputs": [
    {
     "name": "stdout",
     "output_type": "stream",
     "text": [
      "\n",
      "                         ________________________(H, 1)\n",
      "                        /\n",
      "           __________(D, 2)__\n",
      "          /                  \\\n",
      "    ___(B, 3)__             (E, 6)__\n",
      "   /           \\                    \\\n",
      "(A, 5)        (C, 8)               (F, 7)__\n",
      "                                           \\\n",
      "                                          (G, 9)\n",
      "\n"
     ]
    }
   ],
   "source": [
    "root = insert_node(root, nodes[7])\n",
    "print(convert_to_printable(root))"
   ]
  },
  {
   "cell_type": "code",
   "execution_count": 38,
   "metadata": {},
   "outputs": [
    {
     "name": "stdout",
     "output_type": "stream",
     "text": [
      "\n",
      "                         ________________________(H, 1)___\n",
      "                        /                                 \\\n",
      "           __________(D, 2)__                           (I, 10)\n",
      "          /                  \\\n",
      "    ___(B, 3)__             (E, 6)__\n",
      "   /           \\                    \\\n",
      "(A, 5)        (C, 8)               (F, 7)__\n",
      "                                           \\\n",
      "                                          (G, 9)\n",
      "\n"
     ]
    }
   ],
   "source": [
    "root = insert_node(root, nodes[8])\n",
    "print(convert_to_printable(root))"
   ]
  },
  {
   "cell_type": "code",
   "execution_count": 39,
   "metadata": {},
   "outputs": [
    {
     "name": "stdout",
     "output_type": "stream",
     "text": [
      "\n",
      "                         ________________________(H, 1)___\n",
      "                        /                                 \\\n",
      "           __________(D, 2)__                           (I, 10)___\n",
      "          /                  \\                                    \\\n",
      "    ___(B, 3)__             (E, 6)__                            (J, 12)\n",
      "   /           \\                    \\\n",
      "(A, 5)        (C, 8)               (F, 7)__\n",
      "                                           \\\n",
      "                                          (G, 9)\n",
      "\n"
     ]
    }
   ],
   "source": [
    "root = insert_node(root, nodes[9])\n",
    "print(convert_to_printable(root))"
   ]
  },
  {
   "cell_type": "code",
   "execution_count": 40,
   "metadata": {},
   "outputs": [
    {
     "name": "stdout",
     "output_type": "stream",
     "text": [
      "Node(A, 5)\n",
      "Node(B, 3)\n",
      "Node(C, 8)\n",
      "Node(D, 2)\n",
      "Node(E, 6)\n",
      "Node(F, 7)\n",
      "Node(G, 9)\n",
      "Node(H, 1)\n",
      "Node(I, 10)\n",
      "Node(J, 12)\n"
     ]
    }
   ],
   "source": [
    "nodes = nodes_from_string(testnodes)\n",
    "print_nodes(nodes)\n",
    "root = create_tree(nodes)"
   ]
  },
  {
   "cell_type": "code",
   "execution_count": 41,
   "metadata": {},
   "outputs": [
    {
     "name": "stdout",
     "output_type": "stream",
     "text": [
      "\n",
      "                         ________________________(H, 1)___\n",
      "                        /                                 \\\n",
      "           __________(D, 2)__                           (I, 10)___\n",
      "          /                  \\                                    \\\n",
      "    ___(B, 3)__             (E, 6)__                            (J, 12)\n",
      "   /           \\                    \\\n",
      "(A, 5)        (C, 8)               (F, 7)__\n",
      "                                           \\\n",
      "                                          (G, 9)\n",
      "\n"
     ]
    }
   ],
   "source": [
    "print(convert_to_printable(root))"
   ]
  },
  {
   "cell_type": "code",
   "execution_count": 42,
   "metadata": {},
   "outputs": [],
   "source": [
    "# new order:   H,      D,      B,      A,      E,      F,      C,      G,      I et     J\n",
    "testnodes2 = \"(H : 1),(D : 2),(B : 3),(A : 5),(E : 6),(F : 7),(C : 8),(G : 9),(I : 10),(J : 12)\"\n",
    "nodes2 = nodes_from_string(testnodes2)"
   ]
  },
  {
   "cell_type": "code",
   "execution_count": 43,
   "metadata": {},
   "outputs": [
    {
     "name": "stdout",
     "output_type": "stream",
     "text": [
      "\n",
      "                         ________________________(H, 1)___\n",
      "                        /                                 \\\n",
      "           __________(D, 2)__                           (I, 10)___\n",
      "          /                  \\                                    \\\n",
      "    ___(B, 3)__             (E, 6)__                            (J, 12)\n",
      "   /           \\                    \\\n",
      "(A, 5)        (C, 8)               (F, 7)__\n",
      "                                           \\\n",
      "                                          (G, 9)\n",
      "\n"
     ]
    }
   ],
   "source": [
    "root2 = create_tree(nodes2)\n",
    "print(convert_to_printable(root2))"
   ]
  },
  {
   "cell_type": "code",
   "execution_count": 44,
   "metadata": {},
   "outputs": [],
   "source": [
    "def find_node(root, key):\n",
    "    if root is None:\n",
    "        return None\n",
    "    if root.key == key:\n",
    "        return root\n",
    "    if key < root.key:\n",
    "        return find_node(root.left, key)\n",
    "    return find_node(root.right, key)"
   ]
  },
  {
   "cell_type": "code",
   "execution_count": 45,
   "metadata": {},
   "outputs": [
    {
     "name": "stdout",
     "output_type": "stream",
     "text": [
      "Node(E, 6) == E True\n"
     ]
    }
   ],
   "source": [
    "search = \"E\"\n",
    "found_node = find_node(root2, search)\n",
    "print(found_node, \"==\", search, found_node.key == search)   "
   ]
  },
  {
   "cell_type": "code",
   "execution_count": 46,
   "metadata": {},
   "outputs": [
    {
     "name": "stdout",
     "output_type": "stream",
     "text": [
      "\n",
      "            ________________________(F, 1)_________\n",
      "           /                                       \\\n",
      "     ___(B, 3)_________                        ___(H, 2)__\n",
      "    /                  \\                      /           \\\n",
      "(A, 10)            ___(D, 4)__             (G, 9)        (I, 5)__\n",
      "                  /           \\                                  \\\n",
      "               (C, 7)        (E, 6)                             (J, 8)\n",
      "\n"
     ]
    }
   ],
   "source": [
    "examplenodes = \"(F : 1),(H : 2),(B : 3),(A : 10),(E : 6),(C : 7),(J : 8),(G : 9),(I : 5),(D : 4)\"\n",
    "nodes3 = nodes_from_string(examplenodes)\n",
    "root3 = create_tree(nodes3)\n",
    "print(convert_to_printable(root3))"
   ]
  },
  {
   "cell_type": "code",
   "execution_count": 47,
   "metadata": {},
   "outputs": [
    {
     "name": "stdout",
     "output_type": "stream",
     "text": [
      "\n",
      "(F, 1)__\n",
      "        \\\n",
      "       (H, 2)\n",
      "\n",
      "\n",
      "    ___(F, 1)__\n",
      "   /           \\\n",
      "(B, 3)        (H, 2)\n",
      "\n",
      "\n",
      "            ___(F, 1)__\n",
      "           /           \\\n",
      "     ___(B, 3)        (H, 2)\n",
      "    /\n",
      "(A, 10)\n",
      "\n",
      "\n",
      "            __________(F, 1)__\n",
      "           /                  \\\n",
      "     ___(B, 3)__             (H, 2)\n",
      "    /           \\\n",
      "(A, 10)        (E, 6)\n",
      "\n",
      "\n",
      "            _________________(F, 1)__\n",
      "           /                         \\\n",
      "     ___(B, 3)_________             (H, 2)\n",
      "    /                  \\\n",
      "(A, 10)            ___(E, 6)\n",
      "                  /\n",
      "               (C, 7)\n",
      "\n",
      "\n",
      "            _________________(F, 1)__\n",
      "           /                         \\\n",
      "     ___(B, 3)_________             (H, 2)__\n",
      "    /                  \\                    \\\n",
      "(A, 10)            ___(E, 6)               (J, 8)\n",
      "                  /\n",
      "               (C, 7)\n",
      "\n",
      "\n",
      "            _________________(F, 1)_________\n",
      "           /                                \\\n",
      "     ___(B, 3)_________                 ___(H, 2)__\n",
      "    /                  \\               /           \\\n",
      "(A, 10)            ___(E, 6)        (G, 9)        (J, 8)\n",
      "                  /\n",
      "               (C, 7)\n",
      "\n",
      "\n",
      "            _________________(F, 1)_________\n",
      "           /                                \\\n",
      "     ___(B, 3)_________                 ___(H, 2)__\n",
      "    /                  \\               /           \\\n",
      "(A, 10)            ___(E, 6)        (G, 9)        (I, 5)__\n",
      "                  /                                       \\\n",
      "               (C, 7)                                    (J, 8)\n",
      "\n",
      "\n",
      "            ________________________(F, 1)_________\n",
      "           /                                       \\\n",
      "     ___(B, 3)_________                        ___(H, 2)__\n",
      "    /                  \\                      /           \\\n",
      "(A, 10)            ___(D, 4)__             (G, 9)        (I, 5)__\n",
      "                  /           \\                                  \\\n",
      "               (C, 7)        (E, 6)                             (J, 8)\n",
      "\n"
     ]
    }
   ],
   "source": [
    "examplenodes = \"(F : 1),(H : 2),(B : 3),(A : 10),(E : 6),(C : 7),(J : 8),(G : 9),(I : 5),(D : 4)\"\n",
    "nodes3 = nodes_from_string(examplenodes)\n",
    "\n",
    "root3 = nodes3[0]\n",
    "\n",
    "for i in range(1, len(nodes3)):\n",
    "    root3 = insert_node(root3, nodes3[i])\n",
    "    print(convert_to_printable(root3))"
   ]
  },
  {
   "cell_type": "code",
   "execution_count": null,
   "metadata": {},
   "outputs": [],
   "source": []
  },
  {
   "cell_type": "markdown",
   "metadata": {},
   "source": [
    "## Q 3.a Montrer, sur l’exemple de la question 1.a. que l’insertion d’un nœud dans un arbre cartésien en suivant la m´ethode d’insertion dans un arbre binaire de recherche, peut r´esulter en un arbre qui ne v´erifie plus la propri´et´e de tas\n",
    "\n",
    "# A: insert_tree before the left and right child fixes"
   ]
  },
  {
   "cell_type": "code",
   "execution_count": 48,
   "metadata": {},
   "outputs": [],
   "source": [
    "def rotate_tree_right(root):\n",
    "    new_root = root.left\n",
    "    root.left = new_root.right\n",
    "    new_root.right = root\n",
    "    return new_root\n",
    "\n",
    "def rotate_tree_left(root):\n",
    "    new_root = root.right\n",
    "    root.right = new_root.left\n",
    "    new_root.left = root\n",
    "    return new_root"
   ]
  },
  {
   "cell_type": "code",
   "execution_count": 49,
   "metadata": {},
   "outputs": [
    {
     "name": "stdout",
     "output_type": "stream",
     "text": [
      "\n",
      "     ___(B, 3)_______________________\n",
      "    /                                \\\n",
      "(A, 10)                   __________(F, 1)_________\n",
      "                         /                         \\\n",
      "                   ___(D, 4)__                 ___(H, 2)__\n",
      "                  /           \\               /           \\\n",
      "               (C, 7)        (E, 6)        (G, 9)        (I, 5)__\n",
      "                                                                 \\\n",
      "                                                                (J, 8)\n",
      "\n"
     ]
    }
   ],
   "source": [
    "print(convert_to_printable(rotate_tree_right(root3)))"
   ]
  },
  {
   "cell_type": "markdown",
   "metadata": {},
   "source": [
    "# Complexity of rotation is O(1)  ?"
   ]
  },
  {
   "cell_type": "markdown",
   "metadata": {},
   "source": [
    "---"
   ]
  },
  {
   "cell_type": "markdown",
   "metadata": {},
   "source": [
    "# 3.D TESTS"
   ]
  },
  {
   "cell_type": "markdown",
   "metadata": {},
   "source": [
    "---"
   ]
  },
  {
   "cell_type": "code",
   "execution_count": null,
   "metadata": {},
   "outputs": [],
   "source": []
  },
  {
   "cell_type": "code",
   "execution_count": 50,
   "metadata": {},
   "outputs": [
    {
     "name": "stdout",
     "output_type": "stream",
     "text": [
      "\tTEST 1 (QUESTION 1.A)\n",
      "\n",
      "                         ________________________(H, 1)___\n",
      "                        /                                 \\\n",
      "           __________(D, 2)__                           (I, 10)___\n",
      "          /                  \\                                    \\\n",
      "    ___(B, 3)__             (E, 6)__                            (J, 12)\n",
      "   /           \\                    \\\n",
      "(A, 5)        (C, 8)               (F, 7)__\n",
      "                                           \\\n",
      "                                          (G, 9)\n",
      "\n",
      "\tTEST 2\n",
      "\n",
      "                         ________________________(H, 1)___\n",
      "                        /                                 \\\n",
      "           __________(D, 2)__                           (I, 10)___\n",
      "          /                  \\                                    \\\n",
      "    ___(B, 3)__             (E, 6)__                            (J, 12)\n",
      "   /           \\                    \\\n",
      "(A, 5)        (C, 8)               (F, 7)__\n",
      "                                           \\\n",
      "                                          (G, 9)\n",
      "\n",
      "\tTEST 3\n",
      "\n",
      "                         ________________________(H, 1)___\n",
      "                        /                                 \\\n",
      "           __________(D, 2)__                           (I, 10)___\n",
      "          /                  \\                                    \\\n",
      "    ___(B, 3)__             (E, 6)__                            (J, 12)\n",
      "   /           \\                    \\\n",
      "(A, 5)        (C, 8)               (F, 7)__\n",
      "                                           \\\n",
      "                                          (G, 9)\n",
      "\n"
     ]
    }
   ],
   "source": [
    "nodes3d1 = nodes_from_string(\"(A : 5),(B : 3),(C : 8),(D : 2),(E : 6),(F : 7),(G : 9),(H : 1),(I : 10),(J : 12)\")\n",
    "nodes3d2 = nodes_from_string(\"(H : 1),(G : 9),(A : 5),(B : 3),(D : 2),(F : 7),(C : 8),(J : 12),(I : 10),(E : 6)\")\n",
    "nodes3d3 = nodes_from_string(\"(E : 6),(H : 1),(B : 3),(D : 2),(C : 8),(F : 7),(G : 9),(J : 12),(A : 5),(I : 10)\")\n",
    "\n",
    "print(\"\\tTEST 1 (QUESTION 1.A)\")\n",
    "root1 = create_tree(nodes3d1, verbose=False)\n",
    "print(convert_to_printable(root1))\n",
    "\n",
    "print(\"\\tTEST 2\")\n",
    "print(convert_to_printable(create_tree(nodes3d2, verbose=False)))\n",
    "\n",
    "print(\"\\tTEST 3\")\n",
    "print(convert_to_printable(create_tree(nodes3d3, verbose=False)))"
   ]
  },
  {
   "cell_type": "markdown",
   "metadata": {},
   "source": [
    "---"
   ]
  },
  {
   "cell_type": "markdown",
   "metadata": {},
   "source": [
    "# EX 4"
   ]
  },
  {
   "cell_type": "markdown",
   "metadata": {},
   "source": [
    "---"
   ]
  },
  {
   "cell_type": "code",
   "execution_count": 51,
   "metadata": {},
   "outputs": [],
   "source": [
    "def remove_node(root, node):\n",
    "    if root is None:\n",
    "        return None\n",
    "    if root.key == node.key:\n",
    "        if root.left is None:\n",
    "            return root.right\n",
    "        if root.right is None:\n",
    "            return root.left\n",
    "        if root.left.priority < root.right.priority:\n",
    "            return rotate_tree_right(root)\n",
    "        return rotate_tree_left(root)\n",
    "    if node.key < root.key:\n",
    "        root.left = remove_node(root.left, node)\n",
    "        return root\n",
    "    root.right = remove_node(root.right, node)\n",
    "    return root\n",
    "\n",
    "def remove_key(root, key):\n",
    "    return remove_node(root, find_node(root, key))"
   ]
  },
  {
   "cell_type": "code",
   "execution_count": 52,
   "metadata": {},
   "outputs": [],
   "source": [
    "def remove_node(root, node):\n",
    "    if root is None:\n",
    "        return None\n",
    "    # Search for the node to remove\n",
    "    if node.key < root.key:\n",
    "        root.left = remove_node(root.left, node)\n",
    "        return root\n",
    "    if node.key > root.key:\n",
    "        root.right = remove_node(root.right, node)\n",
    "        return root\n",
    "    # Case 1: Node is a leaf\n",
    "    if root.left is None and root.right is None:\n",
    "        return None\n",
    "    # Case 2: Node has one child\n",
    "    elif root.left is None:\n",
    "        # Case 2.1: Node has a right child\n",
    "        return root.right\n",
    "    elif root.right is None:\n",
    "        # Case 2.2: Node has a left child\n",
    "        return root.left\n",
    "    # Case 3: Node has two children\n",
    "    # Rotate with the child that has the lowest priority\n",
    "    if root.left.priority < root.right.priority:\n",
    "        root = rotate_tree_right(root)\n",
    "        root.right = remove_node(root.right, node)\n",
    "    else:\n",
    "        root = rotate_tree_left(root)\n",
    "        root.left = remove_node(root.left, node)\n",
    "    \n",
    "    return root\n",
    "\n",
    "def remove_key(root, key):\n",
    "    return remove_node(root, find_node(root, key))"
   ]
  },
  {
   "cell_type": "markdown",
   "metadata": {},
   "source": [
    "# 4.D - TESTS"
   ]
  },
  {
   "cell_type": "code",
   "execution_count": 53,
   "metadata": {},
   "outputs": [
    {
     "name": "stdout",
     "output_type": "stream",
     "text": [
      "\tSTARTING TREE\n",
      "\n",
      "\n",
      "                         ________________________(H, 1)___\n",
      "                        /                                 \\\n",
      "           __________(D, 2)__                           (I, 10)___\n",
      "          /                  \\                                    \\\n",
      "    ___(B, 3)__             (E, 6)__                            (J, 12)\n",
      "   /           \\                    \\\n",
      "(A, 5)        (C, 8)               (F, 7)__\n",
      "                                           \\\n",
      "                                          (G, 9)\n",
      "\n",
      "\tTEST 1 (remove A5)\n",
      "\n",
      "\n",
      "                  ________________________(H, 1)___\n",
      "                 /                                 \\\n",
      "    __________(D, 2)__                           (I, 10)___\n",
      "   /                  \\                                    \\\n",
      "(B, 3)__             (E, 6)__                            (J, 12)\n",
      "        \\                    \\\n",
      "       (C, 8)               (F, 7)__\n",
      "                                    \\\n",
      "                                   (G, 9)\n",
      "\n",
      "\tTEST 2 (remove J12)\n",
      "\n",
      "\n",
      "                  ________________________(H, 1)___\n",
      "                 /                                 \\\n",
      "    __________(D, 2)__                           (I, 10)\n",
      "   /                  \\\n",
      "(B, 3)__             (E, 6)__\n",
      "        \\                    \\\n",
      "       (C, 8)               (F, 7)__\n",
      "                                    \\\n",
      "                                   (G, 9)\n",
      "\n",
      "\tTEST 3 (remove H1)\n",
      "\n",
      "\n",
      "    __________(D, 2)__\n",
      "   /                  \\\n",
      "(B, 3)__             (E, 6)__\n",
      "        \\                    \\\n",
      "       (C, 8)               (F, 7)__\n",
      "                                    \\\n",
      "                                   (G, 9)___\n",
      "                                            \\\n",
      "                                          (I, 10)\n",
      "\n"
     ]
    }
   ],
   "source": [
    "print(\"\\tSTARTING TREE\\n\")\n",
    "print(convert_to_printable(root1))\n",
    "\n",
    "print(\"\\tTEST 1 (remove A5)\\n\")\n",
    "A_removed = remove_key(root1, \"A\")\n",
    "print(convert_to_printable(A_removed))\n",
    "\n",
    "print(\"\\tTEST 2 (remove J12)\\n\")\n",
    "J_removed = remove_key(root1, \"J\")\n",
    "print(convert_to_printable(J_removed))\n",
    "\n",
    "print(\"\\tTEST 3 (remove H1)\\n\")\n",
    "H_removed = remove_key(root1, \"H\")\n",
    "print(convert_to_printable(H_removed))"
   ]
  },
  {
   "cell_type": "code",
   "execution_count": null,
   "metadata": {},
   "outputs": [],
   "source": []
  },
  {
   "cell_type": "markdown",
   "metadata": {},
   "source": [
    "---"
   ]
  },
  {
   "cell_type": "markdown",
   "metadata": {},
   "source": [
    "# 5 - RANDOM TREE"
   ]
  },
  {
   "cell_type": "markdown",
   "metadata": {},
   "source": [
    "---"
   ]
  },
  {
   "cell_type": "code",
   "execution_count": 54,
   "metadata": {},
   "outputs": [],
   "source": [
    "import random\n",
    "\n",
    "def get_random_node(nodeslist, priority_range=(0, 1000), max_priority_search=100):\n",
    "    if nodeslist == []:\n",
    "        key = random.choice(\"ABCDEFGHIJKLMNOPQRSTUVWXYZ\")\n",
    "        priority = random.randint(*priority_range)\n",
    "        return Node(key, priority)\n",
    "    # alphabet excluding keys already in the list\n",
    "    possible_keys = [key for key in \"ABCDEFGHIJKLMNOPQRSTUVWXYZ\" if key not in [node.key for node in nodeslist]]\n",
    "    if possible_keys == []:\n",
    "        print(\"ERROR: No more keys available in alphabet\")\n",
    "        return\n",
    "    key = random.choice(possible_keys)\n",
    "    priority = priority_range[0] - 1\n",
    "    while priority < priority_range[0] and priority > priority_range[0] - max_priority_search:\n",
    "        p_temp = random.randint(*priority_range)\n",
    "        if p_temp not in [node.priority for node in nodeslist]:\n",
    "            priority = p_temp\n",
    "        else:\n",
    "            priority -= 1\n",
    "    if priority < priority_range[0]:\n",
    "        print(\"ERROR: No priorities found, skipping\")\n",
    "        return \n",
    "    return Node(key, priority)\n",
    "\n",
    "def create_random_nodeslist(n, priority_range=(0, 1000)):\n",
    "    nodeslist = []\n",
    "    for _ in range(n):\n",
    "        nodeslist.append(get_random_node(nodeslist, priority_range=priority_range))\n",
    "    return nodeslist"
   ]
  },
  {
   "cell_type": "code",
   "execution_count": 55,
   "metadata": {},
   "outputs": [
    {
     "name": "stdout",
     "output_type": "stream",
     "text": [
      "Node(Y, 48)\n",
      "Node(D, 38)\n",
      "Node(G, 23)\n",
      "Node(R, 76)\n",
      "Node(J, 93)\n",
      "Node(K, 64)\n",
      "Node(N, 31)\n",
      "Node(Q, 14)\n",
      "Node(W, 87)\n",
      "Node(M, 97)\n",
      "\n",
      "             ___________________________________________________(Q, 14)___\n",
      "            /                                                             \\\n",
      "     ___(G, 23)___________________________________                      (W, 87)\n",
      "    /                                             \\\n",
      "(D, 38)                      ___________________(N, 31)___\n",
      "                            /                             \\\n",
      "                     ___(K, 64)___________              (Y, 48)\n",
      "                    /                     \\\n",
      "                (J, 93)              ___(R, 76)\n",
      "                                    /\n",
      "                                (M, 97)\n",
      "\n"
     ]
    }
   ],
   "source": [
    "random_nodes = create_random_nodeslist(10, priority_range=(1, 100))\n",
    "for node in random_nodes:\n",
    "    print(node)\n",
    "len(random_nodes)\n",
    "\n",
    "root_random = create_tree(random_nodes)\n",
    "print(convert_to_printable(root_random))"
   ]
  },
  {
   "cell_type": "code",
   "execution_count": 56,
   "metadata": {},
   "outputs": [
    {
     "data": {
      "text/plain": [
       "26"
      ]
     },
     "execution_count": 56,
     "metadata": {},
     "output_type": "execute_result"
    }
   ],
   "source": [
    "len(\"ABCDEFGHIJKLMNOPQRSTUVWXYZ\")"
   ]
  },
  {
   "cell_type": "code",
   "execution_count": 57,
   "metadata": {},
   "outputs": [],
   "source": [
    "import time\n",
    "import numpy as np\n",
    "import matplotlib.pyplot as plt\n",
    "\n",
    "def test_tree_insertion(n, priority_range=(0, 1000)):\n",
    "    nodes = create_random_nodeslist(n, priority_range=priority_range)\n",
    "    root = create_tree(nodes)\n",
    "    start = time.time()\n",
    "    insert_node(root, get_random_node(nodes, priority_range=priority_range))\n",
    "    end = time.time()\n",
    "    return end - start\n",
    "\n",
    "def insertion_complexity(priority_range=(0, 1000), repetitions=100):\n",
    "    times = np.zeros(26)\n",
    "    for n in range(1, 26):\n",
    "        for _ in range(repetitions):\n",
    "            times[n] += test_tree_insertion(n, priority_range=priority_range)\n",
    "        times[n] /= repetitions\n",
    "    return times\n",
    "\n",
    "repetitions = 10\n",
    "times = insertion_complexity(priority_range=(0, 1000), repetitions=repetitions)"
   ]
  },
  {
   "cell_type": "code",
   "execution_count": 58,
   "metadata": {},
   "outputs": [
    {
     "data": {
      "image/png": "[encoded data removed]",
      "text/plain": [
       "<Figure size 640x480 with 1 Axes>"
      ]
     },
     "metadata": {},
     "output_type": "display_data"
    }
   ],
   "source": [
    "plt.title(\"Average node insertion time on a tree of n nodes\")\n",
    "plt.plot(range(1, 26), times[1:] * 1000, label=f\"Average time (n={repetitions})\")\n",
    "# plot a moving average regression, with a window of x\n",
    "window = 5\n",
    "convolved_times = np.convolve(times[1:] * 1000, np.ones(window)/window, mode='valid')\n",
    "plt.plot(range(window//2 + 1, 26 - window//2), convolved_times, label=f\"Moving average (window={window})\")\n",
    "plt.xlabel(\"Number of nodes\")\n",
    "plt.ylabel(\"Time (ms)\")\n",
    "plt.legend()\n",
    "plt.show()"
   ]
  },
  {
   "cell_type": "code",
   "execution_count": 59,
   "metadata": {},
   "outputs": [
    {
     "data": {
      "image/png": "[encoded data removed]",
      "text/plain": [
       "<Figure size 640x480 with 1 Axes>"
      ]
     },
     "metadata": {},
     "output_type": "display_data"
    }
   ],
   "source": [
    "plt.title(\"Average node insertion time on a tree of n nodes\")\n",
    "plt.plot(range(1, 26), times[1:] * 1000)\n",
    "# plot linear complexity line for complexity reference\n",
    "# going from (0, 0) to (max(times), 25)\n",
    "# plt.plot([0, 25], [0, max(times)*1000], 'r--')\n",
    "plt.xlabel(\"Number of nodes\")\n",
    "plt.ylabel(\"Time (ms)\")\n",
    "plt.show()"
   ]
  },
  {
   "cell_type": "markdown",
   "metadata": {},
   "source": [
    "---"
   ]
  },
  {
   "cell_type": "code",
   "execution_count": 60,
   "metadata": {},
   "outputs": [],
   "source": [
    "def get_random_node_3key(nodeslist, priority_range=(0, 10000), max_priority_search=100):\n",
    "    alphabet = \"ABCDEFGHIJKLMNOPQRSTUVWXYZ\"\n",
    "    if nodeslist == []:\n",
    "        key = random.choice(alphabet) + random.choice(alphabet) + random.choice(alphabet)\n",
    "        priority = random.randint(*priority_range)\n",
    "        return Node(key, priority)\n",
    "    \n",
    "    key = random.choice(alphabet) + random.choice(alphabet) + random.choice(alphabet)\n",
    "    while key in [node.key for node in nodeslist]:\n",
    "        key = random.choice(alphabet) + random.choice(alphabet) + random.choice(alphabet)\n",
    "    \n",
    "    priority = priority_range[0] - 1\n",
    "    while priority < priority_range[0] and priority > priority_range[0] - max_priority_search:\n",
    "        p_temp = random.randint(*priority_range)\n",
    "        if p_temp not in [node.priority for node in nodeslist]:\n",
    "            priority = p_temp\n",
    "        else:\n",
    "            priority -= 1\n",
    "            \n",
    "    if priority < priority_range[0]:\n",
    "        print(\"ERROR: No priorities found, skipping\")\n",
    "        return \n",
    "    \n",
    "    \n",
    "    return Node(key, priority)\n",
    "\n",
    "def create_random_nodeslist_3key(n, priority_range=(0, 10000), max_priority_search=100):\n",
    "    nodeslist = []\n",
    "    for _ in range(n):\n",
    "        nodeslist.append(get_random_node_3key(nodeslist, priority_range=priority_range, max_priority_search=max_priority_search))\n",
    "    return nodeslist"
   ]
  },
  {
   "cell_type": "code",
   "execution_count": 61,
   "metadata": {},
   "outputs": [
    {
     "name": "stdout",
     "output_type": "stream",
     "text": [
      "Node(AYX, 86)\n",
      "Node(LVR, 12)\n",
      "Node(PXG, 5)\n",
      "Node(EUO, 59)\n",
      "Node(DTS, 43)\n",
      "Node(QRH, 24)\n",
      "Node(VZG, 100)\n",
      "Node(PMC, 17)\n",
      "Node(FJO, 53)\n",
      "Node(FNB, 56)\n",
      "\n",
      "                                                        ______________(PXG, 5)____\n",
      "                                                       /                          \\\n",
      "                __________________________________(LVR, 12)____                (QRH, 24)____\n",
      "               /                                               \\                            \\\n",
      "      ____(DTS, 43)______________                           (PMC, 17)                    (VZG, 100)\n",
      "     /                           \\\n",
      "(AYX, 86)                 ____(FJO, 53)____\n",
      "                         /                 \\\n",
      "                    (EUO, 59)           (FNB, 56)\n",
      "\n"
     ]
    }
   ],
   "source": [
    "random_nodes = create_random_nodeslist_3key(10, priority_range=(1, 100))\n",
    "for node in random_nodes:\n",
    "    print(node)\n",
    "len(random_nodes)\n",
    "\n",
    "root_random = create_tree(random_nodes)\n",
    "print(convert_to_printable(root_random))"
   ]
  },
  {
   "cell_type": "code",
   "execution_count": 62,
   "metadata": {},
   "outputs": [],
   "source": [
    "def test_tree_insertion_3key(n, priority_range=(0, 1000)):\n",
    "    nodes = create_random_nodeslist_3key(n, priority_range=priority_range)\n",
    "    root = create_tree(nodes)\n",
    "    start = time.time()\n",
    "    insert_node(root, get_random_node_3key(nodes, priority_range=priority_range))\n",
    "    end = time.time()\n",
    "    return end - start\n",
    "\n",
    "def insertion_complexity_3key(max_n, priority_range=(0, 1000), repetitions=100):\n",
    "    times = np.zeros(max_n)\n",
    "    for n in range(1, max_n):\n",
    "        for _ in range(repetitions):\n",
    "            times[n] += test_tree_insertion_3key(n, priority_range=priority_range)\n",
    "        times[n] /= repetitions\n",
    "    return times\n",
    "\n",
    "max_n = 10\n",
    "repetitions = 5\n",
    "times = insertion_complexity_3key(max_n, priority_range=(0, 1000), repetitions=repetitions)"
   ]
  },
  {
   "cell_type": "code",
   "execution_count": 63,
   "metadata": {},
   "outputs": [
    {
     "data": {
      "text/plain": [
       "array([0., 0., 0., 0., 0., 0., 0., 0., 0., 0.])"
      ]
     },
     "execution_count": 63,
     "metadata": {},
     "output_type": "execute_result"
    }
   ],
   "source": [
    "times"
   ]
  },
  {
   "cell_type": "code",
   "execution_count": 64,
   "metadata": {},
   "outputs": [
    {
     "data": {
      "image/png": "[encoded data removed]",
      "text/plain": [
       "<Figure size 640x480 with 1 Axes>"
      ]
     },
     "metadata": {},
     "output_type": "display_data"
    }
   ],
   "source": [
    "plt.title(\"Average node insertion time on a tree of n nodes\")\n",
    "plt.plot(range(1, len(times)), times[1:] * 1000, label=f\"Average time (repetitions={repetitions})\")\n",
    "# plot a moving average with window = window\n",
    "window = 3\n",
    "convolved_times = np.convolve(times[1:] * 1000, np.ones(window)/window, mode='valid')\n",
    "plt.plot(range(window//2 + 1, len(times) - window//2), convolved_times, label=f\"Moving average (window={window})\", color='red', linestyle='dashed')\n",
    "plt.xlabel(\"Number of nodes\")\n",
    "plt.ylabel(\"Time (ms)\")\n",
    "plt.legend()\n",
    "plt.show()"
   ]
  },
  {
   "cell_type": "code",
   "execution_count": null,
   "metadata": {},
   "outputs": [],
   "source": []
  },
  {
   "cell_type": "code",
   "execution_count": 88,
   "metadata": {},
   "outputs": [],
   "source": [
    "\n",
    "def get_depth(root):\n",
    "    if root is None:\n",
    "        return 0\n",
    "    return 1 + max(get_depth(root.left), get_depth(root.right))\n",
    "\n",
    "def get_depth_of_node(root, node):\n",
    "    if root is None:\n",
    "        return 0\n",
    "    if root.key == node.key:\n",
    "        return 1\n",
    "    if node.key < root.key:\n",
    "        return 1 + get_depth_of_node(root.left, node)\n",
    "    return 1 + get_depth_of_node(root.right, node)"
   ]
  },
  {
   "cell_type": "code",
   "execution_count": 89,
   "metadata": {},
   "outputs": [
    {
     "name": "stdout",
     "output_type": "stream",
     "text": [
      "\n",
      "                         ________________________(H, 1)___\n",
      "                        /                                 \\\n",
      "           __________(D, 2)__                           (I, 10)___\n",
      "          /                  \\                                    \\\n",
      "    ___(B, 3)__             (E, 6)__                            (J, 12)\n",
      "   /           \\                    \\\n",
      "(A, 5)        (C, 8)               (F, 7)__\n",
      "                                           \\\n",
      "                                          (G, 9)\n",
      "\n",
      "Depth of tree: 5\n",
      "Depth of node I: 2\n"
     ]
    }
   ],
   "source": [
    "print(convert_to_printable(root))\n",
    "print(f\"Depth of tree: {get_depth(root)}\")\n",
    "nodekey = \"I\"\n",
    "print(f\"Depth of node {nodekey}: {get_depth_of_node(root, find_node(root, nodekey))}\")"
   ]
  },
  {
   "cell_type": "code",
   "execution_count": null,
   "metadata": {},
   "outputs": [],
   "source": []
  },
  {
   "cell_type": "code",
   "execution_count": 126,
   "metadata": {},
   "outputs": [],
   "source": [
    "def insertion_complexity_by_depth_3key(node_count, test_count, repetition_count, priority_range=(0, 1000), max_priority_search=100):\n",
    "    times = [[] for _ in range(node_count)]\n",
    "    for _ in range(test_count):\n",
    "        nodes = create_random_nodeslist_3key(node_count, priority_range=priority_range, max_priority_search=max_priority_search)\n",
    "        for repetition in range(repetition_count):\n",
    "            copynodes = copy_nodeslist(nodes)\n",
    "            root = create_tree(copynodes)\n",
    "            random_insert = get_random_node_3key(copynodes, priority_range=priority_range, max_priority_search=max_priority_search)\n",
    "            start = time.time()\n",
    "            insert_node(root, random_insert)\n",
    "            end = time.time()\n",
    "            depth = get_depth_of_node(root, random_insert)\n",
    "            times[depth - 1].append((end - start) * 1000)\n",
    "    print(\"Recorded insert depths:\", [len(times[i]) for i in range(len(times))])\n",
    "    times = [np.mean(time) for time in times]\n",
    "    return times"
   ]
  },
  {
   "cell_type": "code",
   "execution_count": 127,
   "metadata": {},
   "outputs": [
    {
     "name": "stdout",
     "output_type": "stream",
     "text": [
      "Recorded insert depths: [485, 2341, 4149, 5518, 5344, 4621, 3431, 2003, 1090, 613, 260, 89, 45, 11, 0, 0, 0, 0, 0, 0, 0, 0, 0, 0, 0, 0, 0, 0, 0, 0]\n"
     ]
    },
    {
     "name": "stderr",
     "output_type": "stream",
     "text": [
      "C:\\Users\\EGE\\AppData\\Local\\Packages\\PythonSoftwareFoundation.Python.3.10_qbz5n2kfra8p0\\LocalCache\\local-packages\\Python310\\site-packages\\numpy\\core\\fromnumeric.py:3504: RuntimeWarning: Mean of empty slice.\n",
      "  return _methods._mean(a, axis=axis, dtype=dtype,\n",
      "C:\\Users\\EGE\\AppData\\Local\\Packages\\PythonSoftwareFoundation.Python.3.10_qbz5n2kfra8p0\\LocalCache\\local-packages\\Python310\\site-packages\\numpy\\core\\_methods.py:129: RuntimeWarning: invalid value encountered in scalar divide\n",
      "  ret = ret.dtype.type(ret / rcount)\n"
     ]
    }
   ],
   "source": [
    "node_count = 30\n",
    "test_count = 1000\n",
    "repetition_count = 30\n",
    "\n",
    "priority_range = (0, 1000)\n",
    "max_priority_search = 100\n",
    "\n",
    "times = insertion_complexity_by_depth_3key(node_count, test_count, repetition_count, priority_range=priority_range, max_priority_search=max_priority_search)\n"
   ]
  },
  {
   "cell_type": "code",
   "execution_count": 129,
   "metadata": {},
   "outputs": [
    {
     "name": "stdout",
     "output_type": "stream",
     "text": [
      "[0.0, 0.00047194860980633946, 0.00024117685622782785, 0.0007333164415570349, 0.00020076414782130075, 0.000657005450395866, 0.0008718156494923355, 0.0005240923633470692, 0.0, 0.0032585168934957435, 0.0, 0.0, 0.0, 0.0, nan, nan, nan, nan, nan, nan, nan, nan, nan, nan, nan, nan, nan, nan, nan, nan]\n"
     ]
    }
   ],
   "source": [
    "print(times)"
   ]
  },
  {
   "cell_type": "code",
   "execution_count": 130,
   "metadata": {},
   "outputs": [
    {
     "data": {
      "image/png": "[encoded data removed]",
      "text/plain": [
       "<Figure size 640x480 with 1 Axes>"
      ]
     },
     "metadata": {},
     "output_type": "display_data"
    }
   ],
   "source": [
    "plt.title(\"Average node insertion time on a tree of n nodes by depth\")\n",
    "plt.plot(range(1, len(times)), times[1:], label=f\"Average time (n={test_count})\")\n",
    "plt.xlabel(\"Depth\")\n",
    "plt.ylabel(\"Time (ms)\")\n",
    "plt.xticks(range(1, len(times)))\n",
    "plt.legend()\n",
    "plt.show()"
   ]
  },
  {
   "cell_type": "code",
   "execution_count": null,
   "metadata": {},
   "outputs": [],
   "source": []
  }
 ],
 "metadata": {
  "kernelspec": {
   "display_name": "Python 3",
   "language": "python",
   "name": "python3"
  },
  "language_info": {
   "codemirror_mode": {
    "name": "ipython",
    "version": 3
   },
   "file_extension": ".py",
   "mimetype": "text/x-python",
   "name": "python",
   "nbconvert_exporter": "python",
   "pygments_lexer": "ipython3",
   "version": "3.10.11"
  }
 },
 "nbformat": 4,
 "nbformat_minor": 2
}
