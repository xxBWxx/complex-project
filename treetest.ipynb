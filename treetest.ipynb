{
 "cells": [
  {
   "cell_type": "code",
   "execution_count": 174,
   "metadata": {},
   "outputs": [],
   "source": [
    "import binarytree # just to visualize the tree, not needed for the actual implementation\n",
    "import random\n",
    "import time\n",
    "import numpy as np\n",
    "import matplotlib.pyplot as plt\n",
    "import CartesianTree\n",
    "\n",
    "class Node:\n",
    "    def __init__(self, key, priority, left=None, right=None):\n",
    "        self.key = key\n",
    "        self.priority = priority\n",
    "        self.left = left\n",
    "        self.right = right\n",
    "    \n",
    "    def __str__(self):\n",
    "        return f'Node({self.key}, {self.priority})'\n",
    "    \n",
    "    def copy(self):\n",
    "        return Node(self.key, self.priority, self.left, self.right)"
   ]
  },
  {
   "cell_type": "code",
   "execution_count": 2,
   "metadata": {},
   "outputs": [],
   "source": [
    "testnodes = \"(A : 5),(B : 3),(C : 8),(D : 2),(E : 6),(F : 7),(G : 9),(H : 1),(I : 10),(J : 12)\""
   ]
  },
  {
   "cell_type": "code",
   "execution_count": null,
   "metadata": {},
   "outputs": [],
   "source": [
    "def nodes_from_string(nodes_str):\n",
    "    nodes = []\n",
    "    for node_str in nodes_str.split(','):\n",
    "        key, priority = node_str.strip('()').split(' : ')\n",
    "        nodes.append(Node(key, int(priority)))\n",
    "    return nodes\n",
    "\n",
    "def print_nodes(nodes):\n",
    "    for node in nodes:\n",
    "        print(node)\n",
    "        \n"
   ]
  },
  {
   "cell_type": "code",
   "execution_count": 4,
   "metadata": {},
   "outputs": [
    {
     "name": "stdout",
     "output_type": "stream",
     "text": [
      "Node(A, 5)\n",
      "Node(B, 3)\n",
      "Node(C, 8)\n",
      "Node(D, 2)\n",
      "Node(E, 6)\n",
      "Node(F, 7)\n",
      "Node(G, 9)\n",
      "Node(H, 1)\n",
      "Node(I, 10)\n",
      "Node(J, 12)\n"
     ]
    }
   ],
   "source": [
    "nodes = nodes_from_string(testnodes)\n",
    "print_nodes(nodes)"
   ]
  },
  {
   "cell_type": "code",
   "execution_count": 5,
   "metadata": {},
   "outputs": [
    {
     "data": {
      "text/plain": [
       "[<__main__.Node at 0x172e7df0580>,\n",
       " <__main__.Node at 0x172e7df2260>,\n",
       " <__main__.Node at 0x172e7df04f0>,\n",
       " <__main__.Node at 0x172e7df1630>,\n",
       " <__main__.Node at 0x172e7df3880>,\n",
       " <__main__.Node at 0x172e7df37c0>,\n",
       " <__main__.Node at 0x172e7df1690>,\n",
       " <__main__.Node at 0x172e7df0070>,\n",
       " <__main__.Node at 0x172e7df3610>,\n",
       " <__main__.Node at 0x172e7df3310>]"
      ]
     },
     "execution_count": 5,
     "metadata": {},
     "output_type": "execute_result"
    }
   ],
   "source": [
    "nodes"
   ]
  },
  {
   "cell_type": "code",
   "execution_count": 6,
   "metadata": {},
   "outputs": [],
   "source": [
    "def copy_nodeslist(nodes):\n",
    "    return [node.copy() for node in nodes]"
   ]
  },
  {
   "cell_type": "code",
   "execution_count": 7,
   "metadata": {},
   "outputs": [
    {
     "data": {
      "text/plain": [
       "('E', 6)"
      ]
     },
     "execution_count": 7,
     "metadata": {},
     "output_type": "execute_result"
    }
   ],
   "source": [
    "nodes[4].key, nodes[4].priority"
   ]
  },
  {
   "cell_type": "code",
   "execution_count": 8,
   "metadata": {},
   "outputs": [],
   "source": [
    "def insert_node_without_rotation(root, node, verbose=False):\n",
    "    if verbose:\n",
    "        print(f\"--ADDING {node.key} TO {root.key}--\")\n",
    "    if node.priority < root.priority:\n",
    "        if node.key < root.key:\n",
    "            node.right = root\n",
    "            if verbose:\n",
    "                print(f\"Added node above root ({node.key}.right = {root.key})\")\n",
    "            return node\n",
    "        else:\n",
    "            node.left = root\n",
    "            if verbose:\n",
    "                print(f\"Added node above root ({node.key}.left = {root.key})\")\n",
    "            return node\n",
    "    if node.key < root.key:\n",
    "        if root.left is None:\n",
    "            root.left = node\n",
    "            if verbose:\n",
    "                print(f\"Added node to left of root ({root.key}.left = {node.key})\")\n",
    "            return root\n",
    "        if verbose:\n",
    "            print(f\"\\tGoing one layer down on the left from {root.key} for {node.key}\")\n",
    "        root.left = insert_node_without_rotation(root.left, node, verbose=verbose)\n",
    "        return root\n",
    "    if root.right is None:\n",
    "        root.right = node\n",
    "        if verbose:\n",
    "            print(f\"Added node to right of root ({root.key}.right = {node.key})\")\n",
    "        return root\n",
    "    if verbose:\n",
    "        print(f\"\\tGoing one layer down on the right from {root.key} for {node.key}\")\n",
    "    root.right = insert_node_without_rotation(root.right, node, verbose=verbose)\n",
    "    return root\n",
    "\n",
    "def create_tree_without_rotation(nodes, verbose=False):\n",
    "    root = nodes[0]\n",
    "    for node in nodes[1:]:\n",
    "        root = insert_node_without_rotation(root, node, verbose=verbose)\n",
    "    return root\n",
    "\n",
    "def convert_to_printable(root):\n",
    "    if root is None:\n",
    "        return None\n",
    "    return binarytree.Node('(' + root.key + ', ' + str(root.priority) + ')', convert_to_printable(root.left), convert_to_printable(root.right))"
   ]
  },
  {
   "cell_type": "code",
   "execution_count": 9,
   "metadata": {},
   "outputs": [],
   "source": [
    "def insert_node(root, node, verbose=False):\n",
    "    if verbose:\n",
    "        print(f\"--ADDING {node.key} TO {root.key}--\")\n",
    "    if node.priority < root.priority:\n",
    "        if node.key < root.key:\n",
    "            node.right = root\n",
    "            if verbose:\n",
    "                print(f\"Added node above root ({node.key}.right = {root.key})\")\n",
    "            if root.left and root.left.key < node.key:\n",
    "                node.left = root.left\n",
    "                root.left = None\n",
    "                if verbose:\n",
    "                    print(\"Fixed left child\")\n",
    "            return node\n",
    "        else:\n",
    "            node.left = root\n",
    "            if verbose:\n",
    "                print(f\"Added node above root ({node.key}.left = {root.key})\")\n",
    "            if root.right and root.right.key > node.key:\n",
    "                node.right = root.right\n",
    "                root.right = None\n",
    "                if verbose:\n",
    "                    print(\"Fixed right child\")\n",
    "            return node\n",
    "    if node.key < root.key:\n",
    "        if root.left is None:\n",
    "            root.left = node\n",
    "            if verbose:\n",
    "                print(f\"Added node to left of root ({root.key}.left = {node.key})\")\n",
    "            return root\n",
    "        if verbose:\n",
    "            print(f\"\\tGoing one layer down on the left from {root.key} for {node.key}\")\n",
    "        root.left = insert_node(root.left, node, verbose=verbose)\n",
    "        return root\n",
    "    if root.right is None:\n",
    "        root.right = node\n",
    "        if verbose:\n",
    "            print(f\"Added node to right of root ({root.key}.right = {node.key})\")\n",
    "        return root\n",
    "    if verbose:\n",
    "        print(f\"\\tGoing one layer down on the right from {root.key} for {node.key}\")\n",
    "    root.right = insert_node(root.right, node, verbose=verbose)\n",
    "    return root\n",
    "\n",
    "def create_tree(nodes, verbose=False):\n",
    "    root = nodes[0]\n",
    "    for node in nodes[1:]:\n",
    "        root = insert_node(root, node, verbose=verbose)\n",
    "    return root\n",
    "\n",
    "def convert_to_printable(root):\n",
    "    if root is None:\n",
    "        return None\n",
    "    return binarytree.Node('(' + root.key + ', ' + str(root.priority) + ')', convert_to_printable(root.left), convert_to_printable(root.right))"
   ]
  },
  {
   "cell_type": "code",
   "execution_count": 10,
   "metadata": {},
   "outputs": [
    {
     "name": "stdout",
     "output_type": "stream",
     "text": [
      "\n",
      "                         ________________________(H, 1)___\n",
      "                        /                                 \\\n",
      "           __________(D, 2)__                           (I, 10)___\n",
      "          /                  \\                                    \\\n",
      "    ___(B, 3)__             (E, 6)__                            (J, 12)\n",
      "   /           \\                    \\\n",
      "(A, 5)        (C, 8)               (F, 7)__\n",
      "                                           \\\n",
      "                                          (G, 9)\n",
      "\n"
     ]
    }
   ],
   "source": [
    "nodes = nodes_from_string(testnodes)\n",
    "#print_nodes(nodes)\n",
    "root = create_tree_without_rotation(nodes)\n",
    "\n",
    "print(convert_to_printable(root))"
   ]
  },
  {
   "cell_type": "code",
   "execution_count": 11,
   "metadata": {},
   "outputs": [],
   "source": [
    "# new order:   H,      D,      B,      A,      E,      F,      C,      G,      I et     J\n",
    "testnodes2 = \"(H : 1),(D : 2),(B : 3),(A : 5),(E : 6),(F : 7),(C : 8),(G : 9),(I : 10),(J : 12)\"\n",
    "nodes2 = nodes_from_string(testnodes2)"
   ]
  },
  {
   "cell_type": "code",
   "execution_count": 12,
   "metadata": {},
   "outputs": [
    {
     "name": "stdout",
     "output_type": "stream",
     "text": [
      "\n",
      "                         ________________________(H, 1)___\n",
      "                        /                                 \\\n",
      "           __________(D, 2)__                           (I, 10)___\n",
      "          /                  \\                                    \\\n",
      "    ___(B, 3)__             (E, 6)__                            (J, 12)\n",
      "   /           \\                    \\\n",
      "(A, 5)        (C, 8)               (F, 7)__\n",
      "                                           \\\n",
      "                                          (G, 9)\n",
      "\n"
     ]
    }
   ],
   "source": [
    "nodes2 = nodes_from_string(testnodes2)\n",
    "#print_nodes(nodes)\n",
    "root2 = create_tree_without_rotation(nodes2)\n",
    "\n",
    "print(convert_to_printable(root2))"
   ]
  },
  {
   "cell_type": "code",
   "execution_count": 13,
   "metadata": {},
   "outputs": [
    {
     "name": "stdout",
     "output_type": "stream",
     "text": [
      "\n",
      "                         ________________________(H, 1)___\n",
      "                        /                                 \\\n",
      "           __________(D, 2)__                           (I, 10)___\n",
      "          /                  \\                                    \\\n",
      "    ___(B, 3)__             (E, 6)__                            (J, 12)___\n",
      "   /           \\                    \\                                     \\\n",
      "(A, 5)        (C, 8)               (F, 7)__                             (M, 20)\n",
      "                                           \\\n",
      "                                          (G, 9)\n",
      "\n",
      "\n",
      "                         ________________________(H, 1)___\n",
      "                        /                                 \\\n",
      "           __________(D, 2)__                           (I, 10)___\n",
      "          /                  \\                                    \\\n",
      "    ___(B, 3)__             (E, 6)__                            (J, 12)___\n",
      "   /           \\                    \\                                     \\\n",
      "(A, 5)        (C, 8)               (F, 7)__                             (K, 15)___\n",
      "                                           \\                                      \\\n",
      "                                          (G, 9)                                (M, 20)\n",
      "\n",
      "\n",
      "                         ________________________(H, 1)___\n",
      "                        /                                 \\\n",
      "           __________(D, 2)__                           (I, 10)___\n",
      "          /                  \\                                    \\\n",
      "    ___(B, 3)__             (E, 6)__                            (J, 12)___________________\n",
      "   /           \\                    \\                                                     \\\n",
      "(A, 5)        (C, 8)               (F, 7)__                                  ___________(L, 14)\n",
      "                                           \\                                /\n",
      "                                          (G, 9)                        (K, 15)___\n",
      "                                                                                  \\\n",
      "                                                                                (M, 20)\n",
      "\n"
     ]
    }
   ],
   "source": [
    "root3 = insert_node_without_rotation(root2, Node('M', 20))\n",
    "print(convert_to_printable(root3))\n",
    "root3 = insert_node_without_rotation(root3, Node('K', 15))\n",
    "print(convert_to_printable(root3))\n",
    "root3 = insert_node_without_rotation(root3, Node('L', 14))\n",
    "print(convert_to_printable(root3))"
   ]
  },
  {
   "cell_type": "code",
   "execution_count": 14,
   "metadata": {},
   "outputs": [
    {
     "name": "stdout",
     "output_type": "stream",
     "text": [
      "\n",
      "                         ________________________(H, 1)___\n",
      "                        /                                 \\\n",
      "           __________(D, 2)__                           (I, 10)___\n",
      "          /                  \\                                    \\\n",
      "    ___(B, 3)__             (E, 6)__                            (J, 12)___________________\n",
      "   /           \\                    \\                                                     \\\n",
      "(A, 5)        (C, 8)               (F, 7)__                                  ___________(L, 14)___\n",
      "                                           \\                                /                     \\\n",
      "                                          (G, 9)                        (K, 15)___              (M, 20)\n",
      "                                                                                  \\\n",
      "                                                                                (M, 20)\n",
      "\n",
      "\n",
      "                         ________________________(H, 1)___\n",
      "                        /                                 \\\n",
      "           __________(D, 2)__                           (I, 10)___\n",
      "          /                  \\                                    \\\n",
      "    ___(B, 3)__             (E, 6)__                            (J, 12)___________________________\n",
      "   /           \\                    \\                                                             \\\n",
      "(A, 5)        (C, 8)               (F, 7)__                                  ___________________(L, 14)___\n",
      "                                           \\                                /                             \\\n",
      "                                          (G, 9)                        (K, 15)___                      (M, 20)\n",
      "                                                                                  \\\n",
      "                                                                                (K, 15)___\n",
      "                                                                                          \\\n",
      "                                                                                        (M, 20)\n",
      "\n",
      "\n",
      "                         ________________________(H, 1)___\n",
      "                        /                                 \\\n",
      "           __________(D, 2)__                           (I, 10)___\n",
      "          /                  \\                                    \\\n",
      "    ___(B, 3)__             (E, 6)__                            (J, 12)___________________________\n",
      "   /           \\                    \\                                                             \\\n",
      "(A, 5)        (C, 8)               (F, 7)__                                  ___________________(L, 14)___\n",
      "                                           \\                                /                             \\\n",
      "                                          (G, 9)                        (K, 15)___                      (L, 14)___\n",
      "                                                                                  \\                               \\\n",
      "                                                                                (K, 15)___                      (M, 20)\n",
      "                                                                                          \\\n",
      "                                                                                        (M, 20)\n",
      "\n"
     ]
    }
   ],
   "source": [
    "root3 = insert_node(root2, Node('M', 20))\n",
    "print(convert_to_printable(root3))\n",
    "root3 = insert_node(root3, Node('K', 15))\n",
    "print(convert_to_printable(root3))\n",
    "root3 = insert_node(root3, Node('L', 14))\n",
    "print(convert_to_printable(root3))"
   ]
  },
  {
   "cell_type": "code",
   "execution_count": 15,
   "metadata": {},
   "outputs": [
    {
     "name": "stdout",
     "output_type": "stream",
     "text": [
      "Node(A, 5) Node(B, 3)\n"
     ]
    }
   ],
   "source": [
    "nodes = nodes_from_string(testnodes)\n",
    "root = nodes[0]\n",
    "print(root, nodes[1])"
   ]
  },
  {
   "cell_type": "code",
   "execution_count": 16,
   "metadata": {},
   "outputs": [
    {
     "name": "stdout",
     "output_type": "stream",
     "text": [
      "\n",
      "    ___(B, 3)\n",
      "   /\n",
      "(A, 5)\n",
      "\n"
     ]
    }
   ],
   "source": [
    "root = insert_node(root, nodes[1])\n",
    "print(convert_to_printable(root))"
   ]
  },
  {
   "cell_type": "code",
   "execution_count": 17,
   "metadata": {},
   "outputs": [
    {
     "name": "stdout",
     "output_type": "stream",
     "text": [
      "\n",
      "    ___(B, 3)__\n",
      "   /           \\\n",
      "(A, 5)        (C, 8)\n",
      "\n"
     ]
    }
   ],
   "source": [
    "root = insert_node(root, nodes[2])\n",
    "print(convert_to_printable(root))"
   ]
  },
  {
   "cell_type": "code",
   "execution_count": 18,
   "metadata": {},
   "outputs": [
    {
     "name": "stdout",
     "output_type": "stream",
     "text": [
      "\n",
      "           __________(D, 2)\n",
      "          /\n",
      "    ___(B, 3)__\n",
      "   /           \\\n",
      "(A, 5)        (C, 8)\n",
      "\n"
     ]
    }
   ],
   "source": [
    "root = insert_node(root, nodes[3])\n",
    "print(convert_to_printable(root))"
   ]
  },
  {
   "cell_type": "code",
   "execution_count": 19,
   "metadata": {},
   "outputs": [
    {
     "name": "stdout",
     "output_type": "stream",
     "text": [
      "\n",
      "           __________(D, 2)__\n",
      "          /                  \\\n",
      "    ___(B, 3)__             (E, 6)\n",
      "   /           \\\n",
      "(A, 5)        (C, 8)\n",
      "\n"
     ]
    }
   ],
   "source": [
    "root = insert_node(root, nodes[4])\n",
    "print(convert_to_printable(root))"
   ]
  },
  {
   "cell_type": "code",
   "execution_count": 20,
   "metadata": {},
   "outputs": [
    {
     "name": "stdout",
     "output_type": "stream",
     "text": [
      "\n",
      "           __________(D, 2)__\n",
      "          /                  \\\n",
      "    ___(B, 3)__             (E, 6)__\n",
      "   /           \\                    \\\n",
      "(A, 5)        (C, 8)               (F, 7)\n",
      "\n"
     ]
    }
   ],
   "source": [
    "root = insert_node(root, nodes[5])\n",
    "print(convert_to_printable(root))"
   ]
  },
  {
   "cell_type": "code",
   "execution_count": 21,
   "metadata": {},
   "outputs": [
    {
     "name": "stdout",
     "output_type": "stream",
     "text": [
      "\n",
      "           __________(D, 2)__\n",
      "          /                  \\\n",
      "    ___(B, 3)__             (E, 6)__\n",
      "   /           \\                    \\\n",
      "(A, 5)        (C, 8)               (F, 7)__\n",
      "                                           \\\n",
      "                                          (G, 9)\n",
      "\n"
     ]
    }
   ],
   "source": [
    "root = insert_node(root, nodes[6])\n",
    "print(convert_to_printable(root))"
   ]
  },
  {
   "cell_type": "code",
   "execution_count": 22,
   "metadata": {},
   "outputs": [
    {
     "name": "stdout",
     "output_type": "stream",
     "text": [
      "\n",
      "                         ________________________(H, 1)\n",
      "                        /\n",
      "           __________(D, 2)__\n",
      "          /                  \\\n",
      "    ___(B, 3)__             (E, 6)__\n",
      "   /           \\                    \\\n",
      "(A, 5)        (C, 8)               (F, 7)__\n",
      "                                           \\\n",
      "                                          (G, 9)\n",
      "\n"
     ]
    }
   ],
   "source": [
    "root = insert_node(root, nodes[7])\n",
    "print(convert_to_printable(root))"
   ]
  },
  {
   "cell_type": "code",
   "execution_count": 23,
   "metadata": {},
   "outputs": [
    {
     "name": "stdout",
     "output_type": "stream",
     "text": [
      "\n",
      "                         ________________________(H, 1)___\n",
      "                        /                                 \\\n",
      "           __________(D, 2)__                           (I, 10)\n",
      "          /                  \\\n",
      "    ___(B, 3)__             (E, 6)__\n",
      "   /           \\                    \\\n",
      "(A, 5)        (C, 8)               (F, 7)__\n",
      "                                           \\\n",
      "                                          (G, 9)\n",
      "\n"
     ]
    }
   ],
   "source": [
    "root = insert_node(root, nodes[8])\n",
    "print(convert_to_printable(root))"
   ]
  },
  {
   "cell_type": "code",
   "execution_count": 24,
   "metadata": {},
   "outputs": [
    {
     "name": "stdout",
     "output_type": "stream",
     "text": [
      "\n",
      "                         ________________________(H, 1)___\n",
      "                        /                                 \\\n",
      "           __________(D, 2)__                           (I, 10)___\n",
      "          /                  \\                                    \\\n",
      "    ___(B, 3)__             (E, 6)__                            (J, 12)\n",
      "   /           \\                    \\\n",
      "(A, 5)        (C, 8)               (F, 7)__\n",
      "                                           \\\n",
      "                                          (G, 9)\n",
      "\n"
     ]
    }
   ],
   "source": [
    "root = insert_node(root, nodes[9])\n",
    "print(convert_to_printable(root))"
   ]
  },
  {
   "cell_type": "code",
   "execution_count": 25,
   "metadata": {},
   "outputs": [
    {
     "name": "stdout",
     "output_type": "stream",
     "text": [
      "Node(A, 5)\n",
      "Node(B, 3)\n",
      "Node(C, 8)\n",
      "Node(D, 2)\n",
      "Node(E, 6)\n",
      "Node(F, 7)\n",
      "Node(G, 9)\n",
      "Node(H, 1)\n",
      "Node(I, 10)\n",
      "Node(J, 12)\n"
     ]
    }
   ],
   "source": [
    "nodes = nodes_from_string(testnodes)\n",
    "print_nodes(nodes)\n",
    "root = create_tree(nodes)"
   ]
  },
  {
   "cell_type": "code",
   "execution_count": 26,
   "metadata": {},
   "outputs": [
    {
     "name": "stdout",
     "output_type": "stream",
     "text": [
      "\n",
      "                         ________________________(H, 1)___\n",
      "                        /                                 \\\n",
      "           __________(D, 2)__                           (I, 10)___\n",
      "          /                  \\                                    \\\n",
      "    ___(B, 3)__             (E, 6)__                            (J, 12)\n",
      "   /           \\                    \\\n",
      "(A, 5)        (C, 8)               (F, 7)__\n",
      "                                           \\\n",
      "                                          (G, 9)\n",
      "\n"
     ]
    }
   ],
   "source": [
    "print(convert_to_printable(root))"
   ]
  },
  {
   "cell_type": "code",
   "execution_count": 27,
   "metadata": {},
   "outputs": [],
   "source": [
    "# new order:   H,      D,      B,      A,      E,      F,      C,      G,      I et     J\n",
    "testnodes2 = \"(H : 1),(D : 2),(B : 3),(A : 5),(E : 6),(F : 7),(C : 8),(G : 9),(I : 10),(J : 12)\"\n",
    "nodes2 = nodes_from_string(testnodes2)"
   ]
  },
  {
   "cell_type": "code",
   "execution_count": 28,
   "metadata": {},
   "outputs": [
    {
     "name": "stdout",
     "output_type": "stream",
     "text": [
      "\n",
      "                         ________________________(H, 1)___\n",
      "                        /                                 \\\n",
      "           __________(D, 2)__                           (I, 10)___\n",
      "          /                  \\                                    \\\n",
      "    ___(B, 3)__             (E, 6)__                            (J, 12)\n",
      "   /           \\                    \\\n",
      "(A, 5)        (C, 8)               (F, 7)__\n",
      "                                           \\\n",
      "                                          (G, 9)\n",
      "\n"
     ]
    }
   ],
   "source": [
    "root2 = create_tree(nodes2)\n",
    "print(convert_to_printable(root2))"
   ]
  },
  {
   "cell_type": "code",
   "execution_count": 29,
   "metadata": {},
   "outputs": [],
   "source": [
    "def find_node(root, key):\n",
    "    if root is None:\n",
    "        return None\n",
    "    if root.key == key:\n",
    "        return root\n",
    "    if key < root.key:\n",
    "        return find_node(root.left, key)\n",
    "    return find_node(root.right, key)"
   ]
  },
  {
   "cell_type": "code",
   "execution_count": 30,
   "metadata": {},
   "outputs": [
    {
     "name": "stdout",
     "output_type": "stream",
     "text": [
      "Node(E, 6) == E True\n"
     ]
    }
   ],
   "source": [
    "search = \"E\"\n",
    "found_node = find_node(root2, search)\n",
    "print(found_node, \"==\", search, found_node.key == search)   "
   ]
  },
  {
   "cell_type": "code",
   "execution_count": 31,
   "metadata": {},
   "outputs": [
    {
     "name": "stdout",
     "output_type": "stream",
     "text": [
      "\n",
      "            ________________________(F, 1)_________\n",
      "           /                                       \\\n",
      "     ___(B, 3)_________                        ___(H, 2)__\n",
      "    /                  \\                      /           \\\n",
      "(A, 10)            ___(D, 4)__             (G, 9)        (I, 5)__\n",
      "                  /           \\                                  \\\n",
      "               (C, 7)        (E, 6)                             (J, 8)\n",
      "\n"
     ]
    }
   ],
   "source": [
    "examplenodes = \"(F : 1),(H : 2),(B : 3),(A : 10),(E : 6),(C : 7),(J : 8),(G : 9),(I : 5),(D : 4)\"\n",
    "nodes3 = nodes_from_string(examplenodes)\n",
    "root3 = create_tree(nodes3)\n",
    "print(convert_to_printable(root3))"
   ]
  },
  {
   "cell_type": "code",
   "execution_count": 32,
   "metadata": {},
   "outputs": [
    {
     "name": "stdout",
     "output_type": "stream",
     "text": [
      "\n",
      "(F, 1)__\n",
      "        \\\n",
      "       (H, 2)\n",
      "\n",
      "\n",
      "    ___(F, 1)__\n",
      "   /           \\\n",
      "(B, 3)        (H, 2)\n",
      "\n",
      "\n",
      "            ___(F, 1)__\n",
      "           /           \\\n",
      "     ___(B, 3)        (H, 2)\n",
      "    /\n",
      "(A, 10)\n",
      "\n",
      "\n",
      "            __________(F, 1)__\n",
      "           /                  \\\n",
      "     ___(B, 3)__             (H, 2)\n",
      "    /           \\\n",
      "(A, 10)        (E, 6)\n",
      "\n",
      "\n",
      "            _________________(F, 1)__\n",
      "           /                         \\\n",
      "     ___(B, 3)_________             (H, 2)\n",
      "    /                  \\\n",
      "(A, 10)            ___(E, 6)\n",
      "                  /\n",
      "               (C, 7)\n",
      "\n",
      "\n",
      "            _________________(F, 1)__\n",
      "           /                         \\\n",
      "     ___(B, 3)_________             (H, 2)__\n",
      "    /                  \\                    \\\n",
      "(A, 10)            ___(E, 6)               (J, 8)\n",
      "                  /\n",
      "               (C, 7)\n",
      "\n",
      "\n",
      "            _________________(F, 1)_________\n",
      "           /                                \\\n",
      "     ___(B, 3)_________                 ___(H, 2)__\n",
      "    /                  \\               /           \\\n",
      "(A, 10)            ___(E, 6)        (G, 9)        (J, 8)\n",
      "                  /\n",
      "               (C, 7)\n",
      "\n",
      "\n",
      "            _________________(F, 1)_________\n",
      "           /                                \\\n",
      "     ___(B, 3)_________                 ___(H, 2)__\n",
      "    /                  \\               /           \\\n",
      "(A, 10)            ___(E, 6)        (G, 9)        (I, 5)__\n",
      "                  /                                       \\\n",
      "               (C, 7)                                    (J, 8)\n",
      "\n",
      "\n",
      "            ________________________(F, 1)_________\n",
      "           /                                       \\\n",
      "     ___(B, 3)_________                        ___(H, 2)__\n",
      "    /                  \\                      /           \\\n",
      "(A, 10)            ___(D, 4)__             (G, 9)        (I, 5)__\n",
      "                  /           \\                                  \\\n",
      "               (C, 7)        (E, 6)                             (J, 8)\n",
      "\n"
     ]
    }
   ],
   "source": [
    "examplenodes = \"(F : 1),(H : 2),(B : 3),(A : 10),(E : 6),(C : 7),(J : 8),(G : 9),(I : 5),(D : 4)\"\n",
    "nodes3 = nodes_from_string(examplenodes)\n",
    "\n",
    "root3 = nodes3[0]\n",
    "\n",
    "for i in range(1, len(nodes3)):\n",
    "    root3 = insert_node(root3, nodes3[i])\n",
    "    print(convert_to_printable(root3))"
   ]
  },
  {
   "cell_type": "code",
   "execution_count": null,
   "metadata": {},
   "outputs": [],
   "source": []
  },
  {
   "cell_type": "markdown",
   "metadata": {},
   "source": [
    "## Q 3.a Montrer, sur l’exemple de la question 1.a. que l’insertion d’un nœud dans un arbre cartésien en suivant la m´ethode d’insertion dans un arbre binaire de recherche, peut r´esulter en un arbre qui ne v´erifie plus la propri´et´e de tas\n",
    "\n",
    "# A: insert_tree before the left and right child fixes"
   ]
  },
  {
   "cell_type": "code",
   "execution_count": 33,
   "metadata": {},
   "outputs": [],
   "source": [
    "def rotate_tree_right(root):\n",
    "    new_root = root.left\n",
    "    root.left = new_root.right\n",
    "    new_root.right = root\n",
    "    return new_root\n",
    "\n",
    "def rotate_tree_left(root):\n",
    "    new_root = root.right\n",
    "    root.right = new_root.left\n",
    "    new_root.left = root\n",
    "    return new_root"
   ]
  },
  {
   "cell_type": "code",
   "execution_count": 34,
   "metadata": {},
   "outputs": [
    {
     "name": "stdout",
     "output_type": "stream",
     "text": [
      "\n",
      "     ___(B, 3)_______________________\n",
      "    /                                \\\n",
      "(A, 10)                   __________(F, 1)_________\n",
      "                         /                         \\\n",
      "                   ___(D, 4)__                 ___(H, 2)__\n",
      "                  /           \\               /           \\\n",
      "               (C, 7)        (E, 6)        (G, 9)        (I, 5)__\n",
      "                                                                 \\\n",
      "                                                                (J, 8)\n",
      "\n"
     ]
    }
   ],
   "source": [
    "print(convert_to_printable(rotate_tree_right(root3)))"
   ]
  },
  {
   "cell_type": "markdown",
   "metadata": {},
   "source": [
    "# Complexity of rotation is O(1)  ?"
   ]
  },
  {
   "cell_type": "markdown",
   "metadata": {},
   "source": [
    "---"
   ]
  },
  {
   "cell_type": "markdown",
   "metadata": {},
   "source": [
    "# 3.D TESTS"
   ]
  },
  {
   "cell_type": "markdown",
   "metadata": {},
   "source": [
    "---"
   ]
  },
  {
   "cell_type": "code",
   "execution_count": null,
   "metadata": {},
   "outputs": [],
   "source": []
  },
  {
   "cell_type": "code",
   "execution_count": 35,
   "metadata": {},
   "outputs": [
    {
     "name": "stdout",
     "output_type": "stream",
     "text": [
      "\tTEST 1 (QUESTION 1.A)\n",
      "\n",
      "                         ________________________(H, 1)___\n",
      "                        /                                 \\\n",
      "           __________(D, 2)__                           (I, 10)___\n",
      "          /                  \\                                    \\\n",
      "    ___(B, 3)__             (E, 6)__                            (J, 12)\n",
      "   /           \\                    \\\n",
      "(A, 5)        (C, 8)               (F, 7)__\n",
      "                                           \\\n",
      "                                          (G, 9)\n",
      "\n",
      "\tTEST 2\n",
      "\n",
      "                         ________________________(H, 1)___\n",
      "                        /                                 \\\n",
      "           __________(D, 2)__                           (I, 10)___\n",
      "          /                  \\                                    \\\n",
      "    ___(B, 3)__             (E, 6)__                            (J, 12)\n",
      "   /           \\                    \\\n",
      "(A, 5)        (C, 8)               (F, 7)__\n",
      "                                           \\\n",
      "                                          (G, 9)\n",
      "\n",
      "\tTEST 3\n",
      "\n",
      "                         ________________________(H, 1)___\n",
      "                        /                                 \\\n",
      "           __________(D, 2)__                           (I, 10)___\n",
      "          /                  \\                                    \\\n",
      "    ___(B, 3)__             (E, 6)__                            (J, 12)\n",
      "   /           \\                    \\\n",
      "(A, 5)        (C, 8)               (F, 7)__\n",
      "                                           \\\n",
      "                                          (G, 9)\n",
      "\n"
     ]
    }
   ],
   "source": [
    "nodes3d1 = nodes_from_string(\"(A : 5),(B : 3),(C : 8),(D : 2),(E : 6),(F : 7),(G : 9),(H : 1),(I : 10),(J : 12)\")\n",
    "nodes3d2 = nodes_from_string(\"(H : 1),(G : 9),(A : 5),(B : 3),(D : 2),(F : 7),(C : 8),(J : 12),(I : 10),(E : 6)\")\n",
    "nodes3d3 = nodes_from_string(\"(E : 6),(H : 1),(B : 3),(D : 2),(C : 8),(F : 7),(G : 9),(J : 12),(A : 5),(I : 10)\")\n",
    "\n",
    "print(\"\\tTEST 1 (QUESTION 1.A)\")\n",
    "root1 = create_tree(nodes3d1, verbose=False)\n",
    "print(convert_to_printable(root1))\n",
    "\n",
    "print(\"\\tTEST 2\")\n",
    "print(convert_to_printable(create_tree(nodes3d2, verbose=False)))\n",
    "\n",
    "print(\"\\tTEST 3\")\n",
    "print(convert_to_printable(create_tree(nodes3d3, verbose=False)))"
   ]
  },
  {
   "cell_type": "markdown",
   "metadata": {},
   "source": [
    "---"
   ]
  },
  {
   "cell_type": "markdown",
   "metadata": {},
   "source": [
    "# EX 4"
   ]
  },
  {
   "cell_type": "markdown",
   "metadata": {},
   "source": [
    "---"
   ]
  },
  {
   "cell_type": "code",
   "execution_count": 36,
   "metadata": {},
   "outputs": [],
   "source": [
    "def remove_node(root, node):\n",
    "    if root is None:\n",
    "        return None\n",
    "    if root.key == node.key:\n",
    "        if root.left is None:\n",
    "            return root.right\n",
    "        if root.right is None:\n",
    "            return root.left\n",
    "        if root.left.priority < root.right.priority:\n",
    "            return rotate_tree_right(root)\n",
    "        return rotate_tree_left(root)\n",
    "    if node.key < root.key:\n",
    "        root.left = remove_node(root.left, node)\n",
    "        return root\n",
    "    root.right = remove_node(root.right, node)\n",
    "    return root\n",
    "\n",
    "def remove_key(root, key):\n",
    "    return remove_node(root, find_node(root, key))"
   ]
  },
  {
   "cell_type": "code",
   "execution_count": 37,
   "metadata": {},
   "outputs": [],
   "source": [
    "def remove_node(root, node):\n",
    "    if root is None:\n",
    "        return None\n",
    "    # Search for the node to remove\n",
    "    if node.key < root.key:\n",
    "        root.left = remove_node(root.left, node)\n",
    "        return root\n",
    "    if node.key > root.key:\n",
    "        root.right = remove_node(root.right, node)\n",
    "        return root\n",
    "    # Case 1: Node is a leaf\n",
    "    if root.left is None and root.right is None:\n",
    "        return None\n",
    "    # Case 2: Node has one child\n",
    "    elif root.left is None:\n",
    "        # Case 2.1: Node has a right child\n",
    "        return root.right\n",
    "    elif root.right is None:\n",
    "        # Case 2.2: Node has a left child\n",
    "        return root.left\n",
    "    # Case 3: Node has two children\n",
    "    # Rotate with the child that has the lowest priority\n",
    "    if root.left.priority < root.right.priority:\n",
    "        root = rotate_tree_right(root)\n",
    "        root.right = remove_node(root.right, node)\n",
    "    else:\n",
    "        root = rotate_tree_left(root)\n",
    "        root.left = remove_node(root.left, node)\n",
    "    \n",
    "    return root\n",
    "\n",
    "def remove_key(root, key):\n",
    "    return remove_node(root, find_node(root, key))"
   ]
  },
  {
   "cell_type": "markdown",
   "metadata": {},
   "source": [
    "# 4.D - TESTS"
   ]
  },
  {
   "cell_type": "code",
   "execution_count": 38,
   "metadata": {},
   "outputs": [
    {
     "name": "stdout",
     "output_type": "stream",
     "text": [
      "\tSTARTING TREE\n",
      "\n",
      "\n",
      "                         ________________________(H, 1)___\n",
      "                        /                                 \\\n",
      "           __________(D, 2)__                           (I, 10)___\n",
      "          /                  \\                                    \\\n",
      "    ___(B, 3)__             (E, 6)__                            (J, 12)\n",
      "   /           \\                    \\\n",
      "(A, 5)        (C, 8)               (F, 7)__\n",
      "                                           \\\n",
      "                                          (G, 9)\n",
      "\n",
      "\tTEST 1 (remove A5)\n",
      "\n",
      "\n",
      "                  ________________________(H, 1)___\n",
      "                 /                                 \\\n",
      "    __________(D, 2)__                           (I, 10)___\n",
      "   /                  \\                                    \\\n",
      "(B, 3)__             (E, 6)__                            (J, 12)\n",
      "        \\                    \\\n",
      "       (C, 8)               (F, 7)__\n",
      "                                    \\\n",
      "                                   (G, 9)\n",
      "\n",
      "\tTEST 2 (remove J12)\n",
      "\n",
      "\n",
      "                  ________________________(H, 1)___\n",
      "                 /                                 \\\n",
      "    __________(D, 2)__                           (I, 10)\n",
      "   /                  \\\n",
      "(B, 3)__             (E, 6)__\n",
      "        \\                    \\\n",
      "       (C, 8)               (F, 7)__\n",
      "                                    \\\n",
      "                                   (G, 9)\n",
      "\n",
      "\tTEST 3 (remove H1)\n",
      "\n",
      "\n",
      "    __________(D, 2)__\n",
      "   /                  \\\n",
      "(B, 3)__             (E, 6)__\n",
      "        \\                    \\\n",
      "       (C, 8)               (F, 7)__\n",
      "                                    \\\n",
      "                                   (G, 9)___\n",
      "                                            \\\n",
      "                                          (I, 10)\n",
      "\n"
     ]
    }
   ],
   "source": [
    "print(\"\\tSTARTING TREE\\n\")\n",
    "print(convert_to_printable(root1))\n",
    "\n",
    "print(\"\\tTEST 1 (remove A5)\\n\")\n",
    "A_removed = remove_key(root1, \"A\")\n",
    "print(convert_to_printable(A_removed))\n",
    "\n",
    "print(\"\\tTEST 2 (remove J12)\\n\")\n",
    "J_removed = remove_key(root1, \"J\")\n",
    "print(convert_to_printable(J_removed))\n",
    "\n",
    "print(\"\\tTEST 3 (remove H1)\\n\")\n",
    "H_removed = remove_key(root1, \"H\")\n",
    "print(convert_to_printable(H_removed))"
   ]
  },
  {
   "cell_type": "markdown",
   "metadata": {},
   "source": [
    "---"
   ]
  },
  {
   "cell_type": "code",
   "execution_count": 109,
   "metadata": {},
   "outputs": [],
   "source": [
    "def get_depth(root):\n",
    "    if root is None:\n",
    "        return 0\n",
    "    return 1 + max(get_depth(root.left), get_depth(root.right))\n",
    "\n",
    "def get_depth_of_node(root, node):\n",
    "    if root == node:\n",
    "        return get_depth(root)\n",
    "    if root is None:\n",
    "        return 0\n",
    "    if root.key == node.key:\n",
    "        return 1\n",
    "    if node.key < root.key:\n",
    "        return 1 + get_depth_of_node(root.left, node)\n",
    "    return 1 + get_depth_of_node(root.right, node)"
   ]
  },
  {
   "cell_type": "markdown",
   "metadata": {},
   "source": [
    "---"
   ]
  },
  {
   "cell_type": "markdown",
   "metadata": {},
   "source": [
    "# 5 - RANDOM TREE"
   ]
  },
  {
   "cell_type": "markdown",
   "metadata": {},
   "source": [
    "---"
   ]
  },
  {
   "cell_type": "code",
   "execution_count": null,
   "metadata": {},
   "outputs": [
    {
     "name": "stdout",
     "output_type": "stream",
     "text": [
      "\n",
      "                                                                  ____(QOM, 9)____\n",
      "                                                                 /                \\\n",
      "                          __________________________________(HMU, 12)          (TKE, 20)____\n",
      "                         /                                                                  \\\n",
      "                ____(FRB, 48)______________                                              (USI, 49)\n",
      "               /                           \\\n",
      "      ____(EYN, 67)                 ____(MOP, 60)____\n",
      "     /                             /                 \\\n",
      "(CVY, 79)                     (HMT, 86)           (YXV, 96)\n",
      "\n",
      "Node count:  10\n",
      "Depth of tree:  5\n"
     ]
    }
   ],
   "source": [
    "ALPHABET = 'ABCDEFGHIJKLMNOPQRSTUVWXYZ'\n",
    "\n",
    "def create_random_tree(n):\n",
    "    key_size = len(str(n)) + 1\n",
    "    priority_range = (1, n*10)\n",
    "    nodes = []\n",
    "    for i in range(n):\n",
    "        key = ''.join(random.choices(ALPHABET, k=key_size))\n",
    "        priority = random.randint(*priority_range)\n",
    "        nodes.append(Node(key, priority))\n",
    "    return create_tree(nodes)\n",
    "\n",
    "def create_random_node(n):\n",
    "    key_size = len(str(n)) + 1\n",
    "    priority_range = (1, n*10)\n",
    "    key = ''.join(random.choices(ALPHABET, k=key_size))\n",
    "    priority = random.randint(*priority_range)\n",
    "    return Node(key, priority)\n",
    "\n",
    "node_count = 10\n",
    "random_root = create_random_tree(node_count)\n",
    "print(convert_to_printable(random_root))\n",
    "print(\"Node count: \", node_count)\n",
    "print(\"Depth of tree: \", get_depth(random_root))"
   ]
  },
  {
   "cell_type": "code",
   "execution_count": 41,
   "metadata": {},
   "outputs": [],
   "source": [
    "n = 100\n",
    "test_count = 200000\n",
    "times = [[] for _ in range(n)]\n",
    "for i in range(test_count):\n",
    "    root = create_random_tree(n)\n",
    "    random_insert = create_random_node(n)\n",
    "    start = time.time()\n",
    "    insert_node(root, random_insert)\n",
    "    end = time.time()\n",
    "    depth = get_depth_of_node(root, random_insert)\n",
    "    times[depth].append((end - start) * 1000)\n",
    "\n",
    "depth_record_count = [len(t) for t in times[4:]]\n",
    "average_times = [np.mean(time) for time in times[1:depth_record_count.index(0)-4]]"
   ]
  },
  {
   "cell_type": "code",
   "execution_count": 42,
   "metadata": {},
   "outputs": [
    {
     "data": {
      "image/png": "[encoded data removed]",
      "text/plain": [
       "<Figure size 640x480 with 1 Axes>"
      ]
     },
     "metadata": {},
     "output_type": "display_data"
    }
   ],
   "source": [
    "plt.plot(average_times)\n",
    "plt.axhline(0, color='black', lw=1)\n",
    "plt.title(f\"Average time to insert a node at a given depth (test count: {test_count})\")\n",
    "plt.xlabel(\"Depth\")\n",
    "plt.ylim(-0.01, max(0.01, max(average_times)*1.1))\n",
    "plt.ylabel(\"Time (ms)\")\n",
    "plt.show()"
   ]
  },
  {
   "cell_type": "code",
   "execution_count": null,
   "metadata": {},
   "outputs": [],
   "source": []
  },
  {
   "cell_type": "markdown",
   "metadata": {},
   "source": [
    "---"
   ]
  },
  {
   "cell_type": "markdown",
   "metadata": {},
   "source": [
    "## Ensuring whole range of priorities to check higher depth values"
   ]
  },
  {
   "cell_type": "markdown",
   "metadata": {},
   "source": [
    "---"
   ]
  },
  {
   "cell_type": "code",
   "execution_count": 43,
   "metadata": {},
   "outputs": [
    {
     "name": "stdout",
     "output_type": "stream",
     "text": [
      "\n",
      "                                           ________________________(YN, 1)____\n",
      "                                          /                                   \\\n",
      "                                  ____(JX, 25)____                         (ZC, 100)\n",
      "                                 /                \\\n",
      "                         ____(HT, 50)          (PP, 150)____\n",
      "                        /                                   \\\n",
      "                ____(FE, 75)                             (RJ, 200)\n",
      "               /\n",
      "      ____(BJ, 125)\n",
      "     /\n",
      "(AU, 175)\n",
      "\n"
     ]
    }
   ],
   "source": [
    "def create_random_nodes_uniform(n, max_priority=-1):\n",
    "    if max_priority == -1:\n",
    "        max_priority = n * 10\n",
    "    key_size = len(str(n)) + 1\n",
    "    priorities = np.linspace(1, max_priority, n, dtype=int)\n",
    "    nodes = []\n",
    "    for i in range(n):\n",
    "        key = ''.join(random.choices(ALPHABET, k=key_size))\n",
    "        priority = priorities[i]\n",
    "        nodes.append(Node(key, priority))\n",
    "    return nodes\n",
    "\n",
    "print(convert_to_printable(create_tree(create_random_nodes_uniform(9, 200))))"
   ]
  },
  {
   "cell_type": "code",
   "execution_count": 44,
   "metadata": {},
   "outputs": [
    {
     "name": "stdout",
     "output_type": "stream",
     "text": [
      "Node(KBO, 1)\n",
      "Node(VZL, 12)\n",
      "Node(NQP, 23)\n",
      "Node(TGX, 34)\n",
      "Node(PTB, 45)\n",
      "Node(EBW, 56)\n",
      "Node(ISQ, 67)\n",
      "Node(NZV, 78)\n",
      "Node(QNY, 89)\n",
      "Node(ZHM, 100)\n"
     ]
    }
   ],
   "source": [
    "for node in create_random_nodes_uniform(10):\n",
    "    print(node)"
   ]
  },
  {
   "cell_type": "code",
   "execution_count": 45,
   "metadata": {},
   "outputs": [
    {
     "name": "stderr",
     "output_type": "stream",
     "text": [
      "C:\\Users\\EGE\\AppData\\Local\\Packages\\PythonSoftwareFoundation.Python.3.10_qbz5n2kfra8p0\\LocalCache\\local-packages\\Python310\\site-packages\\numpy\\core\\fromnumeric.py:3504: RuntimeWarning: Mean of empty slice.\n",
      "  return _methods._mean(a, axis=axis, dtype=dtype,\n",
      "C:\\Users\\EGE\\AppData\\Local\\Packages\\PythonSoftwareFoundation.Python.3.10_qbz5n2kfra8p0\\LocalCache\\local-packages\\Python310\\site-packages\\numpy\\core\\_methods.py:129: RuntimeWarning: invalid value encountered in scalar divide\n",
      "  ret = ret.dtype.type(ret / rcount)\n"
     ]
    }
   ],
   "source": [
    "n = 200\n",
    "test_count = 5000\n",
    "repetition_count = 50\n",
    "times = [[] for _ in range(n)]\n",
    "\n",
    "\n",
    "random_inserts = create_random_nodes_uniform(test_count, n*10)\n",
    "\n",
    "for i in range(test_count):\n",
    "    for r in range(repetition_count):\n",
    "        root = create_random_tree(np.linspace(1, n, repetition_count, dtype=int)[r])\n",
    "        start = time.time()\n",
    "        insert_node(root, random_inserts[i])\n",
    "        end = time.time()\n",
    "        depth = get_depth_of_node(root, random_insert)\n",
    "        times[depth].append((end - start) * 1000)\n",
    "        \n",
    "average_times = [np.mean(time) for time in times[1:]]\n",
    "# cut average_times at the first nan value\n",
    "avgs = []\n",
    "indexes = []\n",
    "for i in range(len(average_times)):\n",
    "    if not np.isnan(average_times[i]):\n",
    "        avgs.append(average_times[i])\n",
    "        indexes.append(i)"
   ]
  },
  {
   "cell_type": "code",
   "execution_count": 46,
   "metadata": {},
   "outputs": [
    {
     "data": {
      "image/png": "[encoded data removed]",
      "text/plain": [
       "<Figure size 640x480 with 1 Axes>"
      ]
     },
     "metadata": {},
     "output_type": "display_data"
    }
   ],
   "source": [
    "plt.plot(indexes, avgs)\n",
    "plt.axhline(0, color='black', lw=1)\n",
    "plt.title(f\"Average time to insert a node at a given depth (test count: {test_count})\")\n",
    "plt.xlabel(\"Depth\")\n",
    "plt.ylim(-0.01, max(0.01, max(avgs)*1.1))\n",
    "plt.ylabel(\"Time (ms)\")\n",
    "plt.show()"
   ]
  },
  {
   "cell_type": "markdown",
   "metadata": {},
   "source": [
    "---"
   ]
  },
  {
   "cell_type": "code",
   "execution_count": null,
   "metadata": {},
   "outputs": [],
   "source": []
  },
  {
   "cell_type": "markdown",
   "metadata": {},
   "source": [
    "# EX 6"
   ]
  },
  {
   "cell_type": "code",
   "execution_count": null,
   "metadata": {},
   "outputs": [],
   "source": [
    "max_n = 1000\n",
    "test_count = 10\n",
    "depths = np.zeros((max_n, test_count))\n",
    "for n in range(1, max_n):\n",
    "    for i in range(test_count):\n",
    "        root = create_random_tree(n)\n",
    "        depths[n, i] = get_depth(root)"
   ]
  },
  {
   "cell_type": "code",
   "execution_count": 104,
   "metadata": {},
   "outputs": [
    {
     "data": {
      "image/png": "[encoded data removed]",
      "text/plain": [
       "<Figure size 640x480 with 1 Axes>"
      ]
     },
     "metadata": {},
     "output_type": "display_data"
    }
   ],
   "source": [
    "plt.plot(np.mean(depths, axis=1), label=\"Average depth\")\n",
    "# plot log(n) for comparison\n",
    "plt.plot(np.log(np.arange(1, max_n))*4, label=\"4*log(n)\", linestyle='--', color='red', alpha=0.5)\n",
    "plt.title(\"Average depth of random tree with n nodes\")\n",
    "plt.xlabel(\"Node count\")\n",
    "plt.ylabel(\"Depth\")\n",
    "plt.legend()\n",
    "plt.show()"
   ]
  },
  {
   "cell_type": "code",
   "execution_count": 110,
   "metadata": {},
   "outputs": [],
   "source": [
    "def root_to_nodelist(root):\n",
    "    if root is None:\n",
    "        return []\n",
    "    return [root] + root_to_nodelist(root.left) + root_to_nodelist(root.right)\n",
    "\n",
    "def get_keylist(nodelist):\n",
    "    return [node.key for node in nodelist]\n",
    "\n",
    "def get_prioritylist(nodelist):\n",
    "    return [node.priority for node in nodelist]\n",
    "\n",
    "def get_kth_node(root, k):\n",
    "    nodelist = root_to_nodelist(root)\n",
    "    keylist = get_keylist(nodelist)\n",
    "    sorted_keys = sorted(keylist)\n",
    "    kth_key = sorted_keys[k]\n",
    "    return find_node(root, kth_key)\n",
    "\n",
    "def get_kth_node_depth(root, k):\n",
    "    return get_depth_of_node(root, get_kth_node(root, k))"
   ]
  },
  {
   "cell_type": "code",
   "execution_count": 130,
   "metadata": {},
   "outputs": [
    {
     "name": "stdout",
     "output_type": "stream",
     "text": [
      "\n",
      "      __________________________________________________________________________(GTT, 9)____\n",
      "     /                                                                                      \\\n",
      "(ATH, 25)____                                                                            (VCY, 11)\n",
      "             \\\n",
      "          (ETF, 28)________________________\n",
      "                                           \\\n",
      "                                    ____(IOS, 51)________________________\n",
      "                                   /                                     \\\n",
      "                          ____(GYG, 63)                           ____(TCO, 77)\n",
      "                         /                                       /\n",
      "                    (GHR, 94)                           ____(SJC, 80)\n",
      "                                                       /\n",
      "                                                  (OKX, 89)\n",
      "\n",
      "4 GYG\n",
      "None\n"
     ]
    },
    {
     "ename": "AttributeError",
     "evalue": "'NoneType' object has no attribute 'key'",
     "output_type": "error",
     "traceback": [
      "\u001b[1;31m---------------------------------------------------------------------------\u001b[0m",
      "\u001b[1;31mAttributeError\u001b[0m                            Traceback (most recent call last)",
      "Cell \u001b[1;32mIn[130], line 13\u001b[0m\n\u001b[0;32m     11\u001b[0m     \u001b[38;5;28mprint\u001b[39m(k, kth)\n\u001b[0;32m     12\u001b[0m     \u001b[38;5;28mprint\u001b[39m(find_node(root, kth))\n\u001b[1;32m---> 13\u001b[0m kth_node_depths[k, i] \u001b[38;5;241m=\u001b[39m \u001b[43mget_kth_node_depth\u001b[49m\u001b[43m(\u001b[49m\u001b[43mroot\u001b[49m\u001b[43m,\u001b[49m\u001b[43m \u001b[49m\u001b[43mk\u001b[49m\u001b[43m)\u001b[49m\n",
      "Cell \u001b[1;32mIn[110], line 20\u001b[0m, in \u001b[0;36mget_kth_node_depth\u001b[1;34m(root, k)\u001b[0m\n\u001b[0;32m     19\u001b[0m \u001b[38;5;28;01mdef\u001b[39;00m \u001b[38;5;21mget_kth_node_depth\u001b[39m(root, k):\n\u001b[1;32m---> 20\u001b[0m     \u001b[38;5;28;01mreturn\u001b[39;00m \u001b[43mget_depth_of_node\u001b[49m\u001b[43m(\u001b[49m\u001b[43mroot\u001b[49m\u001b[43m,\u001b[49m\u001b[43m \u001b[49m\u001b[43mget_kth_node\u001b[49m\u001b[43m(\u001b[49m\u001b[43mroot\u001b[49m\u001b[43m,\u001b[49m\u001b[43m \u001b[49m\u001b[43mk\u001b[49m\u001b[43m)\u001b[49m\u001b[43m)\u001b[49m\n",
      "Cell \u001b[1;32mIn[109], line 11\u001b[0m, in \u001b[0;36mget_depth_of_node\u001b[1;34m(root, node)\u001b[0m\n\u001b[0;32m      9\u001b[0m \u001b[38;5;28;01mif\u001b[39;00m root \u001b[38;5;129;01mis\u001b[39;00m \u001b[38;5;28;01mNone\u001b[39;00m:\n\u001b[0;32m     10\u001b[0m     \u001b[38;5;28;01mreturn\u001b[39;00m \u001b[38;5;241m0\u001b[39m\n\u001b[1;32m---> 11\u001b[0m \u001b[38;5;28;01mif\u001b[39;00m root\u001b[38;5;241m.\u001b[39mkey \u001b[38;5;241m==\u001b[39m \u001b[43mnode\u001b[49m\u001b[38;5;241;43m.\u001b[39;49m\u001b[43mkey\u001b[49m:\n\u001b[0;32m     12\u001b[0m     \u001b[38;5;28;01mreturn\u001b[39;00m \u001b[38;5;241m1\u001b[39m\n\u001b[0;32m     13\u001b[0m \u001b[38;5;28;01mif\u001b[39;00m node\u001b[38;5;241m.\u001b[39mkey \u001b[38;5;241m<\u001b[39m root\u001b[38;5;241m.\u001b[39mkey:\n",
      "\u001b[1;31mAttributeError\u001b[0m: 'NoneType' object has no attribute 'key'"
     ]
    }
   ],
   "source": [
    "test_count = 100\n",
    "n = 10\n",
    "\n",
    "kth_node_depths = np.zeros((n, test_count))\n",
    "for i in range(test_count):\n",
    "    root = create_random_tree(n)\n",
    "    for k in range(1,n-1):\n",
    "        if not get_kth_node(root, k):\n",
    "            print(convert_to_printable(root))\n",
    "            kth = sorted(get_keylist(root_to_nodelist(root)))[k]\n",
    "            print(k, kth)\n",
    "            print(find_node(root, kth))\n",
    "        kth_node_depths[k, i] = get_kth_node_depth(root, k)"
   ]
  },
  {
   "cell_type": "code",
   "execution_count": 159,
   "metadata": {},
   "outputs": [],
   "source": [
    "def find_node(root, key, verbose=False):\n",
    "    if root is None:\n",
    "        print(root, \"is None\")\n",
    "        return None\n",
    "    if root.key == key:\n",
    "        print(root, \"is\", key)\n",
    "        return root\n",
    "    if key < root.key:\n",
    "        print(f\"{key} is smaller than {root.key}, so going left, to {root.left.key}\")\n",
    "        return find_node(root.left, key)\n",
    "    print(f\"{key} is larger than {root.key}, so going right, to {root.right.key}\")\n",
    "    return find_node(root.right, key)"
   ]
  },
  {
   "cell_type": "code",
   "execution_count": 169,
   "metadata": {},
   "outputs": [
    {
     "name": "stdout",
     "output_type": "stream",
     "text": [
      "Node(GTT, 9)\n",
      "Node(TCO, 77)\n",
      "Node(OKX, 89)\n",
      "Node(ETF, 28)\n",
      "Node(VCY, 11)\n",
      "Node(SJC, 80)\n",
      "Node(ATH, 25)\n",
      "Node(IOS, 51)\n",
      "Node(GHR, 94)\n",
      "Node(GYG, 63)\n",
      "\n",
      "      ________________________(GTT, 9)______________________________________________________\n",
      "     /                                                                                      \\\n",
      "(ATH, 25)____                                          __________________________________(VCY, 11)\n",
      "             \\                                        /\n",
      "          (ETF, 28)____                      ____(IOS, 51)________________________\n",
      "                       \\                    /                                     \\\n",
      "                    (GHR, 94)          (GYG, 63)                           ____(TCO, 77)\n",
      "                                                                          /\n",
      "                                                                 ____(SJC, 80)\n",
      "                                                                /\n",
      "                                                           (OKX, 89)\n",
      "\n"
     ]
    }
   ],
   "source": [
    "ktest = nodes_from_string(\"(GTT : 9),(VCY : 11),(ATH : 25),(ETF : 28),(IOS : 51),(TCO : 77),(GYG : 63),(GHR : 94),(SJC : 80),(OKX : 89)\")\n",
    "# shuffle ktest order\n",
    "random.shuffle(ktest)\n",
    "for kt in ktest:\n",
    "    print(kt)\n",
    "print(convert_to_printable(create_tree(ktest)))"
   ]
  },
  {
   "cell_type": "code",
   "execution_count": 173,
   "metadata": {},
   "outputs": [
    {
     "name": "stdout",
     "output_type": "stream",
     "text": [
      "Node(ATH, 25)\n",
      "Node(OKX, 89)\n",
      "Node(IOS, 51)\n",
      "Node(TCO, 77)\n",
      "Node(ETF, 28)\n",
      "Node(GHR, 94)\n",
      "Node(VCY, 11)\n",
      "Node(GYG, 63)\n",
      "Node(GTT, 9)\n",
      "Node(SJC, 80)\n",
      "--ADDING OKX TO ATH--\n",
      "Added node to right of root (ATH.right = OKX)\n",
      "--ADDING IOS TO ATH--\n",
      "\tGoing one layer down on the right from ATH for IOS\n",
      "--ADDING IOS TO OKX--\n",
      "Added node above root (IOS.right = OKX)\n",
      "--ADDING TCO TO ATH--\n",
      "\tGoing one layer down on the right from ATH for TCO\n",
      "--ADDING TCO TO IOS--\n",
      "\tGoing one layer down on the right from IOS for TCO\n",
      "--ADDING TCO TO OKX--\n",
      "Added node above root (TCO.left = OKX)\n",
      "--ADDING ETF TO ATH--\n",
      "\tGoing one layer down on the right from ATH for ETF\n",
      "--ADDING ETF TO IOS--\n",
      "Added node above root (ETF.right = IOS)\n",
      "--ADDING GHR TO ATH--\n",
      "\tGoing one layer down on the right from ATH for GHR\n",
      "--ADDING GHR TO ETF--\n",
      "\tGoing one layer down on the right from ETF for GHR\n",
      "--ADDING GHR TO IOS--\n",
      "Added node to left of root (IOS.left = GHR)\n",
      "--ADDING VCY TO ATH--\n",
      "Added node above root (VCY.left = ATH)\n",
      "--ADDING GYG TO VCY--\n",
      "\tGoing one layer down on the left from VCY for GYG\n",
      "--ADDING GYG TO ATH--\n",
      "\tGoing one layer down on the right from ATH for GYG\n",
      "--ADDING GYG TO ETF--\n",
      "\tGoing one layer down on the right from ETF for GYG\n",
      "--ADDING GYG TO IOS--\n",
      "\tGoing one layer down on the left from IOS for GYG\n",
      "--ADDING GYG TO GHR--\n",
      "Added node above root (GYG.left = GHR)\n",
      "--ADDING GTT TO VCY--\n",
      "Added node above root (GTT.right = VCY)\n",
      "Fixed left child\n",
      "--ADDING SJC TO GTT--\n",
      "\tGoing one layer down on the right from GTT for SJC\n",
      "--ADDING SJC TO VCY--\n",
      "Added node to left of root (VCY.left = SJC)\n",
      "\n",
      "      ________________________________________________________________(GTT, 9)______________\n",
      "     /                                                                                      \\\n",
      "(ATH, 25)____                                                                        ____(VCY, 11)\n",
      "             \\                                                                      /\n",
      "          (ETF, 28)________________________                                    (SJC, 80)\n",
      "                                           \\\n",
      "                                    ____(IOS, 51)______________\n",
      "                                   /                           \\\n",
      "                          ____(GYG, 63)                 ____(TCO, 77)\n",
      "                         /                             /\n",
      "                    (GHR, 94)                     (OKX, 89)\n",
      "\n",
      "ATH\n",
      "OKX\n",
      "IOS\n",
      "TCO\n",
      "ETF\n",
      "GHR\n",
      "VCY\n",
      "GYG\n",
      "GTT\n",
      "SJC\n"
     ]
    }
   ],
   "source": [
    "ktest = nodes_from_string(\"(GTT : 9),(VCY : 11),(ATH : 25),(ETF : 28),(IOS : 51),(TCO : 77),(GYG : 63),(GHR : 94),(SJC : 80),(OKX : 89)\")\n",
    "# shuffle ktest order\n",
    "random.shuffle(ktest)\n",
    "for kt in ktest:\n",
    "    print(kt)\n",
    "print(convert_to_printable(create_tree(ktest, verbose=True)))\n",
    "for kt in ktest:\n",
    "    print(kt.key)"
   ]
  },
  {
   "cell_type": "code",
   "execution_count": null,
   "metadata": {},
   "outputs": [],
   "source": []
  },
  {
   "cell_type": "code",
   "execution_count": 160,
   "metadata": {},
   "outputs": [
    {
     "name": "stdout",
     "output_type": "stream",
     "text": [
      "\n",
      "      __________________________________________________________________________(GTT, 9)____\n",
      "     /                                                                                      \\\n",
      "(ATH, 25)____                                                                            (VCY, 11)\n",
      "             \\\n",
      "          (ETF, 28)________________________\n",
      "                                           \\\n",
      "                                    ____(IOS, 51)________________________\n",
      "                                   /                                     \\\n",
      "                          ____(GYG, 63)                           ____(TCO, 77)\n",
      "                         /                                       /\n",
      "                    (GHR, 94)                           ____(SJC, 80)\n",
      "                                                       /\n",
      "                                                  (OKX, 89)\n",
      "\n",
      "4 GYG\n",
      "GYG is larger than GTT, so going right, to VCY\n"
     ]
    },
    {
     "ename": "AttributeError",
     "evalue": "'NoneType' object has no attribute 'key'",
     "output_type": "error",
     "traceback": [
      "\u001b[1;31m---------------------------------------------------------------------------\u001b[0m",
      "\u001b[1;31mAttributeError\u001b[0m                            Traceback (most recent call last)",
      "Cell \u001b[1;32mIn[160], line 3\u001b[0m\n\u001b[0;32m      1\u001b[0m \u001b[38;5;28mprint\u001b[39m(convert_to_printable(root))\n\u001b[0;32m      2\u001b[0m \u001b[38;5;28mprint\u001b[39m(k, kth)\n\u001b[1;32m----> 3\u001b[0m \u001b[38;5;28mprint\u001b[39m(\u001b[43mfind_node\u001b[49m\u001b[43m(\u001b[49m\u001b[43mroot\u001b[49m\u001b[43m,\u001b[49m\u001b[43m \u001b[49m\u001b[38;5;124;43m\"\u001b[39;49m\u001b[38;5;124;43mGYG\u001b[39;49m\u001b[38;5;124;43m\"\u001b[39;49m\u001b[43m,\u001b[49m\u001b[43m \u001b[49m\u001b[43mverbose\u001b[49m\u001b[38;5;241;43m=\u001b[39;49m\u001b[38;5;28;43;01mTrue\u001b[39;49;00m\u001b[43m)\u001b[49m)\n",
      "Cell \u001b[1;32mIn[159], line 12\u001b[0m, in \u001b[0;36mfind_node\u001b[1;34m(root, key, verbose)\u001b[0m\n\u001b[0;32m     10\u001b[0m     \u001b[38;5;28;01mreturn\u001b[39;00m find_node(root\u001b[38;5;241m.\u001b[39mleft, key)\n\u001b[0;32m     11\u001b[0m \u001b[38;5;28mprint\u001b[39m(\u001b[38;5;124mf\u001b[39m\u001b[38;5;124m\"\u001b[39m\u001b[38;5;132;01m{\u001b[39;00mkey\u001b[38;5;132;01m}\u001b[39;00m\u001b[38;5;124m is larger than \u001b[39m\u001b[38;5;132;01m{\u001b[39;00mroot\u001b[38;5;241m.\u001b[39mkey\u001b[38;5;132;01m}\u001b[39;00m\u001b[38;5;124m, so going right, to \u001b[39m\u001b[38;5;132;01m{\u001b[39;00mroot\u001b[38;5;241m.\u001b[39mright\u001b[38;5;241m.\u001b[39mkey\u001b[38;5;132;01m}\u001b[39;00m\u001b[38;5;124m\"\u001b[39m)\n\u001b[1;32m---> 12\u001b[0m \u001b[38;5;28;01mreturn\u001b[39;00m \u001b[43mfind_node\u001b[49m\u001b[43m(\u001b[49m\u001b[43mroot\u001b[49m\u001b[38;5;241;43m.\u001b[39;49m\u001b[43mright\u001b[49m\u001b[43m,\u001b[49m\u001b[43m \u001b[49m\u001b[43mkey\u001b[49m\u001b[43m)\u001b[49m\n",
      "Cell \u001b[1;32mIn[159], line 9\u001b[0m, in \u001b[0;36mfind_node\u001b[1;34m(root, key, verbose)\u001b[0m\n\u001b[0;32m      7\u001b[0m     \u001b[38;5;28;01mreturn\u001b[39;00m root\n\u001b[0;32m      8\u001b[0m \u001b[38;5;28;01mif\u001b[39;00m key \u001b[38;5;241m<\u001b[39m root\u001b[38;5;241m.\u001b[39mkey:\n\u001b[1;32m----> 9\u001b[0m     \u001b[38;5;28mprint\u001b[39m(\u001b[38;5;124mf\u001b[39m\u001b[38;5;124m\"\u001b[39m\u001b[38;5;132;01m{\u001b[39;00mkey\u001b[38;5;132;01m}\u001b[39;00m\u001b[38;5;124m is smaller than \u001b[39m\u001b[38;5;132;01m{\u001b[39;00mroot\u001b[38;5;241m.\u001b[39mkey\u001b[38;5;132;01m}\u001b[39;00m\u001b[38;5;124m, so going left, to \u001b[39m\u001b[38;5;132;01m{\u001b[39;00m\u001b[43mroot\u001b[49m\u001b[38;5;241;43m.\u001b[39;49m\u001b[43mleft\u001b[49m\u001b[38;5;241;43m.\u001b[39;49m\u001b[43mkey\u001b[49m\u001b[38;5;132;01m}\u001b[39;00m\u001b[38;5;124m\"\u001b[39m)\n\u001b[0;32m     10\u001b[0m     \u001b[38;5;28;01mreturn\u001b[39;00m find_node(root\u001b[38;5;241m.\u001b[39mleft, key)\n\u001b[0;32m     11\u001b[0m \u001b[38;5;28mprint\u001b[39m(\u001b[38;5;124mf\u001b[39m\u001b[38;5;124m\"\u001b[39m\u001b[38;5;132;01m{\u001b[39;00mkey\u001b[38;5;132;01m}\u001b[39;00m\u001b[38;5;124m is larger than \u001b[39m\u001b[38;5;132;01m{\u001b[39;00mroot\u001b[38;5;241m.\u001b[39mkey\u001b[38;5;132;01m}\u001b[39;00m\u001b[38;5;124m, so going right, to \u001b[39m\u001b[38;5;132;01m{\u001b[39;00mroot\u001b[38;5;241m.\u001b[39mright\u001b[38;5;241m.\u001b[39mkey\u001b[38;5;132;01m}\u001b[39;00m\u001b[38;5;124m\"\u001b[39m)\n",
      "\u001b[1;31mAttributeError\u001b[0m: 'NoneType' object has no attribute 'key'"
     ]
    }
   ],
   "source": [
    "print(convert_to_printable(root))\n",
    "print(k, kth)\n",
    "print(find_node(root, \"GYG\", verbose=True))"
   ]
  },
  {
   "cell_type": "code",
   "execution_count": 155,
   "metadata": {},
   "outputs": [
    {
     "name": "stdout",
     "output_type": "stream",
     "text": [
      "Node(GYG, 63)\n"
     ]
    }
   ],
   "source": [
    "print(find_node(find_node(root, \"ETF\"), \"GYG\"))"
   ]
  },
  {
   "cell_type": "code",
   "execution_count": null,
   "metadata": {},
   "outputs": [],
   "source": []
  }
 ],
 "metadata": {
  "kernelspec": {
   "display_name": "Python 3",
   "language": "python",
   "name": "python3"
  },
  "language_info": {
   "codemirror_mode": {
    "name": "ipython",
    "version": 3
   },
   "file_extension": ".py",
   "mimetype": "text/x-python",
   "name": "python",
   "nbconvert_exporter": "python",
   "pygments_lexer": "ipython3",
   "version": "3.10.11"
  }
 },
 "nbformat": 4,
 "nbformat_minor": 2
}
