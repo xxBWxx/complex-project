{
 "cells": [
  {
   "cell_type": "code",
   "execution_count": 2,
   "metadata": {},
   "outputs": [],
   "source": [
    "class Node:\n",
    "    def __init__(self, key, priority, left=None, right=None):\n",
    "        self.key = key\n",
    "        self.priority = priority\n",
    "        self.left = left\n",
    "        self.right = right\n",
    "    \n",
    "    def __str__(self):\n",
    "        return f'Node({self.key}, {self.priority})'"
   ]
  },
  {
   "cell_type": "code",
   "execution_count": 3,
   "metadata": {},
   "outputs": [],
   "source": [
    "testnodes = \"(A : 5),(B : 3),(C : 8),(D : 2),(E : 6),(F : 7),(G : 9),(H : 1),(I : 10),(J : 12)\""
   ]
  },
  {
   "cell_type": "code",
   "execution_count": 4,
   "metadata": {},
   "outputs": [],
   "source": [
    "def nodes_from_string(nodes_str):\n",
    "    nodes = []\n",
    "    for node_str in nodes_str.split(','):\n",
    "        key, priority = node_str.strip('()').split(' : ')\n",
    "        nodes.append(Node(key, int(priority)))\n",
    "    return nodes\n",
    "\n",
    "def print_nodes(nodes):\n",
    "    for node in nodes:\n",
    "        print(node)\n",
    "        \n",
    "\n",
    "import binarytree"
   ]
  },
  {
   "cell_type": "code",
   "execution_count": 5,
   "metadata": {},
   "outputs": [
    {
     "name": "stdout",
     "output_type": "stream",
     "text": [
      "Node(A, 5)\n",
      "Node(B, 3)\n",
      "Node(C, 8)\n",
      "Node(D, 2)\n",
      "Node(E, 6)\n",
      "Node(F, 7)\n",
      "Node(G, 9)\n",
      "Node(H, 1)\n",
      "Node(I, 10)\n",
      "Node(J, 12)\n"
     ]
    }
   ],
   "source": [
    "nodes = nodes_from_string(testnodes)\n",
    "print_nodes(nodes)"
   ]
  },
  {
   "cell_type": "code",
   "execution_count": 6,
   "metadata": {},
   "outputs": [
    {
     "data": {
      "text/plain": [
       "('E', 6)"
      ]
     },
     "execution_count": 6,
     "metadata": {},
     "output_type": "execute_result"
    }
   ],
   "source": [
    "nodes[4].key, nodes[4].priority"
   ]
  },
  {
   "cell_type": "code",
   "execution_count": 49,
   "metadata": {},
   "outputs": [],
   "source": [
    "def insert_node(root, node):\n",
    "    print(f\"--ADDING {node.key} TO {root.key}--\")\n",
    "    if node.priority < root.priority:\n",
    "        if node.key < root.key:\n",
    "            node.right = root\n",
    "            print(f\"Added node above root ({node.key}.right = {root.key})\")\n",
    "            if root.left and root.left.key < node.key:\n",
    "                node.left = root.left\n",
    "                root.left = None\n",
    "                print(\"Fixed left child\")\n",
    "            return node\n",
    "        else:\n",
    "            node.left = root\n",
    "            print(f\"Added node above root ({node.key}.left = {root.key})\")\n",
    "            if root.right and root.right.key > node.key:\n",
    "                node.right = root.right\n",
    "                root.right = None\n",
    "                print(\"Fixed right child\")\n",
    "            return node\n",
    "    if node.key < root.key:\n",
    "        if root.left is None:\n",
    "            root.left = node\n",
    "            print(f\"Added node to left of root ({root.key}.left = {node.key})\")\n",
    "            return root\n",
    "        print(f\"\\tGoing one layer down on the left from {root.key} for {node.key}\")\n",
    "        root.left = insert_node(root.left, node)\n",
    "        return root\n",
    "    if root.right is None:\n",
    "        root.right = node\n",
    "        print(f\"Added node to right of root ({root.key}.right = {node.key})\")\n",
    "        return root\n",
    "    print(f\"\\tGoing one layer down on the right from {root.key} for {node.key}\")\n",
    "    root.right = insert_node(root.right, node)\n",
    "    return root\n",
    "\n",
    "def create_tree(nodes):\n",
    "    root = nodes[0]\n",
    "    for node in nodes[1:]:\n",
    "        root = insert_node(root, node)\n",
    "    return root\n",
    "\n",
    "def convert_to_printable(root):\n",
    "    if root is None:\n",
    "        return None\n",
    "    return binarytree.Node('(' + root.key + ', ' + str(root.priority) + ')', convert_to_printable(root.left), convert_to_printable(root.right))"
   ]
  },
  {
   "cell_type": "code",
   "execution_count": 50,
   "metadata": {},
   "outputs": [
    {
     "name": "stdout",
     "output_type": "stream",
     "text": [
      "Node(A, 5) Node(B, 3)\n"
     ]
    }
   ],
   "source": [
    "nodes = nodes_from_string(testnodes)\n",
    "root = nodes[0]\n",
    "print(root, nodes[1])"
   ]
  },
  {
   "cell_type": "code",
   "execution_count": 51,
   "metadata": {},
   "outputs": [
    {
     "name": "stdout",
     "output_type": "stream",
     "text": [
      "--ADDING B TO A--\n",
      "Added node above root (B.left = A)\n",
      "\n",
      "    ___(B, 3)\n",
      "   /\n",
      "(A, 5)\n",
      "\n"
     ]
    }
   ],
   "source": [
    "root = insert_node(root, nodes[1])\n",
    "print(convert_to_printable(root))"
   ]
  },
  {
   "cell_type": "code",
   "execution_count": 52,
   "metadata": {},
   "outputs": [
    {
     "name": "stdout",
     "output_type": "stream",
     "text": [
      "--ADDING C TO B--\n",
      "Added node to right of root (B.right = C)\n",
      "\n",
      "    ___(B, 3)__\n",
      "   /           \\\n",
      "(A, 5)        (C, 8)\n",
      "\n"
     ]
    }
   ],
   "source": [
    "root = insert_node(root, nodes[2])\n",
    "print(convert_to_printable(root))"
   ]
  },
  {
   "cell_type": "code",
   "execution_count": 53,
   "metadata": {},
   "outputs": [
    {
     "name": "stdout",
     "output_type": "stream",
     "text": [
      "--ADDING D TO B--\n",
      "Added node above root (D.left = B)\n",
      "\n",
      "           __________(D, 2)\n",
      "          /\n",
      "    ___(B, 3)__\n",
      "   /           \\\n",
      "(A, 5)        (C, 8)\n",
      "\n"
     ]
    }
   ],
   "source": [
    "root = insert_node(root, nodes[3])\n",
    "print(convert_to_printable(root))"
   ]
  },
  {
   "cell_type": "code",
   "execution_count": 54,
   "metadata": {},
   "outputs": [
    {
     "name": "stdout",
     "output_type": "stream",
     "text": [
      "--ADDING E TO D--\n",
      "Added node to right of root (D.right = E)\n",
      "\n",
      "           __________(D, 2)__\n",
      "          /                  \\\n",
      "    ___(B, 3)__             (E, 6)\n",
      "   /           \\\n",
      "(A, 5)        (C, 8)\n",
      "\n"
     ]
    }
   ],
   "source": [
    "root = insert_node(root, nodes[4])\n",
    "print(convert_to_printable(root))"
   ]
  },
  {
   "cell_type": "code",
   "execution_count": 55,
   "metadata": {},
   "outputs": [
    {
     "name": "stdout",
     "output_type": "stream",
     "text": [
      "--ADDING F TO D--\n",
      "\tGoing one layer down on the right from D for F\n",
      "--ADDING F TO E--\n",
      "Added node to right of root (E.right = F)\n",
      "\n",
      "           __________(D, 2)__\n",
      "          /                  \\\n",
      "    ___(B, 3)__             (E, 6)__\n",
      "   /           \\                    \\\n",
      "(A, 5)        (C, 8)               (F, 7)\n",
      "\n"
     ]
    }
   ],
   "source": [
    "root = insert_node(root, nodes[5])\n",
    "print(convert_to_printable(root))"
   ]
  },
  {
   "cell_type": "code",
   "execution_count": 56,
   "metadata": {},
   "outputs": [
    {
     "name": "stdout",
     "output_type": "stream",
     "text": [
      "--ADDING G TO D--\n",
      "\tGoing one layer down on the right from D for G\n",
      "--ADDING G TO E--\n",
      "\tGoing one layer down on the right from E for G\n",
      "--ADDING G TO F--\n",
      "Added node to right of root (F.right = G)\n",
      "\n",
      "           __________(D, 2)__\n",
      "          /                  \\\n",
      "    ___(B, 3)__             (E, 6)__\n",
      "   /           \\                    \\\n",
      "(A, 5)        (C, 8)               (F, 7)__\n",
      "                                           \\\n",
      "                                          (G, 9)\n",
      "\n"
     ]
    }
   ],
   "source": [
    "root = insert_node(root, nodes[6])\n",
    "print(convert_to_printable(root))"
   ]
  },
  {
   "cell_type": "code",
   "execution_count": 57,
   "metadata": {},
   "outputs": [
    {
     "name": "stdout",
     "output_type": "stream",
     "text": [
      "--ADDING H TO D--\n",
      "Added node above root (H.left = D)\n",
      "\n",
      "                         ________________________(H, 1)\n",
      "                        /\n",
      "           __________(D, 2)__\n",
      "          /                  \\\n",
      "    ___(B, 3)__             (E, 6)__\n",
      "   /           \\                    \\\n",
      "(A, 5)        (C, 8)               (F, 7)__\n",
      "                                           \\\n",
      "                                          (G, 9)\n",
      "\n"
     ]
    }
   ],
   "source": [
    "root = insert_node(root, nodes[7])\n",
    "print(convert_to_printable(root))"
   ]
  },
  {
   "cell_type": "code",
   "execution_count": 58,
   "metadata": {},
   "outputs": [
    {
     "name": "stdout",
     "output_type": "stream",
     "text": [
      "--ADDING I TO H--\n",
      "Added node to right of root (H.right = I)\n",
      "\n",
      "                         ________________________(H, 1)___\n",
      "                        /                                 \\\n",
      "           __________(D, 2)__                           (I, 10)\n",
      "          /                  \\\n",
      "    ___(B, 3)__             (E, 6)__\n",
      "   /           \\                    \\\n",
      "(A, 5)        (C, 8)               (F, 7)__\n",
      "                                           \\\n",
      "                                          (G, 9)\n",
      "\n"
     ]
    }
   ],
   "source": [
    "root = insert_node(root, nodes[8])\n",
    "print(convert_to_printable(root))"
   ]
  },
  {
   "cell_type": "code",
   "execution_count": 59,
   "metadata": {},
   "outputs": [
    {
     "name": "stdout",
     "output_type": "stream",
     "text": [
      "--ADDING J TO H--\n",
      "\tGoing one layer down on the right from H for J\n",
      "--ADDING J TO I--\n",
      "Added node to right of root (I.right = J)\n",
      "\n",
      "                         ________________________(H, 1)___\n",
      "                        /                                 \\\n",
      "           __________(D, 2)__                           (I, 10)___\n",
      "          /                  \\                                    \\\n",
      "    ___(B, 3)__             (E, 6)__                            (J, 12)\n",
      "   /           \\                    \\\n",
      "(A, 5)        (C, 8)               (F, 7)__\n",
      "                                           \\\n",
      "                                          (G, 9)\n",
      "\n"
     ]
    }
   ],
   "source": [
    "root = insert_node(root, nodes[9])\n",
    "print(convert_to_printable(root))"
   ]
  },
  {
   "cell_type": "code",
   "execution_count": 60,
   "metadata": {},
   "outputs": [
    {
     "name": "stdout",
     "output_type": "stream",
     "text": [
      "Node(A, 5)\n",
      "Node(B, 3)\n",
      "Node(C, 8)\n",
      "Node(D, 2)\n",
      "Node(E, 6)\n",
      "Node(F, 7)\n",
      "Node(G, 9)\n",
      "Node(H, 1)\n",
      "Node(I, 10)\n",
      "Node(J, 12)\n",
      "--ADDING B TO A--\n",
      "Added node above root (B.left = A)\n",
      "--ADDING C TO B--\n",
      "Added node to right of root (B.right = C)\n",
      "--ADDING D TO B--\n",
      "Added node above root (D.left = B)\n",
      "--ADDING E TO D--\n",
      "Added node to right of root (D.right = E)\n",
      "--ADDING F TO D--\n",
      "\tGoing one layer down on the right from D for F\n",
      "--ADDING F TO E--\n",
      "Added node to right of root (E.right = F)\n",
      "--ADDING G TO D--\n",
      "\tGoing one layer down on the right from D for G\n",
      "--ADDING G TO E--\n",
      "\tGoing one layer down on the right from E for G\n",
      "--ADDING G TO F--\n",
      "Added node to right of root (F.right = G)\n",
      "--ADDING H TO D--\n",
      "Added node above root (H.left = D)\n",
      "--ADDING I TO H--\n",
      "Added node to right of root (H.right = I)\n",
      "--ADDING J TO H--\n",
      "\tGoing one layer down on the right from H for J\n",
      "--ADDING J TO I--\n",
      "Added node to right of root (I.right = J)\n"
     ]
    }
   ],
   "source": [
    "nodes = nodes_from_string(testnodes)\n",
    "print_nodes(nodes)\n",
    "root = create_tree(nodes)"
   ]
  },
  {
   "cell_type": "code",
   "execution_count": 61,
   "metadata": {},
   "outputs": [
    {
     "name": "stdout",
     "output_type": "stream",
     "text": [
      "\n",
      "                         ________________________(H, 1)___\n",
      "                        /                                 \\\n",
      "           __________(D, 2)__                           (I, 10)___\n",
      "          /                  \\                                    \\\n",
      "    ___(B, 3)__             (E, 6)__                            (J, 12)\n",
      "   /           \\                    \\\n",
      "(A, 5)        (C, 8)               (F, 7)__\n",
      "                                           \\\n",
      "                                          (G, 9)\n",
      "\n"
     ]
    }
   ],
   "source": [
    "print(convert_to_printable(root))"
   ]
  },
  {
   "cell_type": "code",
   "execution_count": 62,
   "metadata": {},
   "outputs": [],
   "source": [
    "# new order:   H,      D,      B,      A,      E,      F,      C,      G,      I et     J\n",
    "testnodes2 = \"(H : 1),(D : 2),(B : 3),(A : 5),(E : 6),(F : 7),(C : 8),(G : 9),(I : 10),(J : 12)\"\n",
    "nodes2 = nodes_from_string(testnodes2)"
   ]
  },
  {
   "cell_type": "code",
   "execution_count": 63,
   "metadata": {},
   "outputs": [
    {
     "name": "stdout",
     "output_type": "stream",
     "text": [
      "--ADDING D TO H--\n",
      "Added node to left of root (H.left = D)\n",
      "--ADDING B TO H--\n",
      "\tGoing one layer down on the left from H for B\n",
      "--ADDING B TO D--\n",
      "Added node to left of root (D.left = B)\n",
      "--ADDING A TO H--\n",
      "\tGoing one layer down on the left from H for A\n",
      "--ADDING A TO D--\n",
      "\tGoing one layer down on the left from D for A\n",
      "--ADDING A TO B--\n",
      "Added node to left of root (B.left = A)\n",
      "--ADDING E TO H--\n",
      "\tGoing one layer down on the left from H for E\n",
      "--ADDING E TO D--\n",
      "Added node to right of root (D.right = E)\n",
      "--ADDING F TO H--\n",
      "\tGoing one layer down on the left from H for F\n",
      "--ADDING F TO D--\n",
      "\tGoing one layer down on the right from D for F\n",
      "--ADDING F TO E--\n",
      "Added node to right of root (E.right = F)\n",
      "--ADDING C TO H--\n",
      "\tGoing one layer down on the left from H for C\n",
      "--ADDING C TO D--\n",
      "\tGoing one layer down on the left from D for C\n",
      "--ADDING C TO B--\n",
      "Added node to right of root (B.right = C)\n",
      "--ADDING G TO H--\n",
      "\tGoing one layer down on the left from H for G\n",
      "--ADDING G TO D--\n",
      "\tGoing one layer down on the right from D for G\n",
      "--ADDING G TO E--\n",
      "\tGoing one layer down on the right from E for G\n",
      "--ADDING G TO F--\n",
      "Added node to right of root (F.right = G)\n",
      "--ADDING I TO H--\n",
      "Added node to right of root (H.right = I)\n",
      "--ADDING J TO H--\n",
      "\tGoing one layer down on the right from H for J\n",
      "--ADDING J TO I--\n",
      "Added node to right of root (I.right = J)\n",
      "\n",
      "                         ________________________(H, 1)___\n",
      "                        /                                 \\\n",
      "           __________(D, 2)__                           (I, 10)___\n",
      "          /                  \\                                    \\\n",
      "    ___(B, 3)__             (E, 6)__                            (J, 12)\n",
      "   /           \\                    \\\n",
      "(A, 5)        (C, 8)               (F, 7)__\n",
      "                                           \\\n",
      "                                          (G, 9)\n",
      "\n"
     ]
    }
   ],
   "source": [
    "root2 = create_tree(nodes2)\n",
    "print(convert_to_printable(root2))"
   ]
  },
  {
   "cell_type": "code",
   "execution_count": 64,
   "metadata": {},
   "outputs": [],
   "source": [
    "def find_node(root, key):\n",
    "    if root is None:\n",
    "        return None\n",
    "    if root.key == key:\n",
    "        return root\n",
    "    if key < root.key:\n",
    "        return find_node(root.left, key)\n",
    "    return find_node(root.right, key)"
   ]
  },
  {
   "cell_type": "code",
   "execution_count": 65,
   "metadata": {},
   "outputs": [
    {
     "name": "stdout",
     "output_type": "stream",
     "text": [
      "Node(E, 6) == E True\n"
     ]
    }
   ],
   "source": [
    "search = \"E\"\n",
    "found_node = find_node(root2, search)\n",
    "print(found_node, \"==\", search, found_node.key == search)   "
   ]
  },
  {
   "cell_type": "code",
   "execution_count": 66,
   "metadata": {},
   "outputs": [
    {
     "name": "stdout",
     "output_type": "stream",
     "text": [
      "--ADDING H TO F--\n",
      "Added node to right of root (F.right = H)\n",
      "--ADDING B TO F--\n",
      "Added node to left of root (F.left = B)\n",
      "--ADDING A TO F--\n",
      "\tGoing one layer down on the left from F for A\n",
      "--ADDING A TO B--\n",
      "Added node to left of root (B.left = A)\n",
      "--ADDING E TO F--\n",
      "\tGoing one layer down on the left from F for E\n",
      "--ADDING E TO B--\n",
      "Added node to right of root (B.right = E)\n",
      "--ADDING C TO F--\n",
      "\tGoing one layer down on the left from F for C\n",
      "--ADDING C TO B--\n",
      "\tGoing one layer down on the right from B for C\n",
      "--ADDING C TO E--\n",
      "Added node to left of root (E.left = C)\n",
      "--ADDING J TO F--\n",
      "\tGoing one layer down on the right from F for J\n",
      "--ADDING J TO H--\n",
      "Added node to right of root (H.right = J)\n",
      "--ADDING G TO F--\n",
      "\tGoing one layer down on the right from F for G\n",
      "--ADDING G TO H--\n",
      "Added node to left of root (H.left = G)\n",
      "--ADDING I TO F--\n",
      "\tGoing one layer down on the right from F for I\n",
      "--ADDING I TO H--\n",
      "\tGoing one layer down on the right from H for I\n",
      "--ADDING I TO J--\n",
      "Added node above root (I.right = J)\n",
      "--ADDING D TO F--\n",
      "\tGoing one layer down on the left from F for D\n",
      "--ADDING D TO B--\n",
      "\tGoing one layer down on the right from B for D\n",
      "--ADDING D TO E--\n",
      "Added node above root (D.right = E)\n",
      "Fixed left child\n",
      "\n",
      "            ________________________(F, 1)_________\n",
      "           /                                       \\\n",
      "     ___(B, 3)_________                        ___(H, 2)__\n",
      "    /                  \\                      /           \\\n",
      "(A, 10)            ___(D, 4)__             (G, 9)        (I, 5)__\n",
      "                  /           \\                                  \\\n",
      "               (C, 7)        (E, 6)                             (J, 8)\n",
      "\n"
     ]
    }
   ],
   "source": [
    "examplenodes = \"(F : 1),(H : 2),(B : 3),(A : 10),(E : 6),(C : 7),(J : 8),(G : 9),(I : 5),(D : 4)\"\n",
    "nodes3 = nodes_from_string(examplenodes)\n",
    "root3 = create_tree(nodes3)\n",
    "print(convert_to_printable(root3))"
   ]
  },
  {
   "cell_type": "code",
   "execution_count": 67,
   "metadata": {},
   "outputs": [
    {
     "name": "stdout",
     "output_type": "stream",
     "text": [
      "--ADDING H TO F--\n",
      "Added node to right of root (F.right = H)\n",
      "\n",
      "(F, 1)__\n",
      "        \\\n",
      "       (H, 2)\n",
      "\n",
      "--ADDING B TO F--\n",
      "Added node to left of root (F.left = B)\n",
      "\n",
      "    ___(F, 1)__\n",
      "   /           \\\n",
      "(B, 3)        (H, 2)\n",
      "\n",
      "--ADDING A TO F--\n",
      "\tGoing one layer down on the left from F for A\n",
      "--ADDING A TO B--\n",
      "Added node to left of root (B.left = A)\n",
      "\n",
      "            ___(F, 1)__\n",
      "           /           \\\n",
      "     ___(B, 3)        (H, 2)\n",
      "    /\n",
      "(A, 10)\n",
      "\n",
      "--ADDING E TO F--\n",
      "\tGoing one layer down on the left from F for E\n",
      "--ADDING E TO B--\n",
      "Added node to right of root (B.right = E)\n",
      "\n",
      "            __________(F, 1)__\n",
      "           /                  \\\n",
      "     ___(B, 3)__             (H, 2)\n",
      "    /           \\\n",
      "(A, 10)        (E, 6)\n",
      "\n",
      "--ADDING C TO F--\n",
      "\tGoing one layer down on the left from F for C\n",
      "--ADDING C TO B--\n",
      "\tGoing one layer down on the right from B for C\n",
      "--ADDING C TO E--\n",
      "Added node to left of root (E.left = C)\n",
      "\n",
      "            _________________(F, 1)__\n",
      "           /                         \\\n",
      "     ___(B, 3)_________             (H, 2)\n",
      "    /                  \\\n",
      "(A, 10)            ___(E, 6)\n",
      "                  /\n",
      "               (C, 7)\n",
      "\n",
      "--ADDING J TO F--\n",
      "\tGoing one layer down on the right from F for J\n",
      "--ADDING J TO H--\n",
      "Added node to right of root (H.right = J)\n",
      "\n",
      "            _________________(F, 1)__\n",
      "           /                         \\\n",
      "     ___(B, 3)_________             (H, 2)__\n",
      "    /                  \\                    \\\n",
      "(A, 10)            ___(E, 6)               (J, 8)\n",
      "                  /\n",
      "               (C, 7)\n",
      "\n",
      "--ADDING G TO F--\n",
      "\tGoing one layer down on the right from F for G\n",
      "--ADDING G TO H--\n",
      "Added node to left of root (H.left = G)\n",
      "\n",
      "            _________________(F, 1)_________\n",
      "           /                                \\\n",
      "     ___(B, 3)_________                 ___(H, 2)__\n",
      "    /                  \\               /           \\\n",
      "(A, 10)            ___(E, 6)        (G, 9)        (J, 8)\n",
      "                  /\n",
      "               (C, 7)\n",
      "\n",
      "--ADDING I TO F--\n",
      "\tGoing one layer down on the right from F for I\n",
      "--ADDING I TO H--\n",
      "\tGoing one layer down on the right from H for I\n",
      "--ADDING I TO J--\n",
      "Added node above root (I.right = J)\n",
      "\n",
      "            _________________(F, 1)_________\n",
      "           /                                \\\n",
      "     ___(B, 3)_________                 ___(H, 2)__\n",
      "    /                  \\               /           \\\n",
      "(A, 10)            ___(E, 6)        (G, 9)        (I, 5)__\n",
      "                  /                                       \\\n",
      "               (C, 7)                                    (J, 8)\n",
      "\n",
      "--ADDING D TO F--\n",
      "\tGoing one layer down on the left from F for D\n",
      "--ADDING D TO B--\n",
      "\tGoing one layer down on the right from B for D\n",
      "--ADDING D TO E--\n",
      "Added node above root (D.right = E)\n",
      "Fixed left child\n",
      "\n",
      "            ________________________(F, 1)_________\n",
      "           /                                       \\\n",
      "     ___(B, 3)_________                        ___(H, 2)__\n",
      "    /                  \\                      /           \\\n",
      "(A, 10)            ___(D, 4)__             (G, 9)        (I, 5)__\n",
      "                  /           \\                                  \\\n",
      "               (C, 7)        (E, 6)                             (J, 8)\n",
      "\n"
     ]
    }
   ],
   "source": [
    "examplenodes = \"(F : 1),(H : 2),(B : 3),(A : 10),(E : 6),(C : 7),(J : 8),(G : 9),(I : 5),(D : 4)\"\n",
    "nodes3 = nodes_from_string(examplenodes)\n",
    "\n",
    "root3 = nodes3[0]\n",
    "\n",
    "for i in range(1, len(nodes3)):\n",
    "    root3 = insert_node(root3, nodes3[i])\n",
    "    print(convert_to_printable(root3))"
   ]
  },
  {
   "cell_type": "code",
   "execution_count": null,
   "metadata": {},
   "outputs": [],
   "source": []
  },
  {
   "cell_type": "code",
   "execution_count": null,
   "metadata": {},
   "outputs": [],
   "source": []
  },
  {
   "cell_type": "code",
   "execution_count": null,
   "metadata": {},
   "outputs": [],
   "source": []
  },
  {
   "cell_type": "code",
   "execution_count": null,
   "metadata": {},
   "outputs": [],
   "source": []
  },
  {
   "cell_type": "code",
   "execution_count": null,
   "metadata": {},
   "outputs": [],
   "source": []
  },
  {
   "cell_type": "code",
   "execution_count": null,
   "metadata": {},
   "outputs": [],
   "source": []
  }
 ],
 "metadata": {
  "kernelspec": {
   "display_name": "Python 3",
   "language": "python",
   "name": "python3"
  },
  "language_info": {
   "codemirror_mode": {
    "name": "ipython",
    "version": 3
   },
   "file_extension": ".py",
   "mimetype": "text/x-python",
   "name": "python",
   "nbconvert_exporter": "python",
   "pygments_lexer": "ipython3",
   "version": "3.10.11"
  }
 },
 "nbformat": 4,
 "nbformat_minor": 2
}
